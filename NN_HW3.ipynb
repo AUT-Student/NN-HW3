{
  "nbformat": 4,
  "nbformat_minor": 0,
  "metadata": {
    "colab": {
      "name": "NN-HW3.ipynb",
      "provenance": [],
      "collapsed_sections": [
        "CdO_O8ws5wPh",
        "HJpVmTbPlUOS",
        "AW_-4dPPlZf1"
      ],
      "toc_visible": true,
      "authorship_tag": "ABX9TyNJ5qWHKre2TN3SVJ+yO/PH",
      "include_colab_link": true
    },
    "kernelspec": {
      "name": "python3",
      "display_name": "Python 3"
    },
    "language_info": {
      "name": "python"
    }
  },
  "cells": [
    {
      "cell_type": "markdown",
      "metadata": {
        "id": "view-in-github",
        "colab_type": "text"
      },
      "source": [
        "<a href=\"https://colab.research.google.com/github/AUT-Student/NN-HW3/blob/main/NN_HW3.ipynb\" target=\"_parent\"><img src=\"https://colab.research.google.com/assets/colab-badge.svg\" alt=\"Open In Colab\"/></a>"
      ]
    },
    {
      "cell_type": "markdown",
      "source": [
        "# Libraries"
      ],
      "metadata": {
        "id": "slLXpefU8jnK"
      }
    },
    {
      "cell_type": "code",
      "source": [
        "import pandas as pd\n",
        "import tensorflow as tf\n",
        "import numpy as np\n",
        "import tensorflow.keras as keras"
      ],
      "metadata": {
        "id": "j5_bZGnS8izB"
      },
      "execution_count": 8,
      "outputs": []
    },
    {
      "cell_type": "markdown",
      "source": [
        "# Dataset"
      ],
      "metadata": {
        "id": "f2F3uD7W8KMH"
      }
    },
    {
      "cell_type": "code",
      "execution_count": 7,
      "metadata": {
        "id": "xwyeeLyzCMF-",
        "colab": {
          "base_uri": "https://localhost:8080/"
        },
        "outputId": "6aceabc9-4008-47f2-94b0-38cb32788b53"
      },
      "outputs": [
        {
          "output_type": "stream",
          "name": "stdout",
          "text": [
            "Downloading...\n",
            "From: https://archive.ics.uci.edu/ml/machine-learning-databases/00240/UCI%20HAR%20Dataset.zip\n",
            "To: /content/Dataset.zip\n",
            "100% 61.0M/61.0M [00:03<00:00, 17.8MB/s]\n"
          ]
        }
      ],
      "source": [
        "!gdown https://archive.ics.uci.edu/ml/machine-learning-databases/00240/UCI%20HAR%20Dataset.zip -O \"/content/Dataset.zip\""
      ]
    },
    {
      "cell_type": "code",
      "source": [
        "!unzip /content/Dataset.zip"
      ],
      "metadata": {
        "colab": {
          "base_uri": "https://localhost:8080/"
        },
        "id": "NDM9CJlO8vzQ",
        "outputId": "0f26cc95-aaff-4cb1-a2a3-7c0a319014a9"
      },
      "execution_count": 10,
      "outputs": [
        {
          "output_type": "stream",
          "name": "stdout",
          "text": [
            "Archive:  /content/Dataset.zip\n",
            "replace UCI HAR Dataset/.DS_Store? [y]es, [n]o, [A]ll, [N]one, [r]ename:  NULL\n",
            "(EOF or read error, treating as \"[N]one\" ...)\n"
          ]
        }
      ]
    },
    {
      "cell_type": "code",
      "source": [
        "!gdown https://archive.ics.uci.edu/ml/machine-learning-databases/00240/UCI%20HAR%20Dataset.names -O \"/content/Dataset.names\""
      ],
      "metadata": {
        "colab": {
          "base_uri": "https://localhost:8080/"
        },
        "id": "7js37rWe8tck",
        "outputId": "a166abe3-8ffd-48e4-c95c-96822b913bf6"
      },
      "execution_count": 11,
      "outputs": [
        {
          "output_type": "stream",
          "name": "stdout",
          "text": [
            "Downloading...\n",
            "From: https://archive.ics.uci.edu/ml/machine-learning-databases/00240/UCI%20HAR%20Dataset.names\n",
            "To: /content/Dataset.names\n",
            "\r  0% 0.00/6.30k [00:00<?, ?B/s]\r100% 6.30k/6.30k [00:00<00:00, 11.3MB/s]\n"
          ]
        }
      ]
    },
    {
      "cell_type": "code",
      "source": [
        "!cat \"/content/Dataset.names\""
      ],
      "metadata": {
        "colab": {
          "base_uri": "https://localhost:8080/"
        },
        "id": "oINwMqh094xN",
        "outputId": "807ec828-4590-46fc-d12f-5aad15483709"
      },
      "execution_count": 12,
      "outputs": [
        {
          "output_type": "stream",
          "name": "stdout",
          "text": [
            "===================================================================================================\r\n",
            "Human Activity Recognition Using Smartphones Dataset\r\n",
            "Version 1.0\r\n",
            "===================================================================================================\r\n",
            "Jorge L. Reyes-Ortiz(1,2), Davide Anguita(1), Alessandro Ghio(1), Luca Oneto(1) and Xavier Parra(2)\r\n",
            "1 - Smartlab - Non-Linear Complex Systems Laboratory\r\n",
            "DITEN - Universit�  degli Studi di Genova, Genoa (I-16145), Italy. \r\n",
            "2 - CETpD - Technical Research Centre for Dependency Care and Autonomous Living\r\n",
            "Universitat Polit�cnica de Catalunya (BarcelonaTech). Vilanova i la Geltr� (08800), Spain\r\n",
            "activityrecognition '@' smartlab.ws \r\n",
            "===================================================================================================\r\n",
            "\r\n",
            "The experiments have been carried out with a group of 30 volunteers within an age bracket of 19-48 years. Each person performed six activities (WALKING, WALKING_UPSTAIRS, WALKING_DOWNSTAIRS, SITTING, STANDING, LAYING) wearing a smartphone (Samsung Galaxy S II) on the waist. Using its embedded accelerometer and gyroscope, we captured 3-axial linear acceleration and 3-axial angular velocity at a constant rate of 50Hz. The experiments have been video-recorded to label the data manually. The obtained dataset has been randomly partitioned into two sets, where 70% of the volunteers was selected for generating the training data and 30% the test data. \r\n",
            "\r\n",
            "The sensor signals (accelerometer and gyroscope) were pre-processed by applying noise filters and then sampled in fixed-width sliding windows of 2.56 sec and 50% overlap (128 readings/window). The sensor acceleration signal, which has gravitational and body motion components, was separated using a Butterworth low-pass filter into body acceleration and gravity. The gravitational force is assumed to have only low frequency components, therefore a filter with 0.3 Hz cutoff frequency was used. From each window, a vector of features was obtained by calculating variables from the time and frequency domain. See 'features_info.txt' for more details. \r\n",
            "\r\n",
            "For each record it is provided:\r\n",
            "======================================\r\n",
            "\r\n",
            "- Triaxial acceleration from the accelerometer (total acceleration) and the estimated body acceleration.\r\n",
            "- Triaxial Angular velocity from the gyroscope. \r\n",
            "- A 561-feature vector with time and frequency domain variables. \r\n",
            "- Its activity label. \r\n",
            "- An identifier of the subject who carried out the experiment.\r\n",
            "\r\n",
            "The dataset includes the following files:\r\n",
            "=========================================\r\n",
            "\r\n",
            "- 'README.txt'\r\n",
            "\r\n",
            "- 'features_info.txt': Shows information about the variables used on the feature vector.\r\n",
            "\r\n",
            "- 'features.txt': List of all features.\r\n",
            "\r\n",
            "- 'activity_labels.txt': Links the class labels with their activity name.\r\n",
            "\r\n",
            "- 'train/X_train.txt': Training set.\r\n",
            "\r\n",
            "- 'train/y_train.txt': Training labels.\r\n",
            "\r\n",
            "- 'test/X_test.txt': Test set.\r\n",
            "\r\n",
            "- 'test/y_test.txt': Test labels.\r\n",
            "\r\n",
            "The following files are available for the train and test data. Their descriptions are equivalent. \r\n",
            "\r\n",
            "- 'train/subject_train.txt': Each row identifies the subject who performed the activity for each window sample. Its range is from 1 to 30. \r\n",
            "\r\n",
            "- 'train/Inertial Signals/total_acc_x_train.txt': The acceleration signal from the smartphone accelerometer X axis in standard gravity units 'g'. Every row shows a 128 element vector. The same description applies for the 'total_acc_x_train.txt' and 'total_acc_z_train.txt' files for the Y and Z axis. \r\n",
            "\r\n",
            "- 'train/Inertial Signals/body_acc_x_train.txt': The body acceleration signal obtained by subtracting the gravity from the total acceleration. \r\n",
            "\r\n",
            "- 'train/Inertial Signals/body_gyro_x_train.txt': The angular velocity vector measured by the gyroscope for each window sample. The units are radians/second. \r\n",
            "\r\n",
            "Notes: \r\n",
            "======\r\n",
            "- Features are normalized and bounded within [-1,1].\r\n",
            "- Each feature vector is a row on the text file.\r\n",
            "- The units used for the accelerations (total and body) are 'g's (gravity of earth -> 9.80665 m/seg2).\r\n",
            "- The gyroscope units are rad/seg.\r\n",
            "- A video of the experiment including an example of the 6 recorded activities with one of the participants can be seen in the following link: http://www.youtube.com/watch?v=XOEN9W05_4A\r\n",
            "\r\n",
            "For more information about this dataset please contact: activityrecognition '@' smartlab.ws\r\n",
            "\r\n",
            "License:\r\n",
            "========\r\n",
            "Use of this dataset in publications must be acknowledged by referencing the following publication [1] \r\n",
            "\r\n",
            "[1] Davide Anguita, Alessandro Ghio, Luca Oneto, Xavier Parra and Jorge L. Reyes-Ortiz. A Public Domain Dataset for Human Activity Recognition Using Smartphones. 21th European Symposium on Artificial Neural Networks, Computational Intelligence and Machine Learning, ESANN 2013. Bruges, Belgium 24-26 April 2013. \r\n",
            "\r\n",
            "This dataset is distributed AS-IS and no responsibility implied or explicit can be addressed to the authors or their institutions for its use or misuse. Any commercial use is prohibited.\r\n",
            "\r\n",
            "Other Related Publications:\r\n",
            "===========================\r\n",
            "[2] Davide Anguita, Alessandro Ghio, Luca Oneto, Xavier Parra, Jorge L. Reyes-Ortiz.  Energy Efficient Smartphone-Based Activity Recognition using Fixed-Point Arithmetic. Journal of Universal Computer Science. Special Issue in Ambient Assisted Living: Home Care.   Volume 19, Issue 9. May 2013\r\n",
            "\r\n",
            "[3] Davide Anguita, Alessandro Ghio, Luca Oneto, Xavier Parra and Jorge L. Reyes-Ortiz. Human Activity Recognition on Smartphones using a Multiclass Hardware-Friendly Support Vector Machine. 4th International Workshop of Ambient Assited Living, IWAAL 2012, Vitoria-Gasteiz, Spain, December 3-5, 2012. Proceedings. Lecture Notes in Computer Science 2012, pp 216-223. \r\n",
            "\r\n",
            "[4] Jorge Luis Reyes-Ortiz, Alessandro Ghio, Xavier Parra-Llanas, Davide Anguita, Joan Cabestany, Andreu Catal�. Human Activity and Motion Disorder Recognition: Towards Smarter Interactive Cognitive Environments. 21th European Symposium on Artificial Neural Networks, Computational Intelligence and Machine Learning, ESANN 2013. Bruges, Belgium 24-26 April 2013.  \r\n",
            "\r\n",
            "==================================================================================================\r\n",
            "Jorge L. Reyes-Ortiz, Alessandro Ghio, Luca Oneto, Davide Anguita and Xavier Parra. November 2013.\r\n"
          ]
        }
      ]
    },
    {
      "cell_type": "code",
      "source": [
        "!cat \"/content/UCI HAR Dataset/activity_labels.txt\""
      ],
      "metadata": {
        "colab": {
          "base_uri": "https://localhost:8080/"
        },
        "id": "HlHR2zgU-Yk3",
        "outputId": "a4d3f9a5-c144-4627-a77a-e05e840e8911"
      },
      "execution_count": 13,
      "outputs": [
        {
          "output_type": "stream",
          "name": "stdout",
          "text": [
            "1 WALKING\n",
            "2 WALKING_UPSTAIRS\n",
            "3 WALKING_DOWNSTAIRS\n",
            "4 SITTING\n",
            "5 STANDING\n",
            "6 LAYING\n"
          ]
        }
      ]
    },
    {
      "cell_type": "code",
      "source": [
        "X_train = pd.read_csv(\"/content/UCI HAR Dataset/train/X_train.txt\", delimiter=r\"\\s+\", header=None)\n",
        "X_test = pd.read_csv(\"/content/UCI HAR Dataset/test/X_test.txt\", delimiter=r\"\\s+\", header=None)\n",
        "y_train = pd.read_csv(\"/content/UCI HAR Dataset/train/y_train.txt\", delimiter=r\"\\s+\", header=None)\n",
        "y_test = pd.read_csv(\"/content/UCI HAR Dataset/test/y_test.txt\", delimiter=r\"\\s+\", header=None)"
      ],
      "metadata": {
        "id": "V3JPy5L5qgHW"
      },
      "execution_count": 14,
      "outputs": []
    },
    {
      "cell_type": "code",
      "source": [
        "X_train[\"Class\"] = y_train\n",
        "X_test[\"Class\"] = y_test"
      ],
      "metadata": {
        "id": "ehah1xhWFG1E"
      },
      "execution_count": 15,
      "outputs": []
    },
    {
      "cell_type": "code",
      "source": [
        "X_valid, X_train = np.split(X_train.sample(frac=1, random_state=0), [int(.125*len(X_train))])"
      ],
      "metadata": {
        "id": "eFqW_pxw_2Yk"
      },
      "execution_count": 16,
      "outputs": []
    },
    {
      "cell_type": "code",
      "source": [
        "y_train = X_train[\"Class\"]\n",
        "X_train = X_train.drop(columns=[\"Class\"])\n",
        "\n",
        "y_valid = X_valid[\"Class\"]\n",
        "X_valid = X_valid.drop(columns=[\"Class\"])"
      ],
      "metadata": {
        "id": "pGez1UEkH119"
      },
      "execution_count": 17,
      "outputs": []
    },
    {
      "cell_type": "code",
      "source": [
        "y_train = y_train.apply(lambda x:x-1)\n",
        "y_test = y_test.apply(lambda x:x-1)\n",
        "y_valid = y_valid.apply(lambda x:x-1)"
      ],
      "metadata": {
        "id": "6pUkZ-WvQxoB"
      },
      "execution_count": 18,
      "outputs": []
    },
    {
      "cell_type": "markdown",
      "source": [
        "# MLP Classifer"
      ],
      "metadata": {
        "id": "CdO_O8ws5wPh"
      }
    },
    {
      "cell_type": "code",
      "source": [
        "class MLPModel(keras.Model):\n",
        "  def __init__(self, number_hidden_layers, number_hidden_units):\n",
        "    super().__init__()\n",
        "\n",
        "    if number_hidden_layers<0:\n",
        "      raise Exception(\"The number of hidden layers must be a non-negetive number\")\n",
        "\n",
        "    if number_hidden_layers != len(number_hidden_units):\n",
        "      raise Exception(\"The number of hidden layers must equal to the length of the number of hidden units list\")\n",
        "\n",
        "    self.model = keras.models.Sequential()\n",
        "\n",
        "    for i in range(number_hidden_layers):\n",
        "      self.model.add(keras.layers.Dense(units=number_hidden_units[i], activation=\"relu\", name=f\"Dense_Layer_{i+1}\"))\n",
        "\n",
        "    self.model.add(keras.layers.Dense(6, activation=\"softmax\", name=\"Output_Layer\"))\n",
        "\n",
        "  def call(self, inputs):\n",
        "    return self.model(inputs)"
      ],
      "metadata": {
        "id": "MrD12o6V2KpU"
      },
      "execution_count": 79,
      "outputs": []
    },
    {
      "cell_type": "code",
      "source": [
        "def train_and_evaluate(number_hidden_layers, number_hidden_units, learning_rate):\n",
        "  es_callback = keras.callbacks.EarlyStopping(monitor=\"val_loss\", restore_best_weights=True, patience=5)\n",
        "\n",
        "  model = MLPModel(number_hidden_layers=number_hidden_layers, number_hidden_units=number_hidden_units)\n",
        "\n",
        "  opt = tf.keras.optimizers.Adam(learning_rate=learning_rate)\n",
        "  \n",
        "  model.compile(optimizer=opt, loss=\"sparse_categorical_crossentropy\", metrics=[\"accuracy\"])\n",
        "\n",
        "  model.fit(x=X_train, y=y_train, epochs=30, validation_data=(X_valid, y_valid), verbose=0, callbacks=[es_callback])\n",
        "\n",
        "  train_accuracy = model.evaluate(X_train, y_train, verbose=0)[1]\n",
        "  validation_accuracy = model.evaluate(X_valid, y_valid, verbose=0)[1]\n",
        "\n",
        "  print(f\"Train = {round(train_accuracy*100, 2)}, Validation = {round(validation_accuracy*100, 2)}\")"
      ],
      "metadata": {
        "id": "FEgCM9BW7kat"
      },
      "execution_count": 123,
      "outputs": []
    },
    {
      "cell_type": "markdown",
      "source": [
        "# Learning Rate Fine-tuning"
      ],
      "metadata": {
        "id": "HJpVmTbPlUOS"
      }
    },
    {
      "cell_type": "code",
      "source": [
        "for learning_rate in [0.0001, 0.0005, 0.001, 0.003, 0.005, 0.01, 0.1]:\n",
        "  print(f\"Learning Rate = {learning_rate}\")\n",
        "  train_and_evaluate(number_hidden_layers=3, number_hidden_units=[128, 64, 32], learning_rate=0.001)\n",
        "  print(\"\")"
      ],
      "metadata": {
        "colab": {
          "base_uri": "https://localhost:8080/"
        },
        "id": "V5OGkKLNifjj",
        "outputId": "a8f46aad-d80b-45df-e932-f1f6dacd3e41"
      },
      "execution_count": 124,
      "outputs": [
        {
          "output_type": "stream",
          "name": "stdout",
          "text": [
            "Learning Rate = 0.0001\n",
            "Train = 98.83, Validation = 97.71\n",
            "\n",
            "Learning Rate = 0.0005\n",
            "Train = 98.85, Validation = 97.82\n",
            "\n",
            "Learning Rate = 0.001\n",
            "Train = 97.95, Validation = 96.52\n",
            "\n",
            "Learning Rate = 0.003\n",
            "Train = 98.8, Validation = 98.04\n",
            "\n",
            "Learning Rate = 0.005\n",
            "Train = 98.4, Validation = 97.17\n",
            "\n",
            "Learning Rate = 0.01\n",
            "Train = 98.77, Validation = 97.93\n",
            "\n",
            "Learning Rate = 0.1\n",
            "Train = 98.57, Validation = 97.93\n",
            "\n"
          ]
        }
      ]
    },
    {
      "cell_type": "markdown",
      "source": [
        "# Number Layer and Number Neuron Fine-tuning"
      ],
      "metadata": {
        "id": "AW_-4dPPlZf1"
      }
    },
    {
      "cell_type": "code",
      "source": [
        "train_and_evaluate(number_hidden_layers=0, number_hidden_units=[], learning_rate=0.003)\n",
        "print(\"\")"
      ],
      "metadata": {
        "colab": {
          "base_uri": "https://localhost:8080/"
        },
        "id": "wNEc3An_i0uz",
        "outputId": "aadfe69a-f222-46cf-da5f-64a3b0a0af13"
      },
      "execution_count": 125,
      "outputs": [
        {
          "output_type": "stream",
          "name": "stdout",
          "text": [
            "Train = 98.82, Validation = 97.93\n",
            "\n"
          ]
        }
      ]
    },
    {
      "cell_type": "code",
      "source": [
        "for number_hidden_units in [[32], [64], [128]]:\n",
        "  print(f\"number_hidden_units = {number_hidden_units}\")\n",
        "  train_and_evaluate(number_hidden_layers=1, number_hidden_units=number_hidden_units, learning_rate=0.003)\n",
        "  print(\"\")"
      ],
      "metadata": {
        "colab": {
          "base_uri": "https://localhost:8080/"
        },
        "id": "ySIXtRVvlR01",
        "outputId": "3a002eb4-411c-4dec-b507-2f4b440859a1"
      },
      "execution_count": 126,
      "outputs": [
        {
          "output_type": "stream",
          "name": "stdout",
          "text": [
            "number_hidden_units = [32]\n",
            "Train = 98.96, Validation = 97.93\n",
            "\n",
            "number_hidden_units = [64]\n",
            "Train = 98.87, Validation = 97.82\n",
            "\n",
            "number_hidden_units = [128]\n",
            "Train = 98.87, Validation = 98.04\n",
            "\n"
          ]
        }
      ]
    },
    {
      "cell_type": "code",
      "source": [
        "for number_hidden_units in [\n",
        "                            [32, 32], [64, 32], [128, 128]\n",
        "                            ]:\n",
        "  print(f\"number_hidden_units = {number_hidden_units}\")\n",
        "  train_and_evaluate(number_hidden_layers=2, number_hidden_units=number_hidden_units, learning_rate=0.003)\n",
        "  print(\"\")"
      ],
      "metadata": {
        "colab": {
          "base_uri": "https://localhost:8080/"
        },
        "id": "IoDRMe3-l79A",
        "outputId": "17de5942-3702-42da-c709-e5c88edd04ad"
      },
      "execution_count": 127,
      "outputs": [
        {
          "output_type": "stream",
          "name": "stdout",
          "text": [
            "number_hidden_units = [32, 32]\n",
            "Train = 98.87, Validation = 98.26\n",
            "\n",
            "number_hidden_units = [64, 32]\n",
            "Train = 98.4, Validation = 97.06\n",
            "\n",
            "number_hidden_units = [128, 128]\n",
            "Train = 97.28, Validation = 96.63\n",
            "\n"
          ]
        }
      ]
    },
    {
      "cell_type": "code",
      "source": [
        "for number_hidden_units in [\n",
        "                            [64, 32, 32], [64, 64, 64], [128, 64, 32]\n",
        "                            ]:\n",
        "  print(f\"number_hidden_units = {number_hidden_units}\")\n",
        "  train_and_evaluate(number_hidden_layers=3, number_hidden_units=number_hidden_units, learning_rate=0.003)\n",
        "  print(\"\")"
      ],
      "metadata": {
        "colab": {
          "base_uri": "https://localhost:8080/"
        },
        "id": "Vg4yKaXemQJu",
        "outputId": "90586100-816b-435d-b9bb-ef90f3136c95"
      },
      "execution_count": 128,
      "outputs": [
        {
          "output_type": "stream",
          "name": "stdout",
          "text": [
            "number_hidden_units = [64, 32, 32]\n",
            "Train = 98.49, Validation = 97.71\n",
            "\n",
            "number_hidden_units = [64, 64, 64]\n",
            "Train = 98.15, Validation = 97.39\n",
            "\n",
            "number_hidden_units = [128, 64, 32]\n",
            "Train = 98.26, Validation = 97.28\n",
            "\n"
          ]
        }
      ]
    },
    {
      "cell_type": "code",
      "source": [
        "for number_hidden_units in [\n",
        "                            [128, 128, 64, 64], [128, 64, 32, 16], [128, 64, 32, 64]\n",
        "                            ]:\n",
        "  print(f\"number_hidden_units = {number_hidden_units}\")\n",
        "  train_and_evaluate(number_hidden_layers=4, number_hidden_units=number_hidden_units, learning_rate=0.05)\n",
        "  print(\"\")"
      ],
      "metadata": {
        "colab": {
          "base_uri": "https://localhost:8080/"
        },
        "id": "-cRFD9AFmaDH",
        "outputId": "347173c5-6496-488e-d248-97b970f34093"
      },
      "execution_count": 129,
      "outputs": [
        {
          "output_type": "stream",
          "name": "stdout",
          "text": [
            "number_hidden_units = [128, 128, 64, 64]\n",
            "Train = 18.76, Validation = 18.17\n",
            "\n",
            "number_hidden_units = [128, 64, 32, 16]\n",
            "Train = 52.45, Validation = 50.82\n",
            "\n",
            "number_hidden_units = [128, 64, 32, 64]\n",
            "Train = 18.76, Validation = 18.17\n",
            "\n"
          ]
        }
      ]
    },
    {
      "cell_type": "markdown",
      "source": [
        "# SOM"
      ],
      "metadata": {
        "id": "19ALn6EJrSdz"
      }
    },
    {
      "cell_type": "code",
      "source": [
        "class SOM():\n",
        "  def __init__(self, number_epochs, map_size, number_features,\n",
        "               initial_learning_rate, initial_neighbor_strength,\n",
        "               raduis_neighbor,\n",
        "               learning_rate_decay, neighbor_strength_decay):\n",
        "    \n",
        "    self.number_epochs = number_epochs\n",
        "    self.map_size = map_size\n",
        "    self.number_features = number_features\n",
        "    self.learning_rate = initial_learning_rate\n",
        "    self.neighbor_strength = initial_neighbor_strength\n",
        "    self.raduis_neighbor = raduis_neighbor\n",
        "    self.learning_rate_decay = learning_rate_decay\n",
        "    self.neighbor_strength_decay = neighbor_strength_decay\n",
        "    self.weight = np.random.random((self.map_size[0], self.map_size[1], self.number_features))\n",
        "\n",
        "  def train(self, X_train):\n",
        "    for epoch in range(self.number_epochs):\n",
        "      print(f\"epoch = {epoch}\")\n",
        "      for i, row in enumerate(X_train):\n",
        "        NS = self.get_NS(row)\n",
        "        self.update_weights(NS, row)\n",
        "\n",
        "      self.learning_rate *= self.learning_rate_decay\n",
        "      self.neighbor_strength *= self.neighbor_strength_decay\n",
        "\n",
        "  def get_NS(self, row):\n",
        "    winner_distance = np.inf\n",
        "    winner = (None, None)\n",
        "\n",
        "    for i in range(self.map_size[0]):\n",
        "      for j in range(self.map_size[1]):\n",
        "        neuron_weight = self.weight[i][j]\n",
        "        neuron_distance = self.distance(neuron_weight, row)\n",
        "        \n",
        "        if neuron_distance < winner_distance:\n",
        "          winner_distance = neuron_distance\n",
        "          winner = (i, j)\n",
        "    \n",
        "    winner_weight = self.weight[winner]\n",
        "\n",
        "    NS = np.zeros(self.map_size)\n",
        "\n",
        "    for i in range(self.map_size[0]):\n",
        "      for j in range(self.map_size[1]):\n",
        "        neuron_weight = self.weight[i][j]\n",
        "        neuron_distance = self.distance(neuron_weight, winner_weight)\n",
        "        if neuron_distance < self.raduis_neighbor:\n",
        "          NS[i][j] = 1-neuron_distance/self.raduis_neighbor\n",
        "    \n",
        "    return NS\n",
        "\n",
        "  def update_weights(self, NS, row):\n",
        "    for i in range(self.map_size[0]):\n",
        "      for j in range(self.map_size[1]):\n",
        "        self.weight[i][j] += NS[i][j] * self.learning_rate * self.distance(row, self.weight[i][j])\n",
        "\n",
        "  def visualize(self):\n",
        "    pass\n",
        "\n",
        "  @staticmethod\n",
        "  def distance(array1, array2):\n",
        "    return np.linalg.norm(array1 - array2)"
      ],
      "metadata": {
        "id": "4xW0sGOGn85x"
      },
      "execution_count": 93,
      "outputs": []
    },
    {
      "cell_type": "code",
      "source": [
        "som = SOM(number_epochs=10, map_size=(9, 9), number_features=len(X_train.columns),\n",
        "               initial_learning_rate=0.0001, initial_neighbor_strength=0.1,\n",
        "               raduis_neighbor=20.0,\n",
        "               learning_rate_decay=0.9, neighbor_strength_decay=0.9)"
      ],
      "metadata": {
        "id": "FtrpL06V405j"
      },
      "execution_count": 94,
      "outputs": []
    },
    {
      "cell_type": "code",
      "source": [
        "som.train(X_train.to_numpy())"
      ],
      "metadata": {
        "colab": {
          "base_uri": "https://localhost:8080/"
        },
        "id": "qmcywJCYD-xM",
        "outputId": "118a2cf8-4788-4b85-f8ad-4ac64a44f480"
      },
      "execution_count": 95,
      "outputs": [
        {
          "output_type": "stream",
          "name": "stdout",
          "text": [
            "epoch = 0\n",
            "epoch = 1\n",
            "epoch = 2\n",
            "epoch = 3\n",
            "epoch = 4\n",
            "epoch = 5\n",
            "epoch = 6\n",
            "epoch = 7\n",
            "epoch = 8\n",
            "epoch = 9\n"
          ]
        }
      ]
    },
    {
      "cell_type": "code",
      "source": [
        "som.weight"
      ],
      "metadata": {
        "colab": {
          "base_uri": "https://localhost:8080/"
        },
        "id": "sUENhn_eEEOb",
        "outputId": "69d98387-7aef-4fbb-ffdb-568d75398432"
      },
      "execution_count": 96,
      "outputs": [
        {
          "output_type": "execute_result",
          "data": {
            "text/plain": [
              "array([[[50752.58745165, 50753.36608935, 50752.65081598, ...,\n",
              "         50752.75434189, 50752.73495598, 50752.95445508],\n",
              "        [50739.15970881, 50739.05602149, 50739.46190114, ...,\n",
              "         50739.53520669, 50738.82992903, 50738.96856949],\n",
              "        [50760.7241821 , 50760.81319263, 50760.16481522, ...,\n",
              "         50760.57230655, 50760.1152562 , 50760.03199663],\n",
              "        ...,\n",
              "        [50747.62561719, 50747.87427408, 50747.75024272, ...,\n",
              "         50747.88427086, 50747.49804552, 50748.30835376],\n",
              "        [50761.63004684, 50762.02033929, 50762.48742447, ...,\n",
              "         50762.08101565, 50761.63734287, 50761.91101642],\n",
              "        [50743.73932585, 50742.96151056, 50743.00237789, ...,\n",
              "         50742.86767201, 50743.73167002, 50742.77513016]],\n",
              "\n",
              "       [[50731.89432477, 50731.92654993, 50731.77435665, ...,\n",
              "         50731.44874876, 50731.24842422, 50731.25198817],\n",
              "        [50763.40401792, 50763.50065667, 50763.95737084, ...,\n",
              "         50763.53955972, 50763.05186218, 50763.35383503],\n",
              "        [50732.61100442, 50732.08994993, 50731.77125013, ...,\n",
              "         50732.66106091, 50732.16253607, 50732.56380865],\n",
              "        ...,\n",
              "        [50766.30013925, 50765.98983904, 50765.94200716, ...,\n",
              "         50765.85545206, 50766.58649349, 50765.82297745],\n",
              "        [50755.93617011, 50755.98390428, 50756.87427097, ...,\n",
              "         50756.50131646, 50756.44955978, 50756.74413086],\n",
              "        [50736.01270021, 50735.17945983, 50735.71166742, ...,\n",
              "         50735.13303001, 50735.23598748, 50735.59470389]],\n",
              "\n",
              "       [[50747.4791201 , 50746.70618175, 50747.48391237, ...,\n",
              "         50746.66959502, 50747.30848423, 50746.62798325],\n",
              "        [50744.78710128, 50745.13131471, 50744.86261832, ...,\n",
              "         50745.6898489 , 50744.87008318, 50745.68211634],\n",
              "        [50771.53944493, 50771.31732322, 50771.0627402 , ...,\n",
              "         50771.54284053, 50771.28801541, 50771.14965981],\n",
              "        ...,\n",
              "        [50737.52269623, 50738.10504369, 50737.5748505 , ...,\n",
              "         50738.16784256, 50737.87387812, 50737.91045292],\n",
              "        [50757.77891111, 50757.30102641, 50757.73116424, ...,\n",
              "         50757.25375042, 50757.15653905, 50756.97570347],\n",
              "        [50749.12047754, 50749.76156983, 50749.01965665, ...,\n",
              "         50749.74927836, 50749.19213052, 50749.77928595]],\n",
              "\n",
              "       ...,\n",
              "\n",
              "       [[50744.82692194, 50745.52383843, 50745.28382335, ...,\n",
              "         50744.66788296, 50745.25433843, 50745.56750421],\n",
              "        [50773.4712436 , 50774.01551181, 50774.24097653, ...,\n",
              "         50773.96511157, 50773.34360536, 50773.79718621],\n",
              "        [50741.69344944, 50741.29385131, 50741.67725206, ...,\n",
              "         50741.48862093, 50741.13270179, 50741.83323707],\n",
              "        ...,\n",
              "        [50750.53945119, 50750.45126988, 50750.94489679, ...,\n",
              "         50750.06972891, 50750.92987557, 50750.90659499],\n",
              "        [50751.11672495, 50750.41817493, 50750.8837237 , ...,\n",
              "         50751.03736002, 50751.09640844, 50750.95286752],\n",
              "        [50732.29021563, 50732.07348133, 50732.65371037, ...,\n",
              "         50731.90955455, 50732.30843146, 50732.44215577]],\n",
              "\n",
              "       [[50752.26675263, 50751.75161021, 50751.9916258 , ...,\n",
              "         50751.7177255 , 50752.55544459, 50751.71139162],\n",
              "        [50733.02510398, 50732.84722439, 50732.62258303, ...,\n",
              "         50732.55317892, 50732.75735547, 50733.1049851 ],\n",
              "        [50769.2184883 , 50769.67115438, 50769.8440366 , ...,\n",
              "         50769.8067896 , 50769.99923515, 50769.45426108],\n",
              "        ...,\n",
              "        [50753.50751978, 50754.385756  , 50753.4896639 , ...,\n",
              "         50753.48908615, 50753.70339693, 50753.91678785],\n",
              "        [50741.93745286, 50741.72604971, 50741.89876902, ...,\n",
              "         50742.15801258, 50742.27433007, 50742.57575786],\n",
              "        [50744.01730908, 50744.41190338, 50743.8242803 , ...,\n",
              "         50744.03743816, 50744.04057013, 50744.41719007]],\n",
              "\n",
              "       [[50770.53286017, 50770.20991118, 50770.21995674, ...,\n",
              "         50770.5157224 , 50770.39218566, 50770.07671578],\n",
              "        [50736.23057626, 50736.02988074, 50735.70571551, ...,\n",
              "         50736.2003682 , 50735.72420833, 50735.60598622],\n",
              "        [50739.41775939, 50738.82596079, 50739.51295048, ...,\n",
              "         50738.8825924 , 50738.82277736, 50739.06858772],\n",
              "        ...,\n",
              "        [50771.82747152, 50772.31888729, 50772.56293108, ...,\n",
              "         50771.87629964, 50772.23151327, 50772.53796675],\n",
              "        [50739.75387813, 50739.4817078 , 50739.9038516 , ...,\n",
              "         50740.23578109, 50739.91078995, 50739.42612839],\n",
              "        [50734.77151555, 50735.12840151, 50734.56816339, ...,\n",
              "         50734.74306935, 50734.6380867 , 50735.54549436]]])"
            ]
          },
          "metadata": {},
          "execution_count": 96
        }
      ]
    },
    {
      "cell_type": "code",
      "source": [
        ""
      ],
      "metadata": {
        "id": "GJkXQRZyEq4D"
      },
      "execution_count": null,
      "outputs": []
    }
  ]
}