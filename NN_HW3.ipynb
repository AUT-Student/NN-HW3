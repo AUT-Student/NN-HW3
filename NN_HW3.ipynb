{
  "cells": [
    {
      "cell_type": "markdown",
      "metadata": {
        "id": "view-in-github",
        "colab_type": "text"
      },
      "source": [
        "<a href=\"https://colab.research.google.com/github/AUT-Student/NN-HW3/blob/main/NN_HW3.ipynb\" target=\"_parent\"><img src=\"https://colab.research.google.com/assets/colab-badge.svg\" alt=\"Open In Colab\"/></a>"
      ]
    },
    {
      "cell_type": "markdown",
      "metadata": {
        "id": "slLXpefU8jnK"
      },
      "source": [
        "# Libraries"
      ]
    },
    {
      "cell_type": "code",
      "execution_count": 1,
      "metadata": {
        "id": "j5_bZGnS8izB"
      },
      "outputs": [],
      "source": [
        "import pandas as pd\n",
        "import tensorflow as tf\n",
        "import numpy as np\n",
        "import tensorflow.keras as keras\n",
        "import matplotlib.pyplot as plt\n",
        "from copy import deepcopy"
      ]
    },
    {
      "cell_type": "markdown",
      "metadata": {
        "id": "f2F3uD7W8KMH"
      },
      "source": [
        "# Dataset"
      ]
    },
    {
      "cell_type": "code",
      "execution_count": 2,
      "metadata": {
        "colab": {
          "base_uri": "https://localhost:8080/"
        },
        "id": "xwyeeLyzCMF-",
        "outputId": "1c1bff5a-aa06-4eee-a835-7d2efd1b5f69"
      },
      "outputs": [
        {
          "output_type": "stream",
          "name": "stdout",
          "text": [
            "Downloading...\n",
            "From: https://archive.ics.uci.edu/ml/machine-learning-databases/00240/UCI%20HAR%20Dataset.zip\n",
            "To: /content/Dataset.zip\n",
            "100% 61.0M/61.0M [00:03<00:00, 16.6MB/s]\n"
          ]
        }
      ],
      "source": [
        "!gdown https://archive.ics.uci.edu/ml/machine-learning-databases/00240/UCI%20HAR%20Dataset.zip -O \"/content/Dataset.zip\""
      ]
    },
    {
      "cell_type": "code",
      "execution_count": 3,
      "metadata": {
        "colab": {
          "base_uri": "https://localhost:8080/"
        },
        "id": "NDM9CJlO8vzQ",
        "outputId": "7b8420a2-3753-43b3-c7f4-b0e871cc2e88"
      },
      "outputs": [
        {
          "output_type": "stream",
          "name": "stdout",
          "text": [
            "Archive:  /content/Dataset.zip\n",
            "   creating: UCI HAR Dataset/\n",
            "  inflating: UCI HAR Dataset/.DS_Store  \n",
            "   creating: __MACOSX/\n",
            "   creating: __MACOSX/UCI HAR Dataset/\n",
            "  inflating: __MACOSX/UCI HAR Dataset/._.DS_Store  \n",
            "  inflating: UCI HAR Dataset/activity_labels.txt  \n",
            "  inflating: __MACOSX/UCI HAR Dataset/._activity_labels.txt  \n",
            "  inflating: UCI HAR Dataset/features.txt  \n",
            "  inflating: __MACOSX/UCI HAR Dataset/._features.txt  \n",
            "  inflating: UCI HAR Dataset/features_info.txt  \n",
            "  inflating: __MACOSX/UCI HAR Dataset/._features_info.txt  \n",
            "  inflating: UCI HAR Dataset/README.txt  \n",
            "  inflating: __MACOSX/UCI HAR Dataset/._README.txt  \n",
            "   creating: UCI HAR Dataset/test/\n",
            "   creating: UCI HAR Dataset/test/Inertial Signals/\n",
            "  inflating: UCI HAR Dataset/test/Inertial Signals/body_acc_x_test.txt  \n",
            "   creating: __MACOSX/UCI HAR Dataset/test/\n",
            "   creating: __MACOSX/UCI HAR Dataset/test/Inertial Signals/\n",
            "  inflating: __MACOSX/UCI HAR Dataset/test/Inertial Signals/._body_acc_x_test.txt  \n",
            "  inflating: UCI HAR Dataset/test/Inertial Signals/body_acc_y_test.txt  \n",
            "  inflating: __MACOSX/UCI HAR Dataset/test/Inertial Signals/._body_acc_y_test.txt  \n",
            "  inflating: UCI HAR Dataset/test/Inertial Signals/body_acc_z_test.txt  \n",
            "  inflating: __MACOSX/UCI HAR Dataset/test/Inertial Signals/._body_acc_z_test.txt  \n",
            "  inflating: UCI HAR Dataset/test/Inertial Signals/body_gyro_x_test.txt  \n",
            "  inflating: __MACOSX/UCI HAR Dataset/test/Inertial Signals/._body_gyro_x_test.txt  \n",
            "  inflating: UCI HAR Dataset/test/Inertial Signals/body_gyro_y_test.txt  \n",
            "  inflating: __MACOSX/UCI HAR Dataset/test/Inertial Signals/._body_gyro_y_test.txt  \n",
            "  inflating: UCI HAR Dataset/test/Inertial Signals/body_gyro_z_test.txt  \n",
            "  inflating: __MACOSX/UCI HAR Dataset/test/Inertial Signals/._body_gyro_z_test.txt  \n",
            "  inflating: UCI HAR Dataset/test/Inertial Signals/total_acc_x_test.txt  \n",
            "  inflating: __MACOSX/UCI HAR Dataset/test/Inertial Signals/._total_acc_x_test.txt  \n",
            "  inflating: UCI HAR Dataset/test/Inertial Signals/total_acc_y_test.txt  \n",
            "  inflating: __MACOSX/UCI HAR Dataset/test/Inertial Signals/._total_acc_y_test.txt  \n",
            "  inflating: UCI HAR Dataset/test/Inertial Signals/total_acc_z_test.txt  \n",
            "  inflating: __MACOSX/UCI HAR Dataset/test/Inertial Signals/._total_acc_z_test.txt  \n",
            "  inflating: __MACOSX/UCI HAR Dataset/test/._Inertial Signals  \n",
            "  inflating: UCI HAR Dataset/test/subject_test.txt  \n",
            "  inflating: __MACOSX/UCI HAR Dataset/test/._subject_test.txt  \n",
            "  inflating: UCI HAR Dataset/test/X_test.txt  \n",
            "  inflating: __MACOSX/UCI HAR Dataset/test/._X_test.txt  \n",
            "  inflating: UCI HAR Dataset/test/y_test.txt  \n",
            "  inflating: __MACOSX/UCI HAR Dataset/test/._y_test.txt  \n",
            "  inflating: __MACOSX/UCI HAR Dataset/._test  \n",
            "   creating: UCI HAR Dataset/train/\n",
            "   creating: UCI HAR Dataset/train/Inertial Signals/\n",
            "  inflating: UCI HAR Dataset/train/Inertial Signals/body_acc_x_train.txt  \n",
            "   creating: __MACOSX/UCI HAR Dataset/train/\n",
            "   creating: __MACOSX/UCI HAR Dataset/train/Inertial Signals/\n",
            "  inflating: __MACOSX/UCI HAR Dataset/train/Inertial Signals/._body_acc_x_train.txt  \n",
            "  inflating: UCI HAR Dataset/train/Inertial Signals/body_acc_y_train.txt  \n",
            "  inflating: __MACOSX/UCI HAR Dataset/train/Inertial Signals/._body_acc_y_train.txt  \n",
            "  inflating: UCI HAR Dataset/train/Inertial Signals/body_acc_z_train.txt  \n",
            "  inflating: __MACOSX/UCI HAR Dataset/train/Inertial Signals/._body_acc_z_train.txt  \n",
            "  inflating: UCI HAR Dataset/train/Inertial Signals/body_gyro_x_train.txt  \n",
            "  inflating: __MACOSX/UCI HAR Dataset/train/Inertial Signals/._body_gyro_x_train.txt  \n",
            "  inflating: UCI HAR Dataset/train/Inertial Signals/body_gyro_y_train.txt  \n",
            "  inflating: __MACOSX/UCI HAR Dataset/train/Inertial Signals/._body_gyro_y_train.txt  \n",
            "  inflating: UCI HAR Dataset/train/Inertial Signals/body_gyro_z_train.txt  \n",
            "  inflating: __MACOSX/UCI HAR Dataset/train/Inertial Signals/._body_gyro_z_train.txt  \n",
            "  inflating: UCI HAR Dataset/train/Inertial Signals/total_acc_x_train.txt  \n",
            "  inflating: __MACOSX/UCI HAR Dataset/train/Inertial Signals/._total_acc_x_train.txt  \n",
            "  inflating: UCI HAR Dataset/train/Inertial Signals/total_acc_y_train.txt  \n",
            "  inflating: __MACOSX/UCI HAR Dataset/train/Inertial Signals/._total_acc_y_train.txt  \n",
            "  inflating: UCI HAR Dataset/train/Inertial Signals/total_acc_z_train.txt  \n",
            "  inflating: __MACOSX/UCI HAR Dataset/train/Inertial Signals/._total_acc_z_train.txt  \n",
            "  inflating: __MACOSX/UCI HAR Dataset/train/._Inertial Signals  \n",
            "  inflating: UCI HAR Dataset/train/subject_train.txt  \n",
            "  inflating: __MACOSX/UCI HAR Dataset/train/._subject_train.txt  \n",
            "  inflating: UCI HAR Dataset/train/X_train.txt  \n",
            "  inflating: __MACOSX/UCI HAR Dataset/train/._X_train.txt  \n",
            "  inflating: UCI HAR Dataset/train/y_train.txt  \n",
            "  inflating: __MACOSX/UCI HAR Dataset/train/._y_train.txt  \n",
            "  inflating: __MACOSX/UCI HAR Dataset/._train  \n",
            "  inflating: __MACOSX/._UCI HAR Dataset  \n"
          ]
        }
      ],
      "source": [
        "!unzip /content/Dataset.zip"
      ]
    },
    {
      "cell_type": "code",
      "execution_count": 4,
      "metadata": {
        "colab": {
          "base_uri": "https://localhost:8080/"
        },
        "id": "7js37rWe8tck",
        "outputId": "0587d5ec-6aab-4a14-ea75-7428256b57bf"
      },
      "outputs": [
        {
          "output_type": "stream",
          "name": "stdout",
          "text": [
            "Downloading...\n",
            "From: https://archive.ics.uci.edu/ml/machine-learning-databases/00240/UCI%20HAR%20Dataset.names\n",
            "To: /content/Dataset.names\n",
            "\r  0% 0.00/6.30k [00:00<?, ?B/s]\r100% 6.30k/6.30k [00:00<00:00, 8.60MB/s]\n"
          ]
        }
      ],
      "source": [
        "!gdown https://archive.ics.uci.edu/ml/machine-learning-databases/00240/UCI%20HAR%20Dataset.names -O \"/content/Dataset.names\""
      ]
    },
    {
      "cell_type": "code",
      "execution_count": 5,
      "metadata": {
        "colab": {
          "base_uri": "https://localhost:8080/"
        },
        "id": "oINwMqh094xN",
        "outputId": "00cceecb-37c9-47fc-ddf6-27284b923a2a"
      },
      "outputs": [
        {
          "output_type": "stream",
          "name": "stdout",
          "text": [
            "===================================================================================================\r\n",
            "Human Activity Recognition Using Smartphones Dataset\r\n",
            "Version 1.0\r\n",
            "===================================================================================================\r\n",
            "Jorge L. Reyes-Ortiz(1,2), Davide Anguita(1), Alessandro Ghio(1), Luca Oneto(1) and Xavier Parra(2)\r\n",
            "1 - Smartlab - Non-Linear Complex Systems Laboratory\r\n",
            "DITEN - Universit�  degli Studi di Genova, Genoa (I-16145), Italy. \r\n",
            "2 - CETpD - Technical Research Centre for Dependency Care and Autonomous Living\r\n",
            "Universitat Polit�cnica de Catalunya (BarcelonaTech). Vilanova i la Geltr� (08800), Spain\r\n",
            "activityrecognition '@' smartlab.ws \r\n",
            "===================================================================================================\r\n",
            "\r\n",
            "The experiments have been carried out with a group of 30 volunteers within an age bracket of 19-48 years. Each person performed six activities (WALKING, WALKING_UPSTAIRS, WALKING_DOWNSTAIRS, SITTING, STANDING, LAYING) wearing a smartphone (Samsung Galaxy S II) on the waist. Using its embedded accelerometer and gyroscope, we captured 3-axial linear acceleration and 3-axial angular velocity at a constant rate of 50Hz. The experiments have been video-recorded to label the data manually. The obtained dataset has been randomly partitioned into two sets, where 70% of the volunteers was selected for generating the training data and 30% the test data. \r\n",
            "\r\n",
            "The sensor signals (accelerometer and gyroscope) were pre-processed by applying noise filters and then sampled in fixed-width sliding windows of 2.56 sec and 50% overlap (128 readings/window). The sensor acceleration signal, which has gravitational and body motion components, was separated using a Butterworth low-pass filter into body acceleration and gravity. The gravitational force is assumed to have only low frequency components, therefore a filter with 0.3 Hz cutoff frequency was used. From each window, a vector of features was obtained by calculating variables from the time and frequency domain. See 'features_info.txt' for more details. \r\n",
            "\r\n",
            "For each record it is provided:\r\n",
            "======================================\r\n",
            "\r\n",
            "- Triaxial acceleration from the accelerometer (total acceleration) and the estimated body acceleration.\r\n",
            "- Triaxial Angular velocity from the gyroscope. \r\n",
            "- A 561-feature vector with time and frequency domain variables. \r\n",
            "- Its activity label. \r\n",
            "- An identifier of the subject who carried out the experiment.\r\n",
            "\r\n",
            "The dataset includes the following files:\r\n",
            "=========================================\r\n",
            "\r\n",
            "- 'README.txt'\r\n",
            "\r\n",
            "- 'features_info.txt': Shows information about the variables used on the feature vector.\r\n",
            "\r\n",
            "- 'features.txt': List of all features.\r\n",
            "\r\n",
            "- 'activity_labels.txt': Links the class labels with their activity name.\r\n",
            "\r\n",
            "- 'train/X_train.txt': Training set.\r\n",
            "\r\n",
            "- 'train/y_train.txt': Training labels.\r\n",
            "\r\n",
            "- 'test/X_test.txt': Test set.\r\n",
            "\r\n",
            "- 'test/y_test.txt': Test labels.\r\n",
            "\r\n",
            "The following files are available for the train and test data. Their descriptions are equivalent. \r\n",
            "\r\n",
            "- 'train/subject_train.txt': Each row identifies the subject who performed the activity for each window sample. Its range is from 1 to 30. \r\n",
            "\r\n",
            "- 'train/Inertial Signals/total_acc_x_train.txt': The acceleration signal from the smartphone accelerometer X axis in standard gravity units 'g'. Every row shows a 128 element vector. The same description applies for the 'total_acc_x_train.txt' and 'total_acc_z_train.txt' files for the Y and Z axis. \r\n",
            "\r\n",
            "- 'train/Inertial Signals/body_acc_x_train.txt': The body acceleration signal obtained by subtracting the gravity from the total acceleration. \r\n",
            "\r\n",
            "- 'train/Inertial Signals/body_gyro_x_train.txt': The angular velocity vector measured by the gyroscope for each window sample. The units are radians/second. \r\n",
            "\r\n",
            "Notes: \r\n",
            "======\r\n",
            "- Features are normalized and bounded within [-1,1].\r\n",
            "- Each feature vector is a row on the text file.\r\n",
            "- The units used for the accelerations (total and body) are 'g's (gravity of earth -> 9.80665 m/seg2).\r\n",
            "- The gyroscope units are rad/seg.\r\n",
            "- A video of the experiment including an example of the 6 recorded activities with one of the participants can be seen in the following link: http://www.youtube.com/watch?v=XOEN9W05_4A\r\n",
            "\r\n",
            "For more information about this dataset please contact: activityrecognition '@' smartlab.ws\r\n",
            "\r\n",
            "License:\r\n",
            "========\r\n",
            "Use of this dataset in publications must be acknowledged by referencing the following publication [1] \r\n",
            "\r\n",
            "[1] Davide Anguita, Alessandro Ghio, Luca Oneto, Xavier Parra and Jorge L. Reyes-Ortiz. A Public Domain Dataset for Human Activity Recognition Using Smartphones. 21th European Symposium on Artificial Neural Networks, Computational Intelligence and Machine Learning, ESANN 2013. Bruges, Belgium 24-26 April 2013. \r\n",
            "\r\n",
            "This dataset is distributed AS-IS and no responsibility implied or explicit can be addressed to the authors or their institutions for its use or misuse. Any commercial use is prohibited.\r\n",
            "\r\n",
            "Other Related Publications:\r\n",
            "===========================\r\n",
            "[2] Davide Anguita, Alessandro Ghio, Luca Oneto, Xavier Parra, Jorge L. Reyes-Ortiz.  Energy Efficient Smartphone-Based Activity Recognition using Fixed-Point Arithmetic. Journal of Universal Computer Science. Special Issue in Ambient Assisted Living: Home Care.   Volume 19, Issue 9. May 2013\r\n",
            "\r\n",
            "[3] Davide Anguita, Alessandro Ghio, Luca Oneto, Xavier Parra and Jorge L. Reyes-Ortiz. Human Activity Recognition on Smartphones using a Multiclass Hardware-Friendly Support Vector Machine. 4th International Workshop of Ambient Assited Living, IWAAL 2012, Vitoria-Gasteiz, Spain, December 3-5, 2012. Proceedings. Lecture Notes in Computer Science 2012, pp 216-223. \r\n",
            "\r\n",
            "[4] Jorge Luis Reyes-Ortiz, Alessandro Ghio, Xavier Parra-Llanas, Davide Anguita, Joan Cabestany, Andreu Catal�. Human Activity and Motion Disorder Recognition: Towards Smarter Interactive Cognitive Environments. 21th European Symposium on Artificial Neural Networks, Computational Intelligence and Machine Learning, ESANN 2013. Bruges, Belgium 24-26 April 2013.  \r\n",
            "\r\n",
            "==================================================================================================\r\n",
            "Jorge L. Reyes-Ortiz, Alessandro Ghio, Luca Oneto, Davide Anguita and Xavier Parra. November 2013.\r\n"
          ]
        }
      ],
      "source": [
        "!cat \"/content/Dataset.names\""
      ]
    },
    {
      "cell_type": "code",
      "execution_count": 6,
      "metadata": {
        "colab": {
          "base_uri": "https://localhost:8080/"
        },
        "id": "HlHR2zgU-Yk3",
        "outputId": "05375f74-bc58-46ee-cdc1-6d68562daaa1"
      },
      "outputs": [
        {
          "output_type": "stream",
          "name": "stdout",
          "text": [
            "1 WALKING\n",
            "2 WALKING_UPSTAIRS\n",
            "3 WALKING_DOWNSTAIRS\n",
            "4 SITTING\n",
            "5 STANDING\n",
            "6 LAYING\n"
          ]
        }
      ],
      "source": [
        "!cat \"/content/UCI HAR Dataset/activity_labels.txt\""
      ]
    },
    {
      "cell_type": "code",
      "execution_count": 7,
      "metadata": {
        "id": "V3JPy5L5qgHW"
      },
      "outputs": [],
      "source": [
        "X_train = pd.read_csv(\"/content/UCI HAR Dataset/train/X_train.txt\", delimiter=r\"\\s+\", header=None)\n",
        "X_test = pd.read_csv(\"/content/UCI HAR Dataset/test/X_test.txt\", delimiter=r\"\\s+\", header=None)\n",
        "y_train = pd.read_csv(\"/content/UCI HAR Dataset/train/y_train.txt\", delimiter=r\"\\s+\", header=None)\n",
        "y_test = pd.read_csv(\"/content/UCI HAR Dataset/test/y_test.txt\", delimiter=r\"\\s+\", header=None)"
      ]
    },
    {
      "cell_type": "code",
      "execution_count": 8,
      "metadata": {
        "id": "ehah1xhWFG1E"
      },
      "outputs": [],
      "source": [
        "X_train[\"Class\"] = y_train\n",
        "X_test[\"Class\"] = y_test"
      ]
    },
    {
      "cell_type": "code",
      "execution_count": 9,
      "metadata": {
        "id": "eFqW_pxw_2Yk"
      },
      "outputs": [],
      "source": [
        "X_valid, X_train = np.split(X_train.sample(frac=1, random_state=0), [int(.125*len(X_train))])"
      ]
    },
    {
      "cell_type": "code",
      "execution_count": 10,
      "metadata": {
        "id": "pGez1UEkH119"
      },
      "outputs": [],
      "source": [
        "y_train = X_train[\"Class\"]\n",
        "X_train = X_train.drop(columns=[\"Class\"])\n",
        "\n",
        "y_valid = X_valid[\"Class\"]\n",
        "X_valid = X_valid.drop(columns=[\"Class\"])"
      ]
    },
    {
      "cell_type": "code",
      "execution_count": 11,
      "metadata": {
        "id": "6pUkZ-WvQxoB"
      },
      "outputs": [],
      "source": [
        "y_train = y_train.apply(lambda x:x-1)\n",
        "y_test = y_test.apply(lambda x:x-1)\n",
        "y_valid = y_valid.apply(lambda x:x-1)"
      ]
    },
    {
      "cell_type": "markdown",
      "metadata": {
        "id": "CdO_O8ws5wPh"
      },
      "source": [
        "# MLP Classifer"
      ]
    },
    {
      "cell_type": "markdown",
      "metadata": {
        "id": "jszRnW7E9ux7"
      },
      "source": [
        "## Model"
      ]
    },
    {
      "cell_type": "code",
      "execution_count": null,
      "metadata": {
        "id": "MrD12o6V2KpU"
      },
      "outputs": [],
      "source": [
        "class MLPModel(keras.Model):\n",
        "  def __init__(self, number_hidden_layers, number_hidden_units):\n",
        "    super().__init__()\n",
        "\n",
        "    if number_hidden_layers<0:\n",
        "      raise Exception(\"The number of hidden layers must be a non-negetive number\")\n",
        "\n",
        "    if number_hidden_layers != len(number_hidden_units):\n",
        "      raise Exception(\"The number of hidden layers must equal to the length of the number of hidden units list\")\n",
        "\n",
        "    self.model = keras.models.Sequential()\n",
        "\n",
        "    for i in range(number_hidden_layers):\n",
        "      self.model.add(keras.layers.Dense(units=number_hidden_units[i], activation=\"relu\", name=f\"Dense_Layer_{i+1}\"))\n",
        "\n",
        "    self.model.add(keras.layers.Dense(6, activation=\"softmax\", name=\"Output_Layer\"))\n",
        "\n",
        "  def call(self, inputs):\n",
        "    return self.model(inputs)"
      ]
    },
    {
      "cell_type": "code",
      "execution_count": null,
      "metadata": {
        "id": "FEgCM9BW7kat"
      },
      "outputs": [],
      "source": [
        "def train_and_evaluate(number_hidden_layers, number_hidden_units, learning_rate):\n",
        "  es_callback = keras.callbacks.EarlyStopping(monitor=\"val_loss\", restore_best_weights=True, patience=5)\n",
        "\n",
        "  model = MLPModel(number_hidden_layers=number_hidden_layers, number_hidden_units=number_hidden_units)\n",
        "\n",
        "  opt = tf.keras.optimizers.Adam(learning_rate=learning_rate)\n",
        "  \n",
        "  model.compile(optimizer=opt, loss=\"sparse_categorical_crossentropy\", metrics=[\"accuracy\"])\n",
        "\n",
        "  model.fit(x=X_train, y=y_train, epochs=30, validation_data=(X_valid, y_valid), verbose=0, callbacks=[es_callback])\n",
        "\n",
        "  train_accuracy = model.evaluate(X_train, y_train, verbose=0)[1]\n",
        "  validation_accuracy = model.evaluate(X_valid, y_valid, verbose=0)[1]\n",
        "\n",
        "  print(f\"Train = {round(train_accuracy*100, 2)}, Validation = {round(validation_accuracy*100, 2)}\")"
      ]
    },
    {
      "cell_type": "markdown",
      "metadata": {
        "id": "HJpVmTbPlUOS"
      },
      "source": [
        "## Learning Rate Fine-tuning"
      ]
    },
    {
      "cell_type": "code",
      "execution_count": null,
      "metadata": {
        "colab": {
          "base_uri": "https://localhost:8080/"
        },
        "id": "V5OGkKLNifjj",
        "outputId": "a8f46aad-d80b-45df-e932-f1f6dacd3e41"
      },
      "outputs": [
        {
          "name": "stdout",
          "output_type": "stream",
          "text": [
            "Learning Rate = 0.0001\n",
            "Train = 98.83, Validation = 97.71\n",
            "\n",
            "Learning Rate = 0.0005\n",
            "Train = 98.85, Validation = 97.82\n",
            "\n",
            "Learning Rate = 0.001\n",
            "Train = 97.95, Validation = 96.52\n",
            "\n",
            "Learning Rate = 0.003\n",
            "Train = 98.8, Validation = 98.04\n",
            "\n",
            "Learning Rate = 0.005\n",
            "Train = 98.4, Validation = 97.17\n",
            "\n",
            "Learning Rate = 0.01\n",
            "Train = 98.77, Validation = 97.93\n",
            "\n",
            "Learning Rate = 0.1\n",
            "Train = 98.57, Validation = 97.93\n",
            "\n"
          ]
        }
      ],
      "source": [
        "for learning_rate in [0.0001, 0.0005, 0.001, 0.003, 0.005, 0.01, 0.1]:\n",
        "  print(f\"Learning Rate = {learning_rate}\")\n",
        "  train_and_evaluate(number_hidden_layers=3, number_hidden_units=[128, 64, 32], learning_rate=0.001)\n",
        "  print(\"\")"
      ]
    },
    {
      "cell_type": "markdown",
      "metadata": {
        "id": "AW_-4dPPlZf1"
      },
      "source": [
        "## Number Layer and Number Neuron Fine-tuning"
      ]
    },
    {
      "cell_type": "code",
      "execution_count": null,
      "metadata": {
        "colab": {
          "base_uri": "https://localhost:8080/"
        },
        "id": "wNEc3An_i0uz",
        "outputId": "aadfe69a-f222-46cf-da5f-64a3b0a0af13"
      },
      "outputs": [
        {
          "name": "stdout",
          "output_type": "stream",
          "text": [
            "Train = 98.82, Validation = 97.93\n",
            "\n"
          ]
        }
      ],
      "source": [
        "train_and_evaluate(number_hidden_layers=0, number_hidden_units=[], learning_rate=0.003)\n",
        "print(\"\")"
      ]
    },
    {
      "cell_type": "code",
      "execution_count": null,
      "metadata": {
        "colab": {
          "base_uri": "https://localhost:8080/"
        },
        "id": "ySIXtRVvlR01",
        "outputId": "3a002eb4-411c-4dec-b507-2f4b440859a1"
      },
      "outputs": [
        {
          "name": "stdout",
          "output_type": "stream",
          "text": [
            "number_hidden_units = [32]\n",
            "Train = 98.96, Validation = 97.93\n",
            "\n",
            "number_hidden_units = [64]\n",
            "Train = 98.87, Validation = 97.82\n",
            "\n",
            "number_hidden_units = [128]\n",
            "Train = 98.87, Validation = 98.04\n",
            "\n"
          ]
        }
      ],
      "source": [
        "for number_hidden_units in [[32], [64], [128]]:\n",
        "  print(f\"number_hidden_units = {number_hidden_units}\")\n",
        "  train_and_evaluate(number_hidden_layers=1, number_hidden_units=number_hidden_units, learning_rate=0.003)\n",
        "  print(\"\")"
      ]
    },
    {
      "cell_type": "code",
      "execution_count": null,
      "metadata": {
        "colab": {
          "base_uri": "https://localhost:8080/"
        },
        "id": "IoDRMe3-l79A",
        "outputId": "17de5942-3702-42da-c709-e5c88edd04ad"
      },
      "outputs": [
        {
          "name": "stdout",
          "output_type": "stream",
          "text": [
            "number_hidden_units = [32, 32]\n",
            "Train = 98.87, Validation = 98.26\n",
            "\n",
            "number_hidden_units = [64, 32]\n",
            "Train = 98.4, Validation = 97.06\n",
            "\n",
            "number_hidden_units = [128, 128]\n",
            "Train = 97.28, Validation = 96.63\n",
            "\n"
          ]
        }
      ],
      "source": [
        "for number_hidden_units in [\n",
        "                            [32, 32], [64, 32], [128, 128]\n",
        "                            ]:\n",
        "  print(f\"number_hidden_units = {number_hidden_units}\")\n",
        "  train_and_evaluate(number_hidden_layers=2, number_hidden_units=number_hidden_units, learning_rate=0.003)\n",
        "  print(\"\")"
      ]
    },
    {
      "cell_type": "code",
      "execution_count": null,
      "metadata": {
        "colab": {
          "base_uri": "https://localhost:8080/"
        },
        "id": "Vg4yKaXemQJu",
        "outputId": "90586100-816b-435d-b9bb-ef90f3136c95"
      },
      "outputs": [
        {
          "name": "stdout",
          "output_type": "stream",
          "text": [
            "number_hidden_units = [64, 32, 32]\n",
            "Train = 98.49, Validation = 97.71\n",
            "\n",
            "number_hidden_units = [64, 64, 64]\n",
            "Train = 98.15, Validation = 97.39\n",
            "\n",
            "number_hidden_units = [128, 64, 32]\n",
            "Train = 98.26, Validation = 97.28\n",
            "\n"
          ]
        }
      ],
      "source": [
        "for number_hidden_units in [\n",
        "                            [64, 32, 32], [64, 64, 64], [128, 64, 32]\n",
        "                            ]:\n",
        "  print(f\"number_hidden_units = {number_hidden_units}\")\n",
        "  train_and_evaluate(number_hidden_layers=3, number_hidden_units=number_hidden_units, learning_rate=0.003)\n",
        "  print(\"\")"
      ]
    },
    {
      "cell_type": "code",
      "execution_count": null,
      "metadata": {
        "colab": {
          "base_uri": "https://localhost:8080/"
        },
        "id": "-cRFD9AFmaDH",
        "outputId": "347173c5-6496-488e-d248-97b970f34093"
      },
      "outputs": [
        {
          "name": "stdout",
          "output_type": "stream",
          "text": [
            "number_hidden_units = [128, 128, 64, 64]\n",
            "Train = 18.76, Validation = 18.17\n",
            "\n",
            "number_hidden_units = [128, 64, 32, 16]\n",
            "Train = 52.45, Validation = 50.82\n",
            "\n",
            "number_hidden_units = [128, 64, 32, 64]\n",
            "Train = 18.76, Validation = 18.17\n",
            "\n"
          ]
        }
      ],
      "source": [
        "for number_hidden_units in [\n",
        "                            [128, 128, 64, 64], [128, 64, 32, 16], [128, 64, 32, 64]\n",
        "                            ]:\n",
        "  print(f\"number_hidden_units = {number_hidden_units}\")\n",
        "  train_and_evaluate(number_hidden_layers=4, number_hidden_units=number_hidden_units, learning_rate=0.05)\n",
        "  print(\"\")"
      ]
    },
    {
      "cell_type": "markdown",
      "metadata": {
        "id": "19ALn6EJrSdz"
      },
      "source": [
        "# SOM"
      ]
    },
    {
      "cell_type": "code",
      "execution_count": 58,
      "metadata": {
        "id": "4xW0sGOGn85x"
      },
      "outputs": [],
      "source": [
        "import colorsys\n",
        "\n",
        "class SOM():\n",
        "  def __init__(self, number_epochs, map_size, number_features,\n",
        "               initial_learning_rate, initial_radius, radius_decay, X_train):\n",
        "    \n",
        "    self.number_epochs = number_epochs\n",
        "    self.map_size = map_size\n",
        "    self.number_features = number_features\n",
        "    self.learning_rate = initial_learning_rate\n",
        "    self.radius_decay = radius_decay\n",
        "    self.radius = initial_radius\n",
        "    self.initial_learning_rate = initial_learning_rate\n",
        "    self._initiate_weight(X_train)\n",
        "\n",
        "  def _initiate_weight(self, X_train):\n",
        "\n",
        "    self.weight = []\n",
        "    for i in range(self.map_size[0]):\n",
        "      row_list = []\n",
        "      for j in range(self.map_size[1]):\n",
        "        row_list.append(X_train[np.random.choice(X_train.shape[0])])\n",
        "      self.weight.append(row_list)\n",
        "    self.weight = np.array(self.weight)\n",
        "\n",
        "  def train(self, X_train):\n",
        "    self.weight_changes_list = []\n",
        "    self.dead_neurons_number_list = []\n",
        "    self.mean_winner_distance_list = []\n",
        "\n",
        "    for epoch in range(self.number_epochs):\n",
        "      print(f\"epoch = {epoch}\")\n",
        "\n",
        "      winner_set = set()\n",
        "      mean_winner_distance = 0\n",
        "      prev_weight = deepcopy(self.weight)\n",
        "\n",
        "      for i, row in enumerate(X_train):\n",
        "        winner = self.find_winner(row)\n",
        "\n",
        "        winner_set.add(winner)\n",
        "        mean_winner_distance += self.distance(self.weight[winner[0]][winner[1]], row)\n",
        "\n",
        "        NS = self.calculate_NS(row, winner)\n",
        "        self.update_weights(NS, row)\n",
        "\n",
        "      self.weight_changes_list.append(np.linalg.norm(prev_weight - self.weight))\n",
        "      self.dead_neurons_number_list.append(self.map_size[0]*self.map_size[1]-len(winner_set))\n",
        "      self.mean_winner_distance_list.append(mean_winner_distance / len(X_train))\n",
        "\n",
        "      self.learning_rate -= (self.initial_learning_rate/self.number_epochs)\n",
        "      self.radius *= self.radius_decay\n",
        "\n",
        "  def find_winner(self, row):\n",
        "    winner = np.argmin(np.sum((np.tile(row, (self.map_size[0], self.map_size[1], 1)) - self.weight)**2, axis=2))\n",
        "    winner = (winner//self.map_size[1], winner%self.map_size[1])\n",
        "    return winner\n",
        "\n",
        "  def calculate_NS(self, row, winner):\n",
        "    NS = np.zeros(self.map_size)\n",
        "\n",
        "    for i in range( max(winner[0]-int(self.radius), 0), min(winner[0]+int(self.radius)+1, self.map_size[0])):\n",
        "      for j in range( max(winner[1]-int(self.radius), 0), min(winner[1]+int(self.radius)+1, self.map_size[1])):\n",
        "          neuron_distance = self.distance(np.array((i, j)), np.array(winner))\n",
        "\n",
        "          if neuron_distance <= self.radius:\n",
        "            NS[i][j] = 1 - neuron_distance / self.radius\n",
        "    \n",
        "    return NS\n",
        "\n",
        "  def update_weights(self, NS, row):\n",
        "    Delta = np.tile(row , (self.map_size[0], self.map_size[1], 1)) - self.weight\n",
        "    self.weight += self.learning_rate * np.multiply(np.tile(NS.T, (self.number_features, 1, 1)).T, Delta)\n",
        "\n",
        "  def plot_map(self, X_train, y_train):\n",
        "    number_labels = len(set(y_train))\n",
        "    scores = np.zeros((self.map_size[0], self.map_size[1], number_labels))\n",
        "\n",
        "    for i in range(len(X_train)):\n",
        "      row = X_train[i]\n",
        "      label = y_train[i]\n",
        "      winner = self.find_winner(row)\n",
        "      scores[winner[0]][winner[1]][label] += 1\n",
        "\n",
        "    self._plot_clusters(number_labels, scores)\n",
        "    self._plot_U_matrix(scores)\n",
        "\n",
        "  def plot_train_state(self):\n",
        "    self._plot_weight_changes()\n",
        "    self._plot_dead_neurons_number()\n",
        "    self._plot_mean_winner_distance()\n",
        "\n",
        "  def _plot_clusters(self, number_labels, scores):\n",
        "    label_colors = self._get_colors(number_labels)\n",
        "\n",
        "    map_color = np.zeros((self.map_size[0], self.map_size[1], 3))\n",
        "\n",
        "    for i in range(self.map_size[0]):\n",
        "      for j in range(self.map_size[1]):\n",
        "        if np.all(scores[i][j] == 0):\n",
        "          map_color[i][j] = (0, 0, 0)\n",
        "        else:\n",
        "          map_color[i][j] = label_colors[np.argmax(scores[i][j])]\n",
        "    \n",
        "    plt.title(\"Clusters (Top Class)\")\n",
        "    plt.imshow(map_color)\n",
        "    plt.show()\n",
        "\n",
        "\n",
        "    map_color = np.zeros((self.map_size[0], self.map_size[1], 3))\n",
        "    \n",
        "    for i in range(self.map_size[0]):\n",
        "      for j in range(self.map_size[1]):\n",
        "        if np.all(scores[i][j] == 0):\n",
        "          map_color[i][j] = (0, 0, 0)\n",
        "        else:\n",
        "          for k in range(number_labels):\n",
        "            a = scores[i][j][k] / np.sum(scores[i][j])\n",
        "            map_color[i][j] += np.array(list(map( lambda x:a*x, label_colors[k])))\n",
        "\n",
        "    plt.title(\"Clusters (All Classes)\")\n",
        "    plt.imshow(map_color)\n",
        "    plt.show()\n",
        "\n",
        "\n",
        "  def _plot_U_matrix(self, scores):\n",
        "    map_color = np.zeros((self.map_size[0], self.map_size[1]))\n",
        "    \n",
        "    for i in range(self.map_size[0]):\n",
        "      for j in range(self.map_size[1]):\n",
        "        map_color[i][j] = np.sum(scores[i][j])\n",
        "\n",
        "    plt.title(\"U-Matrix\")\n",
        "    plt.imshow(map_color, cmap=\"hot\")\n",
        "    plt.show()\n",
        "\n",
        "  def _plot_weight_changes(self):\n",
        "    plt.xlabel(\"Epoch\")\n",
        "    plt.ylabel(\"Weight Change\")\n",
        "    plt.title(\"Weight Changing Over Epochs\")\n",
        "    plt.plot(self.weight_changes_list, color=\"purple\")\n",
        "    plt.show()\n",
        "\n",
        "  def _plot_dead_neurons_number(self):\n",
        "    plt.xlabel(\"Epoch\")\n",
        "    plt.ylabel(\"Dead Neurons\")\n",
        "    plt.title(\"Dead Neuron Number Over Epochs\")\n",
        "    plt.plot(self.dead_neurons_number_list, color=\"purple\")\n",
        "    plt.show()\n",
        "\n",
        "  def _plot_mean_winner_distance(self):\n",
        "    plt.xlabel(\"Epoch\")\n",
        "    plt.ylabel(\"Mean Winner Distance\")\n",
        "    plt.title(\"Mean Winner Distance Over Epochs\")\n",
        "    plt.plot(self.mean_winner_distance_list, color=\"purple\")\n",
        "    plt.show()\n",
        "\n",
        "  def transform_row(self, row):\n",
        "    distance_row = np.sum((np.tile(row, (self.map_size[0], self.map_size[1], 1)) - self.weight)**2, axis=2).flatten()\n",
        "    transformed_row = np.array(list(map(lambda x:1/(x+1), distance_row)))\n",
        "    return transformed_row\n",
        "\n",
        "  def transform(self, X):\n",
        "    return np.array([self.transform_row(x) for x in X])\n",
        "\n",
        "  @staticmethod\n",
        "  def distance(array1, array2):\n",
        "    return np.linalg.norm(array1 - array2)\n",
        "\n",
        "  @staticmethod\n",
        "  def _get_colors(num_colors):\n",
        "      colors=[]\n",
        "      for i in np.arange(0., 360., 360. / num_colors):\n",
        "          hue = i/360.\n",
        "          lightness = (50 + np.random.rand() * 10)/100.\n",
        "          saturation = (90 + np.random.rand() * 10)/100.\n",
        "          colors.append(colorsys.hls_to_rgb(hue, lightness, saturation))\n",
        "      return colors"
      ]
    },
    {
      "cell_type": "code",
      "execution_count": 59,
      "metadata": {
        "id": "FtrpL06V405j"
      },
      "outputs": [],
      "source": [
        "som = SOM(number_epochs=20, map_size=(10,10), number_features=len(X_train.columns),\n",
        "               initial_learning_rate=0.001, initial_radius=5,\n",
        "               radius_decay=0.95, X_train=X_train.to_numpy())"
      ]
    },
    {
      "cell_type": "code",
      "execution_count": 62,
      "metadata": {
        "id": "qmcywJCYD-xM",
        "colab": {
          "base_uri": "https://localhost:8080/"
        },
        "outputId": "1f57a4f6-2e9d-4de8-cb2f-7adb0e3abe27"
      },
      "outputs": [
        {
          "output_type": "stream",
          "name": "stdout",
          "text": [
            "epoch = 0\n",
            "epoch = 1\n",
            "epoch = 2\n",
            "epoch = 3\n",
            "epoch = 4\n",
            "epoch = 5\n",
            "epoch = 6\n",
            "epoch = 7\n",
            "epoch = 8\n",
            "epoch = 9\n",
            "epoch = 10\n",
            "epoch = 11\n",
            "epoch = 12\n",
            "epoch = 13\n",
            "epoch = 14\n",
            "epoch = 15\n",
            "epoch = 16\n",
            "epoch = 17\n",
            "epoch = 18\n",
            "epoch = 19\n"
          ]
        }
      ],
      "source": [
        "som.train(X_train.to_numpy())"
      ]
    },
    {
      "cell_type": "code",
      "execution_count": 63,
      "metadata": {
        "colab": {
          "base_uri": "https://localhost:8080/",
          "height": 809
        },
        "id": "sUENhn_eEEOb",
        "outputId": "8278e60b-dccb-497a-d1d6-57fd45169768"
      },
      "outputs": [
        {
          "output_type": "display_data",
          "data": {
            "text/plain": [
              "<Figure size 432x288 with 1 Axes>"
            ],
            "image/png": "[encoded data removed]"
          },
          "metadata": {
            "needs_background": "light"
          }
        },
        {
          "output_type": "display_data",
          "data": {
            "text/plain": [
              "<Figure size 432x288 with 1 Axes>"
            ],
            "image/png": "[encoded data removed]"
          },
          "metadata": {
            "needs_background": "light"
          }
        },
        {
          "output_type": "display_data",
          "data": {
            "text/plain": [
              "<Figure size 432x288 with 1 Axes>"
            ],
            "image/png": "[encoded data removed]"
          },
          "metadata": {
            "needs_background": "light"
          }
        }
      ],
      "source": [
        "som.plot_map(X_train.to_numpy(), y_train.to_numpy())"
      ]
    },
    {
      "cell_type": "code",
      "execution_count": 64,
      "metadata": {
        "colab": {
          "base_uri": "https://localhost:8080/",
          "height": 851
        },
        "id": "oIpp9MFdUPhq",
        "outputId": "6538a758-c698-4efd-f78d-8b6e4a7e89e7"
      },
      "outputs": [
        {
          "output_type": "display_data",
          "data": {
            "text/plain": [
              "<Figure size 432x288 with 1 Axes>"
            ],
            "image/png": "[encoded data removed]"
          },
          "metadata": {
            "needs_background": "light"
          }
        },
        {
          "output_type": "display_data",
          "data": {
            "text/plain": [
              "<Figure size 432x288 with 1 Axes>"
            ],
            "image/png": "[encoded data removed]"
          },
          "metadata": {
            "needs_background": "light"
          }
        },
        {
          "output_type": "display_data",
          "data": {
            "text/plain": [
              "<Figure size 432x288 with 1 Axes>"
            ],
            "image/png": "[encoded data removed]"
          },
          "metadata": {
            "needs_background": "light"
          }
        }
      ],
      "source": [
        "som.plot_train_state()"
      ]
    },
    {
      "cell_type": "code",
      "source": [
        "X_train.to_numpy().shape"
      ],
      "metadata": {
        "colab": {
          "base_uri": "https://localhost:8080/"
        },
        "id": "3h_O4nCGZ9OS",
        "outputId": "0ceaca62-805c-4c57-e8d0-6c5fa38ed5da"
      },
      "execution_count": 65,
      "outputs": [
        {
          "output_type": "execute_result",
          "data": {
            "text/plain": [
              "(6433, 561)"
            ]
          },
          "metadata": {},
          "execution_count": 65
        }
      ]
    },
    {
      "cell_type": "code",
      "source": [
        "som.transform(X_train.to_numpy())[0]"
      ],
      "metadata": {
        "colab": {
          "base_uri": "https://localhost:8080/"
        },
        "id": "QZqVzKT8r_GT",
        "outputId": "9163958b-2589-46c1-f1de-56992dfd665a"
      },
      "execution_count": 68,
      "outputs": [
        {
          "output_type": "execute_result",
          "data": {
            "text/plain": [
              "array([0.03985296, 0.03582902, 0.02780871, 0.01974901, 0.01339253,\n",
              "       0.01145833, 0.00972461, 0.00826891, 0.00723831, 0.00679874,\n",
              "       0.03363747, 0.02979182, 0.02346968, 0.01645922, 0.01266668,\n",
              "       0.01089544, 0.00936293, 0.00783632, 0.00670658, 0.00614432,\n",
              "       0.0234083 , 0.02040078, 0.01799737, 0.01510397, 0.01306246,\n",
              "       0.01086948, 0.00905807, 0.00729067, 0.00602004, 0.00543661,\n",
              "       0.01425472, 0.01446244, 0.01576735, 0.01871113, 0.01831326,\n",
              "       0.0141597 , 0.00989701, 0.00705911, 0.00562614, 0.00488832,\n",
              "       0.01135339, 0.01249871, 0.01857349, 0.03652603, 0.0506119 ,\n",
              "       0.04116761, 0.02255601, 0.01073354, 0.00741616, 0.00666971,\n",
              "       0.00975326, 0.01236855, 0.02738687, 0.06871899, 0.07545186,\n",
              "       0.07230655, 0.06623907, 0.0431202 , 0.02645391, 0.02194758,\n",
              "       0.00979319, 0.01317747, 0.04127985, 0.0767528 , 0.07076242,\n",
              "       0.06383883, 0.05719954, 0.04810049, 0.0352663 , 0.03033633,\n",
              "       0.01021891, 0.01402032, 0.05180767, 0.06875978, 0.06027599,\n",
              "       0.05314704, 0.04720044, 0.03960367, 0.0296812 , 0.02617165,\n",
              "       0.01018248, 0.01422236, 0.05417333, 0.0564138 , 0.04793556,\n",
              "       0.04284184, 0.03870892, 0.03229849, 0.02572655, 0.02354002,\n",
              "       0.01002488, 0.01481508, 0.0527829 , 0.04834665, 0.04100664,\n",
              "       0.03750186, 0.0340077 , 0.02903791, 0.02382387, 0.02252282])"
            ]
          },
          "metadata": {},
          "execution_count": 68
        }
      ]
    },
    {
      "cell_type": "code",
      "source": [
        ""
      ],
      "metadata": {
        "id": "H3p5tZvxsDB2"
      },
      "execution_count": null,
      "outputs": []
    }
  ],
  "metadata": {
    "colab": {
      "collapsed_sections": [
        "CdO_O8ws5wPh",
        "HJpVmTbPlUOS",
        "AW_-4dPPlZf1"
      ],
      "name": "NN-HW3.ipynb",
      "toc_visible": true,
      "provenance": [],
      "authorship_tag": "ABX9TyOV0f8ZHZd14CFc06T8KKmX",
      "include_colab_link": true
    },
    "kernelspec": {
      "display_name": "Python 3",
      "name": "python3"
    },
    "language_info": {
      "name": "python"
    }
  },
  "nbformat": 4,
  "nbformat_minor": 0
}