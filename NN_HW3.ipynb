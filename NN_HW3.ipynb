{
  "nbformat": 4,
  "nbformat_minor": 0,
  "metadata": {
    "colab": {
      "name": "NN-HW3.ipynb",
      "provenance": [],
      "collapsed_sections": [
        "CdO_O8ws5wPh",
        "HJpVmTbPlUOS",
        "AW_-4dPPlZf1"
      ],
      "toc_visible": true,
      "authorship_tag": "ABX9TyNPIrwLRi+cn3QY1bUVYGKO",
      "include_colab_link": true
    },
    "kernelspec": {
      "name": "python3",
      "display_name": "Python 3"
    },
    "language_info": {
      "name": "python"
    }
  },
  "cells": [
    {
      "cell_type": "markdown",
      "metadata": {
        "id": "view-in-github",
        "colab_type": "text"
      },
      "source": [
        "<a href=\"https://colab.research.google.com/github/AUT-Student/NN-HW3/blob/main/NN_HW3.ipynb\" target=\"_parent\"><img src=\"https://colab.research.google.com/assets/colab-badge.svg\" alt=\"Open In Colab\"/></a>"
      ]
    },
    {
      "cell_type": "markdown",
      "source": [
        "# Libraries"
      ],
      "metadata": {
        "id": "slLXpefU8jnK"
      }
    },
    {
      "cell_type": "code",
      "source": [
        "import pandas as pd\n",
        "import tensorflow as tf\n",
        "import numpy as np\n",
        "import tensorflow.keras as keras\n",
        "import matplotlib.pyplot as plt\n",
        "from copy import deepcopy"
      ],
      "metadata": {
        "id": "j5_bZGnS8izB"
      },
      "execution_count": 4,
      "outputs": []
    },
    {
      "cell_type": "markdown",
      "source": [
        "# Dataset"
      ],
      "metadata": {
        "id": "f2F3uD7W8KMH"
      }
    },
    {
      "cell_type": "code",
      "execution_count": 5,
      "metadata": {
        "id": "xwyeeLyzCMF-",
        "colab": {
          "base_uri": "https://localhost:8080/"
        },
        "outputId": "af0c6d73-dc82-4e14-ae61-9ce502fd2915"
      },
      "outputs": [
        {
          "output_type": "stream",
          "name": "stdout",
          "text": [
            "Downloading...\n",
            "From: https://archive.ics.uci.edu/ml/machine-learning-databases/00240/UCI%20HAR%20Dataset.zip\n",
            "To: /content/Dataset.zip\n",
            "100% 61.0M/61.0M [00:00<00:00, 101MB/s]\n"
          ]
        }
      ],
      "source": [
        "!gdown https://archive.ics.uci.edu/ml/machine-learning-databases/00240/UCI%20HAR%20Dataset.zip -O \"/content/Dataset.zip\""
      ]
    },
    {
      "cell_type": "code",
      "source": [
        "!unzip /content/Dataset.zip"
      ],
      "metadata": {
        "colab": {
          "base_uri": "https://localhost:8080/"
        },
        "id": "NDM9CJlO8vzQ",
        "outputId": "1fd6dd6b-8752-4781-d8a8-e72a4620973d"
      },
      "execution_count": 6,
      "outputs": [
        {
          "output_type": "stream",
          "name": "stdout",
          "text": [
            "Archive:  /content/Dataset.zip\n",
            "   creating: UCI HAR Dataset/\n",
            "  inflating: UCI HAR Dataset/.DS_Store  \n",
            "   creating: __MACOSX/\n",
            "   creating: __MACOSX/UCI HAR Dataset/\n",
            "  inflating: __MACOSX/UCI HAR Dataset/._.DS_Store  \n",
            "  inflating: UCI HAR Dataset/activity_labels.txt  \n",
            "  inflating: __MACOSX/UCI HAR Dataset/._activity_labels.txt  \n",
            "  inflating: UCI HAR Dataset/features.txt  \n",
            "  inflating: __MACOSX/UCI HAR Dataset/._features.txt  \n",
            "  inflating: UCI HAR Dataset/features_info.txt  \n",
            "  inflating: __MACOSX/UCI HAR Dataset/._features_info.txt  \n",
            "  inflating: UCI HAR Dataset/README.txt  \n",
            "  inflating: __MACOSX/UCI HAR Dataset/._README.txt  \n",
            "   creating: UCI HAR Dataset/test/\n",
            "   creating: UCI HAR Dataset/test/Inertial Signals/\n",
            "  inflating: UCI HAR Dataset/test/Inertial Signals/body_acc_x_test.txt  \n",
            "   creating: __MACOSX/UCI HAR Dataset/test/\n",
            "   creating: __MACOSX/UCI HAR Dataset/test/Inertial Signals/\n",
            "  inflating: __MACOSX/UCI HAR Dataset/test/Inertial Signals/._body_acc_x_test.txt  \n",
            "  inflating: UCI HAR Dataset/test/Inertial Signals/body_acc_y_test.txt  \n",
            "  inflating: __MACOSX/UCI HAR Dataset/test/Inertial Signals/._body_acc_y_test.txt  \n",
            "  inflating: UCI HAR Dataset/test/Inertial Signals/body_acc_z_test.txt  \n",
            "  inflating: __MACOSX/UCI HAR Dataset/test/Inertial Signals/._body_acc_z_test.txt  \n",
            "  inflating: UCI HAR Dataset/test/Inertial Signals/body_gyro_x_test.txt  \n",
            "  inflating: __MACOSX/UCI HAR Dataset/test/Inertial Signals/._body_gyro_x_test.txt  \n",
            "  inflating: UCI HAR Dataset/test/Inertial Signals/body_gyro_y_test.txt  \n",
            "  inflating: __MACOSX/UCI HAR Dataset/test/Inertial Signals/._body_gyro_y_test.txt  \n",
            "  inflating: UCI HAR Dataset/test/Inertial Signals/body_gyro_z_test.txt  \n",
            "  inflating: __MACOSX/UCI HAR Dataset/test/Inertial Signals/._body_gyro_z_test.txt  \n",
            "  inflating: UCI HAR Dataset/test/Inertial Signals/total_acc_x_test.txt  \n",
            "  inflating: __MACOSX/UCI HAR Dataset/test/Inertial Signals/._total_acc_x_test.txt  \n",
            "  inflating: UCI HAR Dataset/test/Inertial Signals/total_acc_y_test.txt  \n",
            "  inflating: __MACOSX/UCI HAR Dataset/test/Inertial Signals/._total_acc_y_test.txt  \n",
            "  inflating: UCI HAR Dataset/test/Inertial Signals/total_acc_z_test.txt  \n",
            "  inflating: __MACOSX/UCI HAR Dataset/test/Inertial Signals/._total_acc_z_test.txt  \n",
            "  inflating: __MACOSX/UCI HAR Dataset/test/._Inertial Signals  \n",
            "  inflating: UCI HAR Dataset/test/subject_test.txt  \n",
            "  inflating: __MACOSX/UCI HAR Dataset/test/._subject_test.txt  \n",
            "  inflating: UCI HAR Dataset/test/X_test.txt  \n",
            "  inflating: __MACOSX/UCI HAR Dataset/test/._X_test.txt  \n",
            "  inflating: UCI HAR Dataset/test/y_test.txt  \n",
            "  inflating: __MACOSX/UCI HAR Dataset/test/._y_test.txt  \n",
            "  inflating: __MACOSX/UCI HAR Dataset/._test  \n",
            "   creating: UCI HAR Dataset/train/\n",
            "   creating: UCI HAR Dataset/train/Inertial Signals/\n",
            "  inflating: UCI HAR Dataset/train/Inertial Signals/body_acc_x_train.txt  \n",
            "   creating: __MACOSX/UCI HAR Dataset/train/\n",
            "   creating: __MACOSX/UCI HAR Dataset/train/Inertial Signals/\n",
            "  inflating: __MACOSX/UCI HAR Dataset/train/Inertial Signals/._body_acc_x_train.txt  \n",
            "  inflating: UCI HAR Dataset/train/Inertial Signals/body_acc_y_train.txt  \n",
            "  inflating: __MACOSX/UCI HAR Dataset/train/Inertial Signals/._body_acc_y_train.txt  \n",
            "  inflating: UCI HAR Dataset/train/Inertial Signals/body_acc_z_train.txt  \n",
            "  inflating: __MACOSX/UCI HAR Dataset/train/Inertial Signals/._body_acc_z_train.txt  \n",
            "  inflating: UCI HAR Dataset/train/Inertial Signals/body_gyro_x_train.txt  \n",
            "  inflating: __MACOSX/UCI HAR Dataset/train/Inertial Signals/._body_gyro_x_train.txt  \n",
            "  inflating: UCI HAR Dataset/train/Inertial Signals/body_gyro_y_train.txt  \n",
            "  inflating: __MACOSX/UCI HAR Dataset/train/Inertial Signals/._body_gyro_y_train.txt  \n",
            "  inflating: UCI HAR Dataset/train/Inertial Signals/body_gyro_z_train.txt  \n",
            "  inflating: __MACOSX/UCI HAR Dataset/train/Inertial Signals/._body_gyro_z_train.txt  \n",
            "  inflating: UCI HAR Dataset/train/Inertial Signals/total_acc_x_train.txt  \n",
            "  inflating: __MACOSX/UCI HAR Dataset/train/Inertial Signals/._total_acc_x_train.txt  \n",
            "  inflating: UCI HAR Dataset/train/Inertial Signals/total_acc_y_train.txt  \n",
            "  inflating: __MACOSX/UCI HAR Dataset/train/Inertial Signals/._total_acc_y_train.txt  \n",
            "  inflating: UCI HAR Dataset/train/Inertial Signals/total_acc_z_train.txt  \n",
            "  inflating: __MACOSX/UCI HAR Dataset/train/Inertial Signals/._total_acc_z_train.txt  \n",
            "  inflating: __MACOSX/UCI HAR Dataset/train/._Inertial Signals  \n",
            "  inflating: UCI HAR Dataset/train/subject_train.txt  \n",
            "  inflating: __MACOSX/UCI HAR Dataset/train/._subject_train.txt  \n",
            "  inflating: UCI HAR Dataset/train/X_train.txt  \n",
            "  inflating: __MACOSX/UCI HAR Dataset/train/._X_train.txt  \n",
            "  inflating: UCI HAR Dataset/train/y_train.txt  \n",
            "  inflating: __MACOSX/UCI HAR Dataset/train/._y_train.txt  \n",
            "  inflating: __MACOSX/UCI HAR Dataset/._train  \n",
            "  inflating: __MACOSX/._UCI HAR Dataset  \n"
          ]
        }
      ]
    },
    {
      "cell_type": "code",
      "source": [
        "!gdown https://archive.ics.uci.edu/ml/machine-learning-databases/00240/UCI%20HAR%20Dataset.names -O \"/content/Dataset.names\""
      ],
      "metadata": {
        "colab": {
          "base_uri": "https://localhost:8080/"
        },
        "id": "7js37rWe8tck",
        "outputId": "40487a00-492a-48d8-c053-b33bfff3862e"
      },
      "execution_count": 7,
      "outputs": [
        {
          "output_type": "stream",
          "name": "stdout",
          "text": [
            "Downloading...\n",
            "From: https://archive.ics.uci.edu/ml/machine-learning-databases/00240/UCI%20HAR%20Dataset.names\n",
            "To: /content/Dataset.names\n",
            "\r  0% 0.00/6.30k [00:00<?, ?B/s]\r100% 6.30k/6.30k [00:00<00:00, 4.29MB/s]\n"
          ]
        }
      ]
    },
    {
      "cell_type": "code",
      "source": [
        "!cat \"/content/Dataset.names\""
      ],
      "metadata": {
        "colab": {
          "base_uri": "https://localhost:8080/"
        },
        "id": "oINwMqh094xN",
        "outputId": "87b11259-2cf3-434a-abdb-64f6b1fdeb29"
      },
      "execution_count": 8,
      "outputs": [
        {
          "output_type": "stream",
          "name": "stdout",
          "text": [
            "===================================================================================================\r\n",
            "Human Activity Recognition Using Smartphones Dataset\r\n",
            "Version 1.0\r\n",
            "===================================================================================================\r\n",
            "Jorge L. Reyes-Ortiz(1,2), Davide Anguita(1), Alessandro Ghio(1), Luca Oneto(1) and Xavier Parra(2)\r\n",
            "1 - Smartlab - Non-Linear Complex Systems Laboratory\r\n",
            "DITEN - Universit�  degli Studi di Genova, Genoa (I-16145), Italy. \r\n",
            "2 - CETpD - Technical Research Centre for Dependency Care and Autonomous Living\r\n",
            "Universitat Polit�cnica de Catalunya (BarcelonaTech). Vilanova i la Geltr� (08800), Spain\r\n",
            "activityrecognition '@' smartlab.ws \r\n",
            "===================================================================================================\r\n",
            "\r\n",
            "The experiments have been carried out with a group of 30 volunteers within an age bracket of 19-48 years. Each person performed six activities (WALKING, WALKING_UPSTAIRS, WALKING_DOWNSTAIRS, SITTING, STANDING, LAYING) wearing a smartphone (Samsung Galaxy S II) on the waist. Using its embedded accelerometer and gyroscope, we captured 3-axial linear acceleration and 3-axial angular velocity at a constant rate of 50Hz. The experiments have been video-recorded to label the data manually. The obtained dataset has been randomly partitioned into two sets, where 70% of the volunteers was selected for generating the training data and 30% the test data. \r\n",
            "\r\n",
            "The sensor signals (accelerometer and gyroscope) were pre-processed by applying noise filters and then sampled in fixed-width sliding windows of 2.56 sec and 50% overlap (128 readings/window). The sensor acceleration signal, which has gravitational and body motion components, was separated using a Butterworth low-pass filter into body acceleration and gravity. The gravitational force is assumed to have only low frequency components, therefore a filter with 0.3 Hz cutoff frequency was used. From each window, a vector of features was obtained by calculating variables from the time and frequency domain. See 'features_info.txt' for more details. \r\n",
            "\r\n",
            "For each record it is provided:\r\n",
            "======================================\r\n",
            "\r\n",
            "- Triaxial acceleration from the accelerometer (total acceleration) and the estimated body acceleration.\r\n",
            "- Triaxial Angular velocity from the gyroscope. \r\n",
            "- A 561-feature vector with time and frequency domain variables. \r\n",
            "- Its activity label. \r\n",
            "- An identifier of the subject who carried out the experiment.\r\n",
            "\r\n",
            "The dataset includes the following files:\r\n",
            "=========================================\r\n",
            "\r\n",
            "- 'README.txt'\r\n",
            "\r\n",
            "- 'features_info.txt': Shows information about the variables used on the feature vector.\r\n",
            "\r\n",
            "- 'features.txt': List of all features.\r\n",
            "\r\n",
            "- 'activity_labels.txt': Links the class labels with their activity name.\r\n",
            "\r\n",
            "- 'train/X_train.txt': Training set.\r\n",
            "\r\n",
            "- 'train/y_train.txt': Training labels.\r\n",
            "\r\n",
            "- 'test/X_test.txt': Test set.\r\n",
            "\r\n",
            "- 'test/y_test.txt': Test labels.\r\n",
            "\r\n",
            "The following files are available for the train and test data. Their descriptions are equivalent. \r\n",
            "\r\n",
            "- 'train/subject_train.txt': Each row identifies the subject who performed the activity for each window sample. Its range is from 1 to 30. \r\n",
            "\r\n",
            "- 'train/Inertial Signals/total_acc_x_train.txt': The acceleration signal from the smartphone accelerometer X axis in standard gravity units 'g'. Every row shows a 128 element vector. The same description applies for the 'total_acc_x_train.txt' and 'total_acc_z_train.txt' files for the Y and Z axis. \r\n",
            "\r\n",
            "- 'train/Inertial Signals/body_acc_x_train.txt': The body acceleration signal obtained by subtracting the gravity from the total acceleration. \r\n",
            "\r\n",
            "- 'train/Inertial Signals/body_gyro_x_train.txt': The angular velocity vector measured by the gyroscope for each window sample. The units are radians/second. \r\n",
            "\r\n",
            "Notes: \r\n",
            "======\r\n",
            "- Features are normalized and bounded within [-1,1].\r\n",
            "- Each feature vector is a row on the text file.\r\n",
            "- The units used for the accelerations (total and body) are 'g's (gravity of earth -> 9.80665 m/seg2).\r\n",
            "- The gyroscope units are rad/seg.\r\n",
            "- A video of the experiment including an example of the 6 recorded activities with one of the participants can be seen in the following link: http://www.youtube.com/watch?v=XOEN9W05_4A\r\n",
            "\r\n",
            "For more information about this dataset please contact: activityrecognition '@' smartlab.ws\r\n",
            "\r\n",
            "License:\r\n",
            "========\r\n",
            "Use of this dataset in publications must be acknowledged by referencing the following publication [1] \r\n",
            "\r\n",
            "[1] Davide Anguita, Alessandro Ghio, Luca Oneto, Xavier Parra and Jorge L. Reyes-Ortiz. A Public Domain Dataset for Human Activity Recognition Using Smartphones. 21th European Symposium on Artificial Neural Networks, Computational Intelligence and Machine Learning, ESANN 2013. Bruges, Belgium 24-26 April 2013. \r\n",
            "\r\n",
            "This dataset is distributed AS-IS and no responsibility implied or explicit can be addressed to the authors or their institutions for its use or misuse. Any commercial use is prohibited.\r\n",
            "\r\n",
            "Other Related Publications:\r\n",
            "===========================\r\n",
            "[2] Davide Anguita, Alessandro Ghio, Luca Oneto, Xavier Parra, Jorge L. Reyes-Ortiz.  Energy Efficient Smartphone-Based Activity Recognition using Fixed-Point Arithmetic. Journal of Universal Computer Science. Special Issue in Ambient Assisted Living: Home Care.   Volume 19, Issue 9. May 2013\r\n",
            "\r\n",
            "[3] Davide Anguita, Alessandro Ghio, Luca Oneto, Xavier Parra and Jorge L. Reyes-Ortiz. Human Activity Recognition on Smartphones using a Multiclass Hardware-Friendly Support Vector Machine. 4th International Workshop of Ambient Assited Living, IWAAL 2012, Vitoria-Gasteiz, Spain, December 3-5, 2012. Proceedings. Lecture Notes in Computer Science 2012, pp 216-223. \r\n",
            "\r\n",
            "[4] Jorge Luis Reyes-Ortiz, Alessandro Ghio, Xavier Parra-Llanas, Davide Anguita, Joan Cabestany, Andreu Catal�. Human Activity and Motion Disorder Recognition: Towards Smarter Interactive Cognitive Environments. 21th European Symposium on Artificial Neural Networks, Computational Intelligence and Machine Learning, ESANN 2013. Bruges, Belgium 24-26 April 2013.  \r\n",
            "\r\n",
            "==================================================================================================\r\n",
            "Jorge L. Reyes-Ortiz, Alessandro Ghio, Luca Oneto, Davide Anguita and Xavier Parra. November 2013.\r\n"
          ]
        }
      ]
    },
    {
      "cell_type": "code",
      "source": [
        "!cat \"/content/UCI HAR Dataset/activity_labels.txt\""
      ],
      "metadata": {
        "colab": {
          "base_uri": "https://localhost:8080/"
        },
        "id": "HlHR2zgU-Yk3",
        "outputId": "aa253e47-b701-40b9-ae05-77e7d008ce8a"
      },
      "execution_count": 9,
      "outputs": [
        {
          "output_type": "stream",
          "name": "stdout",
          "text": [
            "1 WALKING\n",
            "2 WALKING_UPSTAIRS\n",
            "3 WALKING_DOWNSTAIRS\n",
            "4 SITTING\n",
            "5 STANDING\n",
            "6 LAYING\n"
          ]
        }
      ]
    },
    {
      "cell_type": "code",
      "source": [
        "X_train = pd.read_csv(\"/content/UCI HAR Dataset/train/X_train.txt\", delimiter=r\"\\s+\", header=None)\n",
        "X_test = pd.read_csv(\"/content/UCI HAR Dataset/test/X_test.txt\", delimiter=r\"\\s+\", header=None)\n",
        "y_train = pd.read_csv(\"/content/UCI HAR Dataset/train/y_train.txt\", delimiter=r\"\\s+\", header=None)\n",
        "y_test = pd.read_csv(\"/content/UCI HAR Dataset/test/y_test.txt\", delimiter=r\"\\s+\", header=None)"
      ],
      "metadata": {
        "id": "V3JPy5L5qgHW"
      },
      "execution_count": 10,
      "outputs": []
    },
    {
      "cell_type": "code",
      "source": [
        "X_train[\"Class\"] = y_train\n",
        "X_test[\"Class\"] = y_test"
      ],
      "metadata": {
        "id": "ehah1xhWFG1E"
      },
      "execution_count": 11,
      "outputs": []
    },
    {
      "cell_type": "code",
      "source": [
        "X_valid, X_train = np.split(X_train.sample(frac=1, random_state=0), [int(.125*len(X_train))])"
      ],
      "metadata": {
        "id": "eFqW_pxw_2Yk"
      },
      "execution_count": 12,
      "outputs": []
    },
    {
      "cell_type": "code",
      "source": [
        "y_train = X_train[\"Class\"]\n",
        "X_train = X_train.drop(columns=[\"Class\"])\n",
        "\n",
        "y_valid = X_valid[\"Class\"]\n",
        "X_valid = X_valid.drop(columns=[\"Class\"])"
      ],
      "metadata": {
        "id": "pGez1UEkH119"
      },
      "execution_count": 13,
      "outputs": []
    },
    {
      "cell_type": "code",
      "source": [
        "y_train = y_train.apply(lambda x:x-1)\n",
        "y_test = y_test.apply(lambda x:x-1)\n",
        "y_valid = y_valid.apply(lambda x:x-1)"
      ],
      "metadata": {
        "id": "6pUkZ-WvQxoB"
      },
      "execution_count": 14,
      "outputs": []
    },
    {
      "cell_type": "markdown",
      "source": [
        "# MLP Classifer"
      ],
      "metadata": {
        "id": "CdO_O8ws5wPh"
      }
    },
    {
      "cell_type": "code",
      "source": [
        "class MLPModel(keras.Model):\n",
        "  def __init__(self, number_hidden_layers, number_hidden_units):\n",
        "    super().__init__()\n",
        "\n",
        "    if number_hidden_layers<0:\n",
        "      raise Exception(\"The number of hidden layers must be a non-negetive number\")\n",
        "\n",
        "    if number_hidden_layers != len(number_hidden_units):\n",
        "      raise Exception(\"The number of hidden layers must equal to the length of the number of hidden units list\")\n",
        "\n",
        "    self.model = keras.models.Sequential()\n",
        "\n",
        "    for i in range(number_hidden_layers):\n",
        "      self.model.add(keras.layers.Dense(units=number_hidden_units[i], activation=\"relu\", name=f\"Dense_Layer_{i+1}\"))\n",
        "\n",
        "    self.model.add(keras.layers.Dense(6, activation=\"softmax\", name=\"Output_Layer\"))\n",
        "\n",
        "  def call(self, inputs):\n",
        "    return self.model(inputs)"
      ],
      "metadata": {
        "id": "MrD12o6V2KpU"
      },
      "execution_count": 79,
      "outputs": []
    },
    {
      "cell_type": "code",
      "source": [
        "def train_and_evaluate(number_hidden_layers, number_hidden_units, learning_rate):\n",
        "  es_callback = keras.callbacks.EarlyStopping(monitor=\"val_loss\", restore_best_weights=True, patience=5)\n",
        "\n",
        "  model = MLPModel(number_hidden_layers=number_hidden_layers, number_hidden_units=number_hidden_units)\n",
        "\n",
        "  opt = tf.keras.optimizers.Adam(learning_rate=learning_rate)\n",
        "  \n",
        "  model.compile(optimizer=opt, loss=\"sparse_categorical_crossentropy\", metrics=[\"accuracy\"])\n",
        "\n",
        "  model.fit(x=X_train, y=y_train, epochs=30, validation_data=(X_valid, y_valid), verbose=0, callbacks=[es_callback])\n",
        "\n",
        "  train_accuracy = model.evaluate(X_train, y_train, verbose=0)[1]\n",
        "  validation_accuracy = model.evaluate(X_valid, y_valid, verbose=0)[1]\n",
        "\n",
        "  print(f\"Train = {round(train_accuracy*100, 2)}, Validation = {round(validation_accuracy*100, 2)}\")"
      ],
      "metadata": {
        "id": "FEgCM9BW7kat"
      },
      "execution_count": 123,
      "outputs": []
    },
    {
      "cell_type": "markdown",
      "source": [
        "# Learning Rate Fine-tuning"
      ],
      "metadata": {
        "id": "HJpVmTbPlUOS"
      }
    },
    {
      "cell_type": "code",
      "source": [
        "for learning_rate in [0.0001, 0.0005, 0.001, 0.003, 0.005, 0.01, 0.1]:\n",
        "  print(f\"Learning Rate = {learning_rate}\")\n",
        "  train_and_evaluate(number_hidden_layers=3, number_hidden_units=[128, 64, 32], learning_rate=0.001)\n",
        "  print(\"\")"
      ],
      "metadata": {
        "colab": {
          "base_uri": "https://localhost:8080/"
        },
        "id": "V5OGkKLNifjj",
        "outputId": "a8f46aad-d80b-45df-e932-f1f6dacd3e41"
      },
      "execution_count": 124,
      "outputs": [
        {
          "output_type": "stream",
          "name": "stdout",
          "text": [
            "Learning Rate = 0.0001\n",
            "Train = 98.83, Validation = 97.71\n",
            "\n",
            "Learning Rate = 0.0005\n",
            "Train = 98.85, Validation = 97.82\n",
            "\n",
            "Learning Rate = 0.001\n",
            "Train = 97.95, Validation = 96.52\n",
            "\n",
            "Learning Rate = 0.003\n",
            "Train = 98.8, Validation = 98.04\n",
            "\n",
            "Learning Rate = 0.005\n",
            "Train = 98.4, Validation = 97.17\n",
            "\n",
            "Learning Rate = 0.01\n",
            "Train = 98.77, Validation = 97.93\n",
            "\n",
            "Learning Rate = 0.1\n",
            "Train = 98.57, Validation = 97.93\n",
            "\n"
          ]
        }
      ]
    },
    {
      "cell_type": "markdown",
      "source": [
        "# Number Layer and Number Neuron Fine-tuning"
      ],
      "metadata": {
        "id": "AW_-4dPPlZf1"
      }
    },
    {
      "cell_type": "code",
      "source": [
        "train_and_evaluate(number_hidden_layers=0, number_hidden_units=[], learning_rate=0.003)\n",
        "print(\"\")"
      ],
      "metadata": {
        "colab": {
          "base_uri": "https://localhost:8080/"
        },
        "id": "wNEc3An_i0uz",
        "outputId": "aadfe69a-f222-46cf-da5f-64a3b0a0af13"
      },
      "execution_count": 125,
      "outputs": [
        {
          "output_type": "stream",
          "name": "stdout",
          "text": [
            "Train = 98.82, Validation = 97.93\n",
            "\n"
          ]
        }
      ]
    },
    {
      "cell_type": "code",
      "source": [
        "for number_hidden_units in [[32], [64], [128]]:\n",
        "  print(f\"number_hidden_units = {number_hidden_units}\")\n",
        "  train_and_evaluate(number_hidden_layers=1, number_hidden_units=number_hidden_units, learning_rate=0.003)\n",
        "  print(\"\")"
      ],
      "metadata": {
        "colab": {
          "base_uri": "https://localhost:8080/"
        },
        "id": "ySIXtRVvlR01",
        "outputId": "3a002eb4-411c-4dec-b507-2f4b440859a1"
      },
      "execution_count": 126,
      "outputs": [
        {
          "output_type": "stream",
          "name": "stdout",
          "text": [
            "number_hidden_units = [32]\n",
            "Train = 98.96, Validation = 97.93\n",
            "\n",
            "number_hidden_units = [64]\n",
            "Train = 98.87, Validation = 97.82\n",
            "\n",
            "number_hidden_units = [128]\n",
            "Train = 98.87, Validation = 98.04\n",
            "\n"
          ]
        }
      ]
    },
    {
      "cell_type": "code",
      "source": [
        "for number_hidden_units in [\n",
        "                            [32, 32], [64, 32], [128, 128]\n",
        "                            ]:\n",
        "  print(f\"number_hidden_units = {number_hidden_units}\")\n",
        "  train_and_evaluate(number_hidden_layers=2, number_hidden_units=number_hidden_units, learning_rate=0.003)\n",
        "  print(\"\")"
      ],
      "metadata": {
        "colab": {
          "base_uri": "https://localhost:8080/"
        },
        "id": "IoDRMe3-l79A",
        "outputId": "17de5942-3702-42da-c709-e5c88edd04ad"
      },
      "execution_count": 127,
      "outputs": [
        {
          "output_type": "stream",
          "name": "stdout",
          "text": [
            "number_hidden_units = [32, 32]\n",
            "Train = 98.87, Validation = 98.26\n",
            "\n",
            "number_hidden_units = [64, 32]\n",
            "Train = 98.4, Validation = 97.06\n",
            "\n",
            "number_hidden_units = [128, 128]\n",
            "Train = 97.28, Validation = 96.63\n",
            "\n"
          ]
        }
      ]
    },
    {
      "cell_type": "code",
      "source": [
        "for number_hidden_units in [\n",
        "                            [64, 32, 32], [64, 64, 64], [128, 64, 32]\n",
        "                            ]:\n",
        "  print(f\"number_hidden_units = {number_hidden_units}\")\n",
        "  train_and_evaluate(number_hidden_layers=3, number_hidden_units=number_hidden_units, learning_rate=0.003)\n",
        "  print(\"\")"
      ],
      "metadata": {
        "colab": {
          "base_uri": "https://localhost:8080/"
        },
        "id": "Vg4yKaXemQJu",
        "outputId": "90586100-816b-435d-b9bb-ef90f3136c95"
      },
      "execution_count": 128,
      "outputs": [
        {
          "output_type": "stream",
          "name": "stdout",
          "text": [
            "number_hidden_units = [64, 32, 32]\n",
            "Train = 98.49, Validation = 97.71\n",
            "\n",
            "number_hidden_units = [64, 64, 64]\n",
            "Train = 98.15, Validation = 97.39\n",
            "\n",
            "number_hidden_units = [128, 64, 32]\n",
            "Train = 98.26, Validation = 97.28\n",
            "\n"
          ]
        }
      ]
    },
    {
      "cell_type": "code",
      "source": [
        "for number_hidden_units in [\n",
        "                            [128, 128, 64, 64], [128, 64, 32, 16], [128, 64, 32, 64]\n",
        "                            ]:\n",
        "  print(f\"number_hidden_units = {number_hidden_units}\")\n",
        "  train_and_evaluate(number_hidden_layers=4, number_hidden_units=number_hidden_units, learning_rate=0.05)\n",
        "  print(\"\")"
      ],
      "metadata": {
        "colab": {
          "base_uri": "https://localhost:8080/"
        },
        "id": "-cRFD9AFmaDH",
        "outputId": "347173c5-6496-488e-d248-97b970f34093"
      },
      "execution_count": 129,
      "outputs": [
        {
          "output_type": "stream",
          "name": "stdout",
          "text": [
            "number_hidden_units = [128, 128, 64, 64]\n",
            "Train = 18.76, Validation = 18.17\n",
            "\n",
            "number_hidden_units = [128, 64, 32, 16]\n",
            "Train = 52.45, Validation = 50.82\n",
            "\n",
            "number_hidden_units = [128, 64, 32, 64]\n",
            "Train = 18.76, Validation = 18.17\n",
            "\n"
          ]
        }
      ]
    },
    {
      "cell_type": "markdown",
      "source": [
        "# SOM"
      ],
      "metadata": {
        "id": "19ALn6EJrSdz"
      }
    },
    {
      "cell_type": "code",
      "source": [
        "import colorsys\n",
        "\n",
        "class SOM():\n",
        "  def __init__(self, number_epochs, map_size, number_features,\n",
        "               initial_learning_rate, initial_radius, radius_decay, X_train):\n",
        "    \n",
        "    self.number_epochs = number_epochs\n",
        "    self.map_size = map_size\n",
        "    self.number_features = number_features\n",
        "    self.learning_rate = initial_learning_rate\n",
        "    self.radius_decay = radius_decay\n",
        "    self.radius = initial_radius\n",
        "    self.initial_learning_rate = initial_learning_rate\n",
        "    \n",
        "    self._initiate_weight(X_train)\n",
        "\n",
        "    self.visualize(X_train, y_train.to_numpy())\n",
        "\n",
        "  def _initiate_weight(self, X_train):\n",
        "\n",
        "    self.weight = []\n",
        "    for i in range(self.map_size[0]):\n",
        "      row_list = []\n",
        "      for j in range(self.map_size[1]):\n",
        "        row_list.append(X_train[np.random.choice(X_train.shape[0])])\n",
        "      self.weight.append(row_list)\n",
        "    self.weight = np.array(self.weight)\n",
        "\n",
        "  def train(self, X_train):\n",
        "    self.weight_changes_list = []\n",
        "    for epoch in range(self.number_epochs):\n",
        "      print(f\"epoch = {epoch}\")\n",
        "      prev_weight = deepcopy(self.weight)\n",
        "      for i, row in enumerate(X_train):\n",
        "        winner = self.find_winner(row)\n",
        "        NS = self.calculate_NS(row, winner)\n",
        "        self.update_weights(NS, row)\n",
        "\n",
        "      self.weight_changes_list.append(np.linalg.norm(prev_weight - self.weight))\n",
        "\n",
        "      self.learning_rate -= (self.initial_learning_rate/self.number_epochs)\n",
        "      self.radius *= self.radius_decay\n",
        "\n",
        "  def find_winner(self, row):\n",
        "    winner_distance = np.inf\n",
        "    winner = (None, None)\n",
        "\n",
        "    for i in range(self.map_size[0]):\n",
        "      for j in range(self.map_size[1]):\n",
        "        neuron_weight = self.weight[i][j]\n",
        "        neuron_distance = self.distance(neuron_weight, row)\n",
        "        \n",
        "        if neuron_distance < winner_distance:\n",
        "          winner_distance = neuron_distance\n",
        "          winner = (i, j)\n",
        "    \n",
        "    return winner\n",
        "\n",
        "  def calculate_NS(self, row, winner):\n",
        "    NS = np.zeros(self.map_size)\n",
        "\n",
        "    for i in range(self.map_size[0]):\n",
        "      for j in range(self.map_size[1]):\n",
        "          neuron_distance = self.distance(np.array((i, j)), np.array(winner))\n",
        "\n",
        "          if neuron_distance <= self.radius:\n",
        "            NS[i][j] = 1 - neuron_distance / self.radius\n",
        "    \n",
        "    return NS\n",
        "\n",
        "  def update_weights(self, NS, row):\n",
        "    for i in range(self.map_size[0]):\n",
        "      for j in range(self.map_size[1]):\n",
        "\n",
        "        delta = row - self.weight[i][j]\n",
        "        self.weight[i][j] += NS[i][j] * self.learning_rate * delta\n",
        "\n",
        "  def visualize(self, X_train, y_train):\n",
        "    number_labels = len(set(y_train))\n",
        "    self.scores = np.zeros((self.map_size[0], self.map_size[1], number_labels))\n",
        "\n",
        "    for i in range(len(X_train)):\n",
        "      row = X_train[i]\n",
        "      label = y_train[i]\n",
        "      winner = self.find_winner(row)\n",
        "      self.scores[winner[0]][winner[1]][label] += 1\n",
        "\n",
        "    best_label = np.zeros((self.map_size[0], self.map_size[1]), dtype=int)\n",
        "\n",
        "    for i in range(self.map_size[0]):\n",
        "      for j in range(self.map_size[1]):\n",
        "        if np.all(self.scores[i][j] == 0):\n",
        "          best_label[i][j] == number_labels + 1\n",
        "        else:\n",
        "          best_label[i][j] = np.argmax(self.scores[i][j])\n",
        "\n",
        "    label_colors = self._get_colors(number_labels)\n",
        "    label_colors.append((0, 0, 0))\n",
        "\n",
        "    map_color = []\n",
        "    for i in range(self.map_size[0]):\n",
        "      map_row_color = []\n",
        "      for j in range(self.map_size[1]):\n",
        "        map_row_color.append(label_colors[best_label[i][j]])\n",
        "      map_color.append(map_row_color)\n",
        "    \n",
        "    plt.imshow(map_color)\n",
        "    plt.show()\n",
        "\n",
        "  @staticmethod\n",
        "  def distance(array1, array2):\n",
        "    return np.linalg.norm(array1 - array2)\n",
        "\n",
        "  @staticmethod\n",
        "  def _get_colors(num_colors):\n",
        "      colors=[]\n",
        "      for i in np.arange(0., 360., 360. / num_colors):\n",
        "          hue = i/360.\n",
        "          lightness = (50 + np.random.rand() * 10)/100.\n",
        "          saturation = (90 + np.random.rand() * 10)/100.\n",
        "          colors.append(colorsys.hls_to_rgb(hue, lightness, saturation))\n",
        "      return colors"
      ],
      "metadata": {
        "id": "4xW0sGOGn85x"
      },
      "execution_count": 96,
      "outputs": []
    },
    {
      "cell_type": "code",
      "source": [
        "som = SOM(number_epochs=5, map_size=(10,10), number_features=len(X_train.columns),\n",
        "               initial_learning_rate=0.00001, initial_radius=5,\n",
        "               radius_decay=0.95, X_train=X_train.to_numpy())"
      ],
      "metadata": {
        "colab": {
          "base_uri": "https://localhost:8080/",
          "height": 438
        },
        "id": "FtrpL06V405j",
        "outputId": "56af1f2f-5fa7-47f3-f22b-807fd0ddd3b2"
      },
      "execution_count": 97,
      "outputs": [
        {
          "output_type": "stream",
          "name": "stdout",
          "text": [
            "[[1 5 3 0 4 5 1 3 2 4]\n",
            " [3 0 2 0 4 1 1 4 2 3]\n",
            " [5 0 3 5 3 1 0 0 2 5]\n",
            " [3 5 5 0 3 2 2 0 1 5]\n",
            " [3 5 5 0 3 5 2 2 0 0]\n",
            " [3 3 2 0 5 2 5 1 0 0]\n",
            " [0 2 1 3 4 4 2 2 5 2]\n",
            " [1 1 0 4 1 4 4 0 0 5]\n",
            " [3 5 0 0 2 2 1 2 3 4]\n",
            " [4 2 2 2 3 4 3 4 5 5]]\n"
          ]
        },
        {
          "output_type": "display_data",
          "data": {
            "text/plain": [
              "<Figure size 432x288 with 1 Axes>"
            ],
            "image/png": "[encoded data removed]"
          },
          "metadata": {
            "needs_background": "light"
          }
        }
      ]
    },
    {
      "cell_type": "code",
      "source": [
        "som.train(X_train.to_numpy(), y_train.to_numpy())"
      ],
      "metadata": {
        "colab": {
          "base_uri": "https://localhost:8080/",
          "height": 1000
        },
        "id": "qmcywJCYD-xM",
        "outputId": "d54c9671-aeb1-48e0-f4bf-ee13bc318158"
      },
      "execution_count": 98,
      "outputs": [
        {
          "output_type": "stream",
          "name": "stdout",
          "text": [
            "epoch = 0\n",
            "[[1 5 3 0 4 5 1 3 2 4]\n",
            " [3 0 2 0 4 1 1 3 2 3]\n",
            " [5 0 3 5 3 1 0 0 2 5]\n",
            " [3 5 5 0 3 2 2 0 1 5]\n",
            " [3 5 5 0 3 5 2 2 0 0]\n",
            " [3 3 2 0 5 2 5 1 0 0]\n",
            " [0 2 1 3 4 4 2 2 5 2]\n",
            " [1 1 0 4 1 4 4 0 0 5]\n",
            " [3 5 0 0 2 2 1 2 3 4]\n",
            " [4 2 2 2 3 4 3 4 5 5]]\n",
            "epoch = 1\n",
            "[[1 5 3 0 4 5 1 3 2 4]\n",
            " [3 0 2 0 4 1 1 3 2 3]\n",
            " [5 0 3 5 3 1 0 0 2 5]\n",
            " [3 5 5 0 4 2 2 0 1 5]\n",
            " [3 5 5 0 3 5 2 2 0 0]\n",
            " [3 3 2 0 5 2 5 1 0 0]\n",
            " [0 2 1 3 4 4 2 2 5 2]\n",
            " [1 1 0 4 1 4 4 0 0 5]\n",
            " [3 5 0 0 2 2 1 2 3 4]\n",
            " [4 2 2 2 3 4 3 4 5 5]]\n",
            "epoch = 2\n",
            "[[1 5 3 0 4 5 1 3 2 4]\n",
            " [3 0 2 0 4 1 1 3 2 3]\n",
            " [5 0 3 5 3 1 0 0 2 5]\n",
            " [3 5 5 0 4 2 2 0 1 5]\n",
            " [3 5 5 0 3 5 2 2 0 0]\n",
            " [3 3 2 0 5 2 5 1 0 0]\n",
            " [0 2 1 3 4 4 2 2 5 2]\n",
            " [1 1 0 4 1 4 4 0 0 5]\n",
            " [3 5 0 0 2 2 1 2 3 4]\n",
            " [4 2 2 2 3 4 3 4 5 5]]\n",
            "epoch = 3\n",
            "[[1 5 3 0 4 5 1 3 2 4]\n",
            " [3 0 2 0 4 1 1 3 2 3]\n",
            " [5 0 3 5 3 1 0 0 2 5]\n",
            " [3 5 5 0 3 2 2 0 1 5]\n",
            " [3 5 5 0 3 5 2 2 0 0]\n",
            " [3 3 2 0 5 2 5 1 0 0]\n",
            " [0 2 1 3 4 4 2 2 5 2]\n",
            " [1 1 0 4 1 4 4 0 0 5]\n",
            " [3 5 0 0 2 2 1 2 3 4]\n",
            " [4 2 2 2 3 4 3 4 5 5]]\n",
            "epoch = 4\n",
            "[[1 5 3 0 4 5 1 3 2 4]\n",
            " [3 0 2 0 4 1 1 3 2 3]\n",
            " [5 0 3 5 3 1 0 0 2 5]\n",
            " [3 5 5 0 3 2 2 0 1 5]\n",
            " [3 5 5 0 3 5 2 2 0 0]\n",
            " [3 3 2 0 5 2 5 1 0 0]\n",
            " [0 2 1 3 4 4 2 2 5 2]\n",
            " [1 1 0 4 1 4 4 0 0 5]\n",
            " [3 5 0 0 2 2 1 2 3 4]\n",
            " [4 2 2 2 3 4 3 4 5 5]]\n"
          ]
        },
        {
          "output_type": "display_data",
          "data": {
            "text/plain": [
              "<Figure size 432x288 with 1 Axes>"
            ],
            "image/png": "[encoded data removed]"
          },
          "metadata": {
            "needs_background": "light"
          }
        }
      ]
    },
    {
      "cell_type": "code",
      "source": [
        "som.weight_changes_list"
      ],
      "metadata": {
        "colab": {
          "base_uri": "https://localhost:8080/"
        },
        "id": "sUENhn_eEEOb",
        "outputId": "e1713026-21ea-4855-c7bf-904e55cf8503"
      },
      "execution_count": 80,
      "outputs": [
        {
          "output_type": "execute_result",
          "data": {
            "text/plain": [
              "[0.9437250162826362,\n",
              " 0.6927020625842822,\n",
              " 0.4728722243268283,\n",
              " 0.2868846960680046,\n",
              " 0.13064163187485167]"
            ]
          },
          "metadata": {},
          "execution_count": 80
        }
      ]
    },
    {
      "cell_type": "code",
      "source": [
        "som.visualize(X_train.to_numpy(), y_train.to_numpy())"
      ],
      "metadata": {
        "colab": {
          "base_uri": "https://localhost:8080/"
        },
        "id": "GJkXQRZyEq4D",
        "outputId": "50ec3463-291c-4616-d89d-6f7eef60b25e"
      },
      "execution_count": 41,
      "outputs": [
        {
          "output_type": "stream",
          "name": "stdout",
          "text": [
            "[[[0.000e+00 0.000e+00 0.000e+00 0.000e+00 0.000e+00 0.000e+00]\n",
            "  [0.000e+00 0.000e+00 0.000e+00 0.000e+00 0.000e+00 0.000e+00]\n",
            "  [0.000e+00 0.000e+00 1.000e+00 0.000e+00 0.000e+00 0.000e+00]\n",
            "  [0.000e+00 0.000e+00 0.000e+00 0.000e+00 0.000e+00 0.000e+00]\n",
            "  [0.000e+00 0.000e+00 0.000e+00 0.000e+00 0.000e+00 0.000e+00]\n",
            "  [0.000e+00 0.000e+00 0.000e+00 0.000e+00 0.000e+00 0.000e+00]\n",
            "  [0.000e+00 0.000e+00 0.000e+00 0.000e+00 0.000e+00 0.000e+00]\n",
            "  [0.000e+00 0.000e+00 0.000e+00 0.000e+00 0.000e+00 0.000e+00]\n",
            "  [0.000e+00 0.000e+00 0.000e+00 0.000e+00 0.000e+00 0.000e+00]\n",
            "  [0.000e+00 0.000e+00 0.000e+00 0.000e+00 0.000e+00 0.000e+00]]\n",
            "\n",
            " [[1.068e+03 9.390e+02 8.680e+02 1.113e+03 1.207e+03 1.236e+03]\n",
            "  [0.000e+00 0.000e+00 0.000e+00 0.000e+00 0.000e+00 0.000e+00]\n",
            "  [0.000e+00 0.000e+00 0.000e+00 0.000e+00 0.000e+00 0.000e+00]\n",
            "  [0.000e+00 0.000e+00 0.000e+00 0.000e+00 0.000e+00 0.000e+00]\n",
            "  [0.000e+00 0.000e+00 0.000e+00 0.000e+00 0.000e+00 0.000e+00]\n",
            "  [0.000e+00 0.000e+00 0.000e+00 0.000e+00 0.000e+00 0.000e+00]\n",
            "  [0.000e+00 0.000e+00 0.000e+00 0.000e+00 0.000e+00 0.000e+00]\n",
            "  [0.000e+00 0.000e+00 0.000e+00 0.000e+00 0.000e+00 0.000e+00]\n",
            "  [0.000e+00 0.000e+00 0.000e+00 0.000e+00 0.000e+00 0.000e+00]\n",
            "  [0.000e+00 0.000e+00 0.000e+00 0.000e+00 0.000e+00 0.000e+00]]\n",
            "\n",
            " [[0.000e+00 0.000e+00 1.000e+00 0.000e+00 0.000e+00 0.000e+00]\n",
            "  [0.000e+00 0.000e+00 0.000e+00 0.000e+00 0.000e+00 0.000e+00]\n",
            "  [0.000e+00 0.000e+00 0.000e+00 0.000e+00 0.000e+00 0.000e+00]\n",
            "  [0.000e+00 0.000e+00 0.000e+00 0.000e+00 0.000e+00 0.000e+00]\n",
            "  [0.000e+00 0.000e+00 0.000e+00 0.000e+00 0.000e+00 0.000e+00]\n",
            "  [0.000e+00 0.000e+00 0.000e+00 0.000e+00 0.000e+00 0.000e+00]\n",
            "  [0.000e+00 0.000e+00 0.000e+00 0.000e+00 0.000e+00 0.000e+00]\n",
            "  [0.000e+00 0.000e+00 0.000e+00 0.000e+00 0.000e+00 0.000e+00]\n",
            "  [0.000e+00 0.000e+00 0.000e+00 0.000e+00 0.000e+00 0.000e+00]\n",
            "  [0.000e+00 0.000e+00 0.000e+00 0.000e+00 0.000e+00 0.000e+00]]\n",
            "\n",
            " [[0.000e+00 0.000e+00 0.000e+00 0.000e+00 0.000e+00 0.000e+00]\n",
            "  [0.000e+00 0.000e+00 0.000e+00 0.000e+00 0.000e+00 0.000e+00]\n",
            "  [0.000e+00 0.000e+00 0.000e+00 0.000e+00 0.000e+00 0.000e+00]\n",
            "  [0.000e+00 0.000e+00 0.000e+00 0.000e+00 0.000e+00 0.000e+00]\n",
            "  [0.000e+00 0.000e+00 0.000e+00 0.000e+00 0.000e+00 0.000e+00]\n",
            "  [0.000e+00 0.000e+00 0.000e+00 0.000e+00 0.000e+00 0.000e+00]\n",
            "  [0.000e+00 0.000e+00 0.000e+00 0.000e+00 0.000e+00 0.000e+00]\n",
            "  [0.000e+00 0.000e+00 0.000e+00 0.000e+00 0.000e+00 0.000e+00]\n",
            "  [0.000e+00 0.000e+00 0.000e+00 0.000e+00 0.000e+00 0.000e+00]\n",
            "  [0.000e+00 0.000e+00 0.000e+00 0.000e+00 0.000e+00 0.000e+00]]\n",
            "\n",
            " [[0.000e+00 0.000e+00 0.000e+00 0.000e+00 0.000e+00 0.000e+00]\n",
            "  [0.000e+00 0.000e+00 0.000e+00 0.000e+00 0.000e+00 0.000e+00]\n",
            "  [0.000e+00 0.000e+00 0.000e+00 0.000e+00 0.000e+00 0.000e+00]\n",
            "  [0.000e+00 0.000e+00 0.000e+00 0.000e+00 0.000e+00 0.000e+00]\n",
            "  [0.000e+00 0.000e+00 0.000e+00 0.000e+00 0.000e+00 0.000e+00]\n",
            "  [0.000e+00 0.000e+00 0.000e+00 0.000e+00 0.000e+00 0.000e+00]\n",
            "  [0.000e+00 0.000e+00 0.000e+00 0.000e+00 0.000e+00 0.000e+00]\n",
            "  [0.000e+00 0.000e+00 0.000e+00 0.000e+00 0.000e+00 0.000e+00]\n",
            "  [0.000e+00 0.000e+00 0.000e+00 0.000e+00 0.000e+00 0.000e+00]\n",
            "  [0.000e+00 0.000e+00 0.000e+00 0.000e+00 0.000e+00 0.000e+00]]\n",
            "\n",
            " [[0.000e+00 0.000e+00 0.000e+00 0.000e+00 0.000e+00 0.000e+00]\n",
            "  [0.000e+00 0.000e+00 0.000e+00 0.000e+00 0.000e+00 0.000e+00]\n",
            "  [0.000e+00 0.000e+00 0.000e+00 0.000e+00 0.000e+00 0.000e+00]\n",
            "  [0.000e+00 0.000e+00 0.000e+00 0.000e+00 0.000e+00 0.000e+00]\n",
            "  [0.000e+00 0.000e+00 0.000e+00 0.000e+00 0.000e+00 0.000e+00]\n",
            "  [0.000e+00 0.000e+00 0.000e+00 0.000e+00 0.000e+00 0.000e+00]\n",
            "  [0.000e+00 0.000e+00 0.000e+00 0.000e+00 0.000e+00 0.000e+00]\n",
            "  [0.000e+00 0.000e+00 0.000e+00 0.000e+00 0.000e+00 0.000e+00]\n",
            "  [0.000e+00 0.000e+00 0.000e+00 0.000e+00 0.000e+00 0.000e+00]\n",
            "  [0.000e+00 0.000e+00 0.000e+00 0.000e+00 0.000e+00 0.000e+00]]\n",
            "\n",
            " [[0.000e+00 0.000e+00 0.000e+00 0.000e+00 0.000e+00 0.000e+00]\n",
            "  [0.000e+00 0.000e+00 0.000e+00 0.000e+00 0.000e+00 0.000e+00]\n",
            "  [0.000e+00 0.000e+00 0.000e+00 0.000e+00 0.000e+00 0.000e+00]\n",
            "  [0.000e+00 0.000e+00 0.000e+00 0.000e+00 0.000e+00 0.000e+00]\n",
            "  [0.000e+00 0.000e+00 0.000e+00 0.000e+00 0.000e+00 0.000e+00]\n",
            "  [0.000e+00 0.000e+00 0.000e+00 0.000e+00 0.000e+00 0.000e+00]\n",
            "  [0.000e+00 0.000e+00 0.000e+00 0.000e+00 0.000e+00 0.000e+00]\n",
            "  [0.000e+00 0.000e+00 0.000e+00 0.000e+00 0.000e+00 0.000e+00]\n",
            "  [0.000e+00 0.000e+00 0.000e+00 0.000e+00 0.000e+00 0.000e+00]\n",
            "  [0.000e+00 0.000e+00 0.000e+00 0.000e+00 0.000e+00 0.000e+00]]\n",
            "\n",
            " [[0.000e+00 0.000e+00 0.000e+00 0.000e+00 0.000e+00 0.000e+00]\n",
            "  [0.000e+00 0.000e+00 0.000e+00 0.000e+00 0.000e+00 0.000e+00]\n",
            "  [0.000e+00 0.000e+00 0.000e+00 0.000e+00 0.000e+00 0.000e+00]\n",
            "  [0.000e+00 0.000e+00 0.000e+00 0.000e+00 0.000e+00 0.000e+00]\n",
            "  [0.000e+00 0.000e+00 0.000e+00 0.000e+00 0.000e+00 0.000e+00]\n",
            "  [0.000e+00 0.000e+00 0.000e+00 0.000e+00 0.000e+00 0.000e+00]\n",
            "  [0.000e+00 0.000e+00 0.000e+00 0.000e+00 0.000e+00 0.000e+00]\n",
            "  [0.000e+00 0.000e+00 0.000e+00 0.000e+00 0.000e+00 0.000e+00]\n",
            "  [0.000e+00 0.000e+00 0.000e+00 0.000e+00 0.000e+00 0.000e+00]\n",
            "  [0.000e+00 0.000e+00 0.000e+00 0.000e+00 0.000e+00 0.000e+00]]\n",
            "\n",
            " [[0.000e+00 0.000e+00 0.000e+00 0.000e+00 0.000e+00 0.000e+00]\n",
            "  [0.000e+00 0.000e+00 0.000e+00 0.000e+00 0.000e+00 0.000e+00]\n",
            "  [0.000e+00 0.000e+00 0.000e+00 0.000e+00 0.000e+00 0.000e+00]\n",
            "  [0.000e+00 0.000e+00 0.000e+00 0.000e+00 0.000e+00 0.000e+00]\n",
            "  [0.000e+00 0.000e+00 0.000e+00 0.000e+00 0.000e+00 0.000e+00]\n",
            "  [0.000e+00 0.000e+00 0.000e+00 0.000e+00 0.000e+00 0.000e+00]\n",
            "  [0.000e+00 0.000e+00 0.000e+00 0.000e+00 0.000e+00 0.000e+00]\n",
            "  [0.000e+00 0.000e+00 0.000e+00 0.000e+00 0.000e+00 0.000e+00]\n",
            "  [0.000e+00 0.000e+00 0.000e+00 0.000e+00 0.000e+00 0.000e+00]\n",
            "  [0.000e+00 0.000e+00 0.000e+00 0.000e+00 0.000e+00 0.000e+00]]\n",
            "\n",
            " [[0.000e+00 0.000e+00 0.000e+00 0.000e+00 0.000e+00 0.000e+00]\n",
            "  [0.000e+00 0.000e+00 0.000e+00 0.000e+00 0.000e+00 0.000e+00]\n",
            "  [0.000e+00 0.000e+00 0.000e+00 0.000e+00 0.000e+00 0.000e+00]\n",
            "  [0.000e+00 0.000e+00 0.000e+00 0.000e+00 0.000e+00 0.000e+00]\n",
            "  [0.000e+00 0.000e+00 0.000e+00 0.000e+00 0.000e+00 0.000e+00]\n",
            "  [0.000e+00 0.000e+00 0.000e+00 0.000e+00 0.000e+00 0.000e+00]\n",
            "  [0.000e+00 0.000e+00 0.000e+00 0.000e+00 0.000e+00 0.000e+00]\n",
            "  [0.000e+00 0.000e+00 0.000e+00 0.000e+00 0.000e+00 0.000e+00]\n",
            "  [0.000e+00 0.000e+00 0.000e+00 0.000e+00 0.000e+00 0.000e+00]\n",
            "  [0.000e+00 0.000e+00 0.000e+00 0.000e+00 0.000e+00 0.000e+00]]]\n"
          ]
        }
      ]
    },
    {
      "cell_type": "code",
      "source": [
        "np.argmax([1, 2, 34, 4])"
      ],
      "metadata": {
        "colab": {
          "base_uri": "https://localhost:8080/"
        },
        "id": "zMmTp57ljRvs",
        "outputId": "659cd1b1-b25c-4026-d027-6908bc6e0d25"
      },
      "execution_count": 72,
      "outputs": [
        {
          "output_type": "execute_result",
          "data": {
            "text/plain": [
              "2"
            ]
          },
          "metadata": {},
          "execution_count": 72
        }
      ]
    },
    {
      "cell_type": "code",
      "source": [
        "som.weight = tmp_weight"
      ],
      "metadata": {
        "id": "oIpp9MFdUPhq"
      },
      "execution_count": 27,
      "outputs": []
    },
    {
      "cell_type": "code",
      "source": [
        "len(set(y_train.to_numpy()))"
      ],
      "metadata": {
        "colab": {
          "base_uri": "https://localhost:8080/"
        },
        "id": "ZYSMokLGUt9j",
        "outputId": "9adef4e8-2d99-4eb1-8831-2fe6a89f672a"
      },
      "execution_count": 31,
      "outputs": [
        {
          "output_type": "execute_result",
          "data": {
            "text/plain": [
              "6"
            ]
          },
          "metadata": {},
          "execution_count": 31
        }
      ]
    },
    {
      "cell_type": "code",
      "source": [
        ""
      ],
      "metadata": {
        "colab": {
          "base_uri": "https://localhost:8080/"
        },
        "id": "VgG_0VxjU2oH",
        "outputId": "3c8532f7-ff66-4da8-ab60-3fa1265be55d"
      },
      "execution_count": 76,
      "outputs": [
        {
          "output_type": "execute_result",
          "data": {
            "text/plain": [
              "False"
            ]
          },
          "metadata": {},
          "execution_count": 76
        }
      ]
    },
    {
      "cell_type": "code",
      "source": [
        "som.weight"
      ],
      "metadata": {
        "colab": {
          "base_uri": "https://localhost:8080/"
        },
        "id": "zCbKjITSVOpp",
        "outputId": "baf3815d-240e-4e04-df96-8dfea2ac7343"
      },
      "execution_count": 36,
      "outputs": [
        {
          "output_type": "execute_result",
          "data": {
            "text/plain": [
              "array([[[4602894973470128924, 4606183744980046873, 4606518276103080084,\n",
              "         ..., 4601976876884871392, 4601393694256283418,\n",
              "         4589418469940633603],\n",
              "        [4605548791490990368, 4602686823658911484, 4604011891021453491,\n",
              "         ..., 4605288403233203323, 4592693644038852868,\n",
              "         4599104383656132281],\n",
              "        [4592024255442880890, 4600076508802828989, 4605291659107608010,\n",
              "         ..., 4602171112790756574, 4603808223158008566,\n",
              "         4598071267185358961],\n",
              "        ...,\n",
              "        [4602800065855674261, 4593117288427142900, 4604070599730359914,\n",
              "         ..., 4592279713564254302, 4606691353253411316,\n",
              "         4604679996470132706],\n",
              "        [4602134888694554921, 4587485188270212592, 4596220949831956253,\n",
              "         ..., 4601515789688817597, 4594001039415161620,\n",
              "         4606156370697432509],\n",
              "        [4594058209439918335, 4602297668984108327, 4596752771837302843,\n",
              "         ..., 4604646438064518829, 4606061231655524859,\n",
              "         4604885837013897536]],\n",
              "\n",
              "       [[4598459718424811786, 4594333345072223601, 4604219748521838638,\n",
              "         ..., 4604131008791190159, 4602977886833210178,\n",
              "         4605025862617453151],\n",
              "        [4595352591278371681, 4596214059770217550, 4606712938478661843,\n",
              "         ..., 4595231573314797392, 4606685803553611595,\n",
              "         4607116838816868570],\n",
              "        [4599609321496566951, 4601154627802643858, 4603082570319623466,\n",
              "         ..., 4603597810911579771, 4604301362114229211,\n",
              "         4606953814083690315],\n",
              "        ...,\n",
              "        [4597316101151747265, 4606772637792138347, 4603561824313374296,\n",
              "         ..., 4603347986919013343, 4584397346806343200,\n",
              "         4602401248675917616],\n",
              "        [4600680951912554688, 4606662012241030158, 4599482329093299303,\n",
              "         ..., 4593320492682059293, 4603454335686797823,\n",
              "         4607169279475600271],\n",
              "        [4598887025486368000, 4602982618552151262, 4606673208084495178,\n",
              "         ..., 4594702065196369441, 4603081430765366952,\n",
              "         4594274890863989744]],\n",
              "\n",
              "       [[4604678365041428246, 4605881795468668590, 4605361278672172669,\n",
              "         ..., 4604860110933911872, 4595199889512968401,\n",
              "         4598585240658269019],\n",
              "        [4603458124690604503, 4601714579561122826, 4602284541220135633,\n",
              "         ..., 4594975196543958719, 4606380328491404011,\n",
              "         4585994338365537095],\n",
              "        [4603431943030896791, 4602974711289895758, 4601177528508692116,\n",
              "         ..., 4592907408591817456, 4606983151362124279,\n",
              "         4599977233845854667],\n",
              "        ...,\n",
              "        [4603809709622436297, 4598972729152725248, 4600069877141286971,\n",
              "         ..., 4603701795069710154, 4602827834617468893,\n",
              "         4602692005173111167],\n",
              "        [4603665159229905081, 4599717827276613191, 4600079707670074692,\n",
              "         ..., 4604685626932352270, 4599292328077657409,\n",
              "         4604623133427461610],\n",
              "        [4598210431583168691, 4600347955161208693, 4600506163232499322,\n",
              "         ..., 4603382733280539965, 4604876034403363315,\n",
              "         4600884030697499541]],\n",
              "\n",
              "       ...,\n",
              "\n",
              "       [[4593686004119554298, 4602822147262747215, 4605530959581513352,\n",
              "         ..., 4603012245458793375, 4602927506674483026,\n",
              "         4604258617480945469],\n",
              "        [4605331861257881951, 4594139415520099258, 4596376278424017043,\n",
              "         ..., 4604496052006752491, 4604661344302188118,\n",
              "         4596506294158426802],\n",
              "        [4595610868185753131, 4602978692471626305, 4599248673756612326,\n",
              "         ..., 4600410733772752583, 4605529223598769677,\n",
              "         4605027034036431459],\n",
              "        ...,\n",
              "        [4603781968261346885, 4605836074067302412, 4604054476365905837,\n",
              "         ..., 4596349295744197849, 4605160397162638094,\n",
              "         4603814990311759972],\n",
              "        [4589444626143042561, 4606142323770977530, 4606613775444419806,\n",
              "         ..., 4603171120761390247, 4604369907893338149,\n",
              "         4601312180935554925],\n",
              "        [4604176254510609591, 4597973604112751820, 4606042701336442240,\n",
              "         ..., 4598953662955379413, 4599505945761674241,\n",
              "         4606083242103210822]],\n",
              "\n",
              "       [[4604165254708313191, 4604935254583268595, 4606750393419072344,\n",
              "         ..., 4605684168269193044, 4604936363940516328,\n",
              "         4600407314314893079],\n",
              "        [4605453467490740308, 4605867312496918828, 4595869257390834749,\n",
              "         ..., 4596647347948208707, 4600531900293010570,\n",
              "         4607130652572861307],\n",
              "        [4601366482545563754, 4604517152953966697, 4605465660179930978,\n",
              "         ..., 4606879998973348323, 4599291569531491808,\n",
              "         4585003951862545864],\n",
              "        ...,\n",
              "        [4606750430072410752, 4591651676586030817, 4605447845067595745,\n",
              "         ..., 4594050523772686124, 4604549289454611575,\n",
              "         4606658706281936361],\n",
              "        [4602094749440854471, 4598728019767588773, 4599112896647274302,\n",
              "         ..., 4600499059882058077, 4606149599716259986,\n",
              "         4596662336556074784],\n",
              "        [4601454317391397868, 4599875755050251513, 4604276339512860857,\n",
              "         ..., 4606196176900895476, 4606941007717124601,\n",
              "         4592105946724295110]],\n",
              "\n",
              "       [[4606200036030450232, 4603387892316760756, 4606019239460895530,\n",
              "         ..., 4582149459224325791, 4590439444330449647,\n",
              "         4598131184419145155],\n",
              "        [4601213739156689756, 4595211895138701767, 4605426921378139859,\n",
              "         ..., 4606632718901367758, 4604372723395736058,\n",
              "         4604095376200679658],\n",
              "        [4606243021381614004, 4604216329205931390, 4605757553795471173,\n",
              "         ..., 4600768893192568897, 4599218359618358085,\n",
              "         4600412465592659105],\n",
              "        ...,\n",
              "        [4604571410608914754, 4605876203278150423, 4591039501763502518,\n",
              "         ..., 4591208036044679217, 4606643954372466762,\n",
              "         4605267519188468642],\n",
              "        [4603341951579018157, 4605145312588972458, 4600360568595832944,\n",
              "         ..., 4590922223979500707, 4605080675933140769,\n",
              "         4604849130868803851],\n",
              "        [4605332255612517031, 4594926868193031842, 4606591567988855623,\n",
              "         ..., 4599987351804871997, 4606268099583082291,\n",
              "         4597582677312586362]]])"
            ]
          },
          "metadata": {},
          "execution_count": 36
        }
      ]
    },
    {
      "cell_type": "code",
      "source": [
        "[X_train.to_numpy()[x] for x in np.random.choice(X_train.to_numpy().shape[0], 3)]"
      ],
      "metadata": {
        "colab": {
          "base_uri": "https://localhost:8080/"
        },
        "id": "EG6srVyxVaK3",
        "outputId": "9421574b-5194-4581-f774-d128aaf71600"
      },
      "execution_count": 60,
      "outputs": [
        {
          "output_type": "execute_result",
          "data": {
            "text/plain": [
              "[array([ 0.27615756, -0.01792532, -0.10658656, -0.98352191, -0.98804806,\n",
              "        -0.97385467, -0.9844348 , -0.98963578, -0.97232992, -0.93214267,\n",
              "        -0.57120924, -0.81389243,  0.83749224,  0.68431533,  0.8346783 ,\n",
              "        -0.98290218, -0.99979393, -0.99992586, -0.99932589, -0.9870349 ,\n",
              "        -0.99183969, -0.96669667, -0.35200858, -0.68291909, -0.40257523,\n",
              "         0.17819045, -0.24919524,  0.21022719, -0.12568867,  0.20489962,\n",
              "         0.06636299,  0.09106318,  0.07658605,  0.01407574,  0.07542236,\n",
              "        -0.15345237, -0.07230908,  0.12638153,  0.46474657,  0.00918436,\n",
              "        -0.48995098,  0.96471203,  0.22323407, -0.97970369, -0.99781778,\n",
              "        -0.9854172 , -0.98169081, -0.99817699, -0.98538721, -0.5462609 ,\n",
              "         0.91211825,  0.21606081, -0.44284973,  0.97603374,  0.22307192,\n",
              "        -0.48774052, -0.99976799,  0.86329736, -0.90633664, -0.98675006,\n",
              "        -0.99864557, -0.98422229, -1.        , -1.        , -0.69496821,\n",
              "        -0.70540943,  0.70451082, -0.70334211,  0.70207856,  0.1287288 ,\n",
              "        -0.20972315,  0.21758982, -0.19308282, -0.36478868,  0.36389929,\n",
              "        -0.36244117,  0.35806956, -0.86393684,  0.06333164, -0.41622121,\n",
              "         0.08441992,  0.00734094, -0.01076137, -0.98790169, -0.98098526,\n",
              "        -0.99262385, -0.98901187, -0.9825717 , -0.99060029, -0.9783381 ,\n",
              "        -0.9805135 , -0.99561595,  0.98275122,  0.98188934,  0.9936069 ,\n",
              "        -0.9895128 , -0.99984451, -0.99963737, -0.99986399, -0.98862025,\n",
              "        -0.98838603, -0.98781583, -0.64805505, -0.7242204 , -0.77401273,\n",
              "         0.23311268,  0.07525787,  0.33965701,  0.04310442,  0.0950583 ,\n",
              "         0.32399659,  0.27210979,  0.41084352, -0.00293319,  0.29534727,\n",
              "        -0.13987812,  0.28352692,  0.43007556,  0.19091863, -0.02474246,\n",
              "        -0.02970583, -0.08922603,  0.11404623, -0.98738234, -0.98464647,\n",
              "        -0.95066561, -0.9881996 , -0.98398863, -0.94717182, -0.87709872,\n",
              "        -0.95090729, -0.71794676,  0.83126494,  0.90331564,  0.81620617,\n",
              "        -0.97210705, -0.99990342, -0.99980681, -0.998384  , -0.98930511,\n",
              "        -0.98170514, -0.94743042, -0.42013789, -0.48958918,  0.02206835,\n",
              "        -0.19991723,  0.11227613,  0.13112842,  0.0020731 , -0.07132078,\n",
              "         0.07513017, -0.19281355,  0.29138047,  0.09328847, -0.19069857,\n",
              "         0.16511319,  0.0321171 ,  0.56760761, -0.18038988, -0.62381884,\n",
              "        -0.1045876 , -0.0432782 , -0.08386973, -0.98941615, -0.99265379,\n",
              "        -0.99191594, -0.98879567, -0.99332156, -0.99199888, -0.9909372 ,\n",
              "        -0.99149816, -0.99532484,  0.99089818,  0.99491049,  0.99183868,\n",
              "        -0.99251749, -0.99990181, -0.99995519, -0.99991851, -0.98867645,\n",
              "        -0.99314094, -0.9926664 , -0.5161957 , -0.56253705, -0.65604624,\n",
              "        -0.06174042, -0.03194892,  0.18724301,  0.06139127,  0.00627228,\n",
              "         0.23348689, -0.00713664,  0.09156168,  0.23202648, -0.20375256,\n",
              "         0.20890987, -0.14742281,  0.27426607, -0.12662282, -0.11024195,\n",
              "        -0.9831666 , -0.98588864, -0.9861216 , -0.98515323, -0.99276941,\n",
              "        -0.9831666 , -0.9996573 , -0.98207318, -0.57116763, -0.04217958,\n",
              "         0.00593383,  0.06362154, -0.0791332 , -0.9831666 , -0.98588864,\n",
              "        -0.9861216 , -0.98515323, -0.99276941, -0.9831666 , -0.9996573 ,\n",
              "        -0.98207318, -0.57116763, -0.04217958,  0.00593383,  0.06362154,\n",
              "        -0.0791332 , -0.98938803, -0.988515  , -0.98959562, -0.98737572,\n",
              "        -0.9829287 , -0.98938803, -0.99979376, -0.99161562, -0.77074581,\n",
              "         0.27266018, -0.44069229,  0.0224174 ,  0.19305732, -0.97218327,\n",
              "        -0.97310968, -0.96795694, -0.98002086, -0.98115526, -0.97218327,\n",
              "        -0.99945641, -0.9698131 ,  0.01379236, -0.20095283,  0.09815489,\n",
              "        -0.03685338,  0.0591538 , -0.99246226, -0.9933278 , -0.9937833 ,\n",
              "        -0.99358186, -0.99392693, -0.99246226, -0.99994207, -0.99518687,\n",
              "        -0.57928169,  0.34008908, -0.31938141,  0.02130731, -0.10351361,\n",
              "        -0.98669027, -0.98461722, -0.9850087 , -0.98209956, -0.98985185,\n",
              "        -0.96899978, -0.98662046, -0.98787501, -0.98003774, -0.97950866,\n",
              "        -0.99445835, -0.95572127, -0.99178498, -0.98810123, -0.98256876,\n",
              "        -0.98658027, -0.99979322, -0.99980922, -0.99923121, -0.98923886,\n",
              "        -0.99029223, -0.98985551, -0.85400629, -1.        , -0.84810945,\n",
              "        -1.        ,  0.53333333, -1.        , -0.29183318,  0.456725  ,\n",
              "        -0.03821726,  0.44067024,  0.21746491, -0.67636913, -0.93869166,\n",
              "         0.30509594,  0.11042719, -0.99975117, -0.99992281, -0.99992162,\n",
              "        -0.99979366, -0.99990589, -0.99982917, -0.99989489, -0.99995288,\n",
              "        -0.99978096, -0.99987718, -0.9998922 , -0.99991434, -0.9997927 ,\n",
              "        -0.99980962, -0.99992224, -0.99987446, -0.99951821, -0.99973461,\n",
              "        -0.99958559, -0.99967156, -0.9998025 , -0.9999479 , -0.99989242,\n",
              "        -0.99946531, -0.99960368, -0.9998578 , -0.99981817, -0.99970178,\n",
              "        -0.99900732, -0.99990184, -0.99978897, -0.99992641, -0.99976058,\n",
              "        -0.99973798, -0.99977541, -0.99984874, -0.99920606, -0.99987213,\n",
              "        -0.99978349, -0.99980465, -0.99921038, -0.99990241, -0.98645194,\n",
              "        -0.98262314, -0.99175937, -0.9909949 , -0.9802734 , -0.99191809,\n",
              "        -0.98846146, -0.98238506, -0.99114547, -0.9932589 , -0.97733047,\n",
              "        -0.99140594, -0.98925273, -0.98463048, -0.99909368, -0.98705661,\n",
              "        -0.99984443, -0.9996374 , -0.99986411, -0.98888763, -0.98795097,\n",
              "        -0.98792693, -1.        , -0.93912029, -1.        ,  0.04      ,\n",
              "        -0.08      , -0.12      ,  0.34068369,  0.08596708, -0.01880908,\n",
              "        -0.5987175 , -0.88201085, -0.15998867, -0.60941905, -0.57439729,\n",
              "        -0.88472324, -0.99996904, -0.99992582, -0.99987057, -0.99968617,\n",
              "        -0.99980159, -0.99974678, -0.99984683, -0.9999425 , -0.99994   ,\n",
              "        -0.99976972, -0.99977629, -0.9998384 , -0.99990694, -0.99963002,\n",
              "        -0.99992876, -0.99989964, -0.999371  , -0.99969582, -0.99965537,\n",
              "        -0.99963685, -0.99980277, -0.99995639, -0.99989905, -0.99940669,\n",
              "        -0.99961186, -0.99982616, -0.99965164, -0.9996814 , -0.99974381,\n",
              "        -0.9998483 , -0.99977863, -0.99991466, -0.99974851, -0.99982381,\n",
              "        -0.99980568, -0.99999795, -0.99981257, -0.99987464, -0.99976242,\n",
              "        -0.99981604, -0.99980645, -0.99988095, -0.98461039, -0.98725617,\n",
              "        -0.96008868, -0.98818978, -0.98316077, -0.95211972, -0.98543858,\n",
              "        -0.98873994, -0.96311926, -0.99017358, -0.98036419, -0.9505934 ,\n",
              "        -0.99152064, -0.98619672, -0.94757629, -0.97998363, -0.99989598,\n",
              "        -0.99984221, -0.99856594, -0.98997158, -0.99055481, -0.9895034 ,\n",
              "        -0.67958515, -0.70212935, -0.62164532, -0.73333333, -1.        ,\n",
              "        -1.        , -0.07679597, -0.08666153,  0.03721026, -0.34062891,\n",
              "        -0.72181514,  0.34648687,  0.09826367,  0.48625738,  0.25658904,\n",
              "        -0.99990202, -0.99994684, -0.99991589, -0.99994789, -0.99993376,\n",
              "        -0.99991851, -0.99993182, -0.99995412, -0.99990029, -0.99991317,\n",
              "        -0.99992229, -0.9999417 , -0.99989769, -0.99994088, -0.99976924,\n",
              "        -0.99997215, -0.99998703, -0.99995814, -0.99993904, -0.99994281,\n",
              "        -0.99993434, -0.99994372, -0.99982731, -0.99997546, -0.99993961,\n",
              "        -0.9999295 , -0.99983409, -0.99994957, -0.99858924, -0.99984547,\n",
              "        -0.99984131, -0.99985904, -0.99959539, -0.99937871, -0.998637  ,\n",
              "        -0.99834086, -0.99860804, -0.9997831 , -0.99954145, -0.99850846,\n",
              "        -0.9985951 , -0.9997624 , -0.98781694, -0.98576587, -0.98430518,\n",
              "        -0.98744005, -0.99433473, -0.98781694, -0.99975746, -0.98910868,\n",
              "        -0.94618223, -0.93103448,  0.0474162 , -0.34940908, -0.63920428,\n",
              "        -0.98767973, -0.98837715, -0.98544087, -0.99127977, -0.97929502,\n",
              "        -0.98767973, -0.99980419, -0.98512172, -1.        , -0.80952381,\n",
              "         0.38444261, -0.58464969, -0.88388095, -0.9834147 , -0.97133902,\n",
              "        -0.97738674, -0.96370289, -0.99396944, -0.9834147 , -0.9995449 ,\n",
              "        -0.98272792, -0.72089079, -1.        , -0.33231727,  0.53425421,\n",
              "         0.38512271, -0.99296887, -0.9939448 , -0.993036  , -0.99527013,\n",
              "        -0.99454948, -0.99296887, -0.99995755, -0.992603  , -0.95569589,\n",
              "        -0.9047619 ,  0.2887637 , -0.46880952, -0.82045134,  0.24730288,\n",
              "         0.2361902 ,  0.18039936,  0.21473402,  0.60338116, -0.85445014,\n",
              "        -0.13850941]),\n",
              " array([ 0.27945114, -0.01649383, -0.10946231, -0.99713411, -0.99173409,\n",
              "        -0.99257464, -0.99715578, -0.99083813, -0.99321176, -0.94082016,\n",
              "        -0.57314934, -0.80540218,  0.85231541,  0.69346971,  0.84443591,\n",
              "        -0.99629329, -0.99998337, -0.99995454, -0.99987391, -0.99723443,\n",
              "        -0.9910813 , -0.99121733, -0.65806585, -0.64953534, -0.64036544,\n",
              "         0.3974852 , -0.248041  ,  0.19614603,  0.29888739,  0.4974891 ,\n",
              "        -0.2186263 ,  0.33969606,  0.07932698,  0.66930594, -0.35345975,\n",
              "         0.28599916,  0.00850488, -0.23751547, -0.00865467, -0.16104023,\n",
              "        -0.42592205,  0.76417669,  0.65928583, -0.99862263, -0.9993376 ,\n",
              "        -0.99749298, -0.99865352, -0.99933759, -0.99794228, -0.4935747 ,\n",
              "         0.71678822,  0.64638701, -0.37583892,  0.77961418,  0.66097269,\n",
              "         0.19729838, -0.99781561,  0.1804753 , -0.15497448, -0.99866818,\n",
              "        -0.99932605, -0.99938091, -1.        , -1.        , -1.        ,\n",
              "        -0.39107756,  0.41218993, -0.43347419,  0.45503374,  0.260448  ,\n",
              "        -0.31096331,  0.27744853, -0.20864131, -0.30904355,  0.34772663,\n",
              "        -0.38651221,  0.42286247,  0.11411958, -0.0164954 ,  0.25857439,\n",
              "         0.07465754,  0.00957665, -0.00151624, -0.99521117, -0.98574385,\n",
              "        -0.99056715, -0.9950307 , -0.98365933, -0.99002728, -0.99575431,\n",
              "        -0.99277926, -0.98547123,  0.99414289,  0.98969719,  0.98787751,\n",
              "        -0.99210742, -0.9999559 , -0.99976175, -0.99981667, -0.9944819 ,\n",
              "        -0.98359512, -0.98823735, -0.8507439 , -0.69123547, -0.74126309,\n",
              "         0.26742145,  0.00790809,  0.19321922,  0.34555594,  0.36429344,\n",
              "         0.04597796,  0.42198467,  0.6069392 ,  0.50378858, -0.07224679,\n",
              "         0.24321835,  0.30875633, -0.30501748,  0.26546409, -0.21535137,\n",
              "        -0.02795809, -0.07424575,  0.08707537, -0.99744926, -0.99453582,\n",
              "        -0.99546228, -0.99754306, -0.99566188, -0.99540333, -0.88433443,\n",
              "        -0.95313813, -0.75754417,  0.84463275,  0.90907356,  0.82842235,\n",
              "        -0.99662312, -0.99999309, -0.99997135, -0.99997167, -0.9975304 ,\n",
              "        -0.99643281, -0.99553493, -0.66063739, -0.555885  , -0.56764218,\n",
              "         0.00426164,  0.11375678, -0.14449231,  0.41651489,  0.08380736,\n",
              "        -0.04073534,  0.10694997,  0.12073913,  0.42510566, -0.33098652,\n",
              "         0.21805166,  0.53492018, -0.37969523, -0.03197274, -0.32594621,\n",
              "        -0.09671838, -0.04010159, -0.05371676, -0.9971696 , -0.99578551,\n",
              "        -0.99594093, -0.99728324, -0.9963341 , -0.9957059 , -0.99764896,\n",
              "        -0.99398644, -0.99607034,  0.99583948,  0.9973704 ,  0.99680032,\n",
              "        -0.99722807, -0.99998472, -0.99998088, -0.99996856, -0.99719405,\n",
              "        -0.99604275, -0.99520445, -0.79463707, -0.64968912, -0.69551767,\n",
              "         0.01903556,  0.13952433, -0.02608773,  0.08063717,  0.11237148,\n",
              "         0.06539029,  0.28022187, -0.1151105 ,  0.27341032, -0.25387345,\n",
              "         0.07260497,  0.39092154, -0.36753139,  0.05521873, -0.24001416,\n",
              "        -0.99693   , -0.99621362, -0.99784461, -0.98633311, -0.99580509,\n",
              "        -0.99693   , -0.99995995, -0.99652023, -0.86697416,  0.4070871 ,\n",
              "        -0.22893834,  0.24202245, -0.50676172, -0.99693   , -0.99621362,\n",
              "        -0.99784461, -0.98633311, -0.99580509, -0.99693   , -0.99995995,\n",
              "        -0.99652023, -0.86697416,  0.4070871 , -0.22893834,  0.24202245,\n",
              "        -0.50676172, -0.99181722, -0.99303742, -0.99397607, -0.99013969,\n",
              "        -0.98565063, -0.99181722, -0.99986197, -0.99622692, -0.80934755,\n",
              "         0.24767974, -0.34037941,  0.02871044,  0.04131134, -0.99662403,\n",
              "        -0.99555454, -0.99653559, -0.99334828, -0.99585544, -0.99662403,\n",
              "        -0.99997688, -0.99800544, -0.70991591,  0.21018978, -0.28140867,\n",
              "         0.36985195, -0.34920797, -0.99716731, -0.99664592, -0.99737678,\n",
              "        -0.99500756, -0.99792055, -0.99716731, -0.99998305, -0.99764988,\n",
              "        -0.77636593,  0.33390961, -0.22043191, -0.1206968 , -0.13354979,\n",
              "        -0.99652313, -0.98818505, -0.99062819, -0.99739335, -0.99346283,\n",
              "        -0.99373681, -0.99664633, -0.99186913, -0.99214863, -0.99782777,\n",
              "        -0.99532003, -0.99378741, -0.99911507, -0.99394442, -0.98859042,\n",
              "        -0.99460142, -0.99998346, -0.99988314, -0.99985001, -0.99514019,\n",
              "        -0.99076185, -0.9832596 , -1.        , -1.        , -0.90357248,\n",
              "        -0.41935484, -0.4       , -0.76923077,  0.11289728,  0.45517821,\n",
              "         0.48871096, -0.54003092, -0.8714043 , -0.70339783, -0.93156441,\n",
              "        -0.74503055, -0.8938023 , -0.99999311, -0.9999632 , -0.99994061,\n",
              "        -0.99995365, -0.99993475, -0.9998993 , -0.99996062, -0.99999802,\n",
              "        -0.99998602, -0.99994123, -0.99993653, -0.99997317, -0.99998453,\n",
              "        -0.99994514, -0.99995735, -0.99988118, -0.99976045, -0.99984087,\n",
              "        -0.9997053 , -0.99937555, -0.99981639, -0.99998352, -0.99992278,\n",
              "        -0.99973009, -0.99957761, -0.99988131, -0.99988864, -0.99977228,\n",
              "        -0.99986584, -0.99984685, -0.99981493, -0.99982232, -0.99980599,\n",
              "        -0.99937781, -0.99921688, -0.9999279 , -0.99987464, -0.99985098,\n",
              "        -0.99972662, -0.99943257, -0.99986049, -0.99981179, -0.99525914,\n",
              "        -0.9855509 , -0.9877818 , -0.99556605, -0.98702284, -0.99218264,\n",
              "        -0.99408815, -0.98660171, -0.99063653, -0.99739699, -0.98980673,\n",
              "        -0.99251333, -0.99998786, -0.99254029, -0.9836037 , -0.99060774,\n",
              "        -0.99995581, -0.99976173, -0.9998166 , -0.9934837 , -0.98986816,\n",
              "        -0.98601276, -1.        , -1.        , -1.        , -0.32      ,\n",
              "        -0.28      ,  0.04      ,  0.29822604,  0.20141959,  0.43974569,\n",
              "        -0.61192156, -0.90106417, -0.57027859, -0.93390026, -0.6684611 ,\n",
              "        -0.93027065, -0.9999929 , -0.99996815, -0.99994629, -0.99994884,\n",
              "        -0.9999268 , -0.99985668, -0.99994339, -0.99999912, -0.9999778 ,\n",
              "        -0.99994534, -0.99990562, -0.99994423, -0.99996628, -0.99991085,\n",
              "        -0.99996368, -0.9999045 , -0.99969406, -0.9998333 , -0.99974046,\n",
              "        -0.99923514, -0.99977209, -0.99996642, -0.99991168, -0.99970725,\n",
              "        -0.99950953, -0.99980061, -0.99980309, -0.99972816, -0.99986642,\n",
              "        -0.99982946, -0.99984006, -0.9998122 , -0.99979874, -0.9993715 ,\n",
              "        -0.99868822, -0.99945653, -0.99983998, -0.99985594, -0.99966412,\n",
              "        -0.99869371, -0.99986069, -0.99978013, -0.99657162, -0.99414688,\n",
              "        -0.99516368, -0.99769814, -0.99475959, -0.99589791, -0.9969863 ,\n",
              "        -0.99461332, -0.99524656, -0.99817258, -0.9968691 , -0.9952789 ,\n",
              "        -0.9986121 , -0.9999967 , -0.99391352, -0.99598656, -0.99999179,\n",
              "        -0.99997079, -0.9999693 , -0.99617813, -0.99468402, -0.99352625,\n",
              "        -0.92037074, -0.82721239, -0.95273437, -0.46666667, -0.67741935,\n",
              "        -0.37931034,  0.14955897, -0.03775985,  0.23992353, -0.55054711,\n",
              "        -0.84976476, -0.59403317, -0.90531041, -0.19781191, -0.47338011,\n",
              "        -0.99999397, -0.99998427, -0.99999176, -0.99997905, -0.99997239,\n",
              "        -0.99999275, -0.99998887, -0.99999586, -0.9999923 , -0.9999869 ,\n",
              "        -0.99997931, -0.99999198, -0.99999227, -0.99997985, -0.99996556,\n",
              "        -0.99999194, -0.99999086, -0.9999836 , -0.9999885 , -0.99997587,\n",
              "        -0.99995945, -1.        , -0.99997237, -0.99998675, -0.9999862 ,\n",
              "        -0.99997153, -0.9999706 , -0.99998364, -0.99998995, -0.99993307,\n",
              "        -0.99998994, -0.99998191, -0.99998039, -0.9999472 , -0.99992833,\n",
              "        -0.99998968, -0.99997001, -0.99998432, -0.99997727, -0.99995522,\n",
              "        -0.99997064, -0.99998237, -0.99543191, -0.99662201, -0.99518179,\n",
              "        -0.99856981, -0.98938875, -0.99543191, -0.99995417, -0.99645171,\n",
              "        -1.        , -0.51724138,  0.6713458 , -0.79203852, -0.95864873,\n",
              "        -0.99209645, -0.99329045, -0.99220661, -0.99355227, -0.98933614,\n",
              "        -0.99209645, -0.99989708, -0.99373951, -1.        , -0.93650794,\n",
              "         0.31723742, -0.51047876, -0.7992158 , -0.99563422, -0.99610048,\n",
              "        -0.99533223, -0.99671643, -0.99354475, -0.99563422, -0.99997438,\n",
              "        -0.99354839, -0.92407535, -0.94871795,  0.20670943, -0.65280022,\n",
              "        -0.88479634, -0.99699316, -0.99594436, -0.99604576, -0.99662531,\n",
              "        -0.99644309, -0.99699316, -0.9999842 , -0.99606453, -1.        ,\n",
              "        -1.        ,  0.02254999, -0.25526927, -0.66373612, -0.02578255,\n",
              "         0.44191277, -0.35123842, -0.26317282,  0.55784959, -0.5220711 ,\n",
              "        -0.48335329]),\n",
              " array([ 0.2074207 , -0.01571269, -0.19431922, -0.40440671,  0.0189327 ,\n",
              "        -0.06184398, -0.45585654,  0.04115023, -0.06694411, -0.19556203,\n",
              "         0.12388038, -0.285928  ,  0.37315799,  0.25730124,  0.04984578,\n",
              "        -0.14358807, -0.82030743, -0.79923046, -0.59380692, -0.58998799,\n",
              "        -0.12334303,  0.00606037,  0.15326735,  0.24851992,  0.16767503,\n",
              "        -0.3845243 ,  0.21907604,  0.11367837, -0.10769913, -0.04295758,\n",
              "         0.01468371,  0.10519595, -0.01162846, -0.36712208,  0.19672315,\n",
              "         0.10469869, -0.15085667, -0.26650444, -0.50509241,  0.2234912 ,\n",
              "         0.75580681, -0.22277118, -0.4929892 , -0.94505286, -0.95515682,\n",
              "        -0.93654065, -0.94811215, -0.96022775, -0.95238492,  0.6972614 ,\n",
              "        -0.22515576, -0.48786236,  0.75398062, -0.20805142, -0.52161895,\n",
              "         0.48694088,  0.39079876, -0.91903296, -0.5081387 , -0.95439154,\n",
              "        -0.96951616, -0.97683376, -0.12894734, -1.        , -1.        ,\n",
              "        -0.6504692 ,  0.69865921, -0.74674905,  0.79480086, -0.487994  ,\n",
              "         0.46407716, -0.47298384,  0.49516755, -0.64231644,  0.6861362 ,\n",
              "        -0.72995369,  0.77061879, -0.34791917,  0.67469988, -0.80875396,\n",
              "         0.0327549 ,  0.17183369,  0.28548223, -0.44424678, -0.35477838,\n",
              "        -0.52195125, -0.40798606, -0.32407987, -0.52497678, -0.55632931,\n",
              "        -0.64422974, -0.64302961,  0.41205176,  0.35344447,  0.33977218,\n",
              "        -0.3898515 , -0.84311122, -0.78755078, -0.88024545, -0.30748136,\n",
              "        -0.439763  , -0.59875389,  0.61290145,  0.51793722,  0.73445407,\n",
              "        -0.31464967,  0.06007973,  0.22817879, -0.06222397, -0.06853827,\n",
              "         0.09284388,  0.0856686 ,  0.27786682, -0.38694325, -0.01592284,\n",
              "        -0.03461837, -0.01780235, -0.2435174 , -0.42458455,  0.17479563,\n",
              "         0.06550512, -0.12848679, -0.16285863, -0.50212762, -0.48629373,\n",
              "         0.08061181, -0.49566927, -0.47931367,  0.08400339, -0.44686089,\n",
              "        -0.70774696, -0.27102326,  0.49723878,  0.61782586,  0.01198776,\n",
              "        -0.19236953, -0.88113165, -0.8687549 , -0.43654793, -0.44650597,\n",
              "        -0.49852501, -0.01468193,  0.48590909,  0.22897888,  0.19314803,\n",
              "        -0.24376904,  0.0447891 ,  0.41672747, -0.40261825, -0.3775166 ,\n",
              "         0.35572801, -0.08955673, -0.03549382, -0.52269357,  0.39930937,\n",
              "        -0.22742136,  0.19129727, -0.1374947 , -0.21971682,  0.44860885,\n",
              "        -0.06211527,  0.08137145, -0.22949686, -0.68615616, -0.62767581,\n",
              "        -0.61088466, -0.66946655, -0.62868412, -0.6164933 , -0.67736139,\n",
              "        -0.64041459, -0.40296547,  0.75691026,  0.68899829,  0.80172866,\n",
              "        -0.63589856, -0.94968941, -0.9299358 , -0.92240552, -0.65231357,\n",
              "        -0.57897486, -0.6079442 ,  0.49558316,  0.64575023,  0.33821875,\n",
              "        -0.01068567, -0.07987898,  0.24147751,  0.35711286, -0.29506594,\n",
              "         0.34121159,  0.14305222,  0.06116851, -0.46478959,  0.28914003,\n",
              "        -0.27386567,  0.13042902,  0.09210483,  0.05774265, -0.40168724,\n",
              "        -0.16691476, -0.32814898, -0.43229988, -0.14456207, -0.71821559,\n",
              "        -0.16691476, -0.6484412 , -0.57684234,  0.76013749, -0.2751293 ,\n",
              "         0.13557572,  0.20259836, -0.23882009, -0.16691476, -0.32814898,\n",
              "        -0.43229988, -0.14456207, -0.71821559, -0.16691476, -0.6484412 ,\n",
              "        -0.57684234,  0.76013749, -0.2751293 ,  0.13557572,  0.20259836,\n",
              "        -0.23882009, -0.41358382, -0.4010266 , -0.41188877, -0.43708529,\n",
              "        -0.67875771, -0.41358382, -0.81630751, -0.47949591,  0.66439419,\n",
              "        -0.14272194,  0.06322448,  0.13615908, -0.09930508, -0.23300465,\n",
              "        -0.45869311, -0.43668221, -0.47939206, -0.52321777, -0.23300465,\n",
              "        -0.7108401 , -0.56714084,  0.67195363, -0.04126682, -0.01409374,\n",
              "        -0.08743605,  0.15829175, -0.63035625, -0.6723302 , -0.7122171 ,\n",
              "        -0.67325978, -0.54600227, -0.63035625, -0.93276122, -0.75508916,\n",
              "         0.80444217,  0.28262855, -0.08620309, -0.41780606,  0.06135467,\n",
              "        -0.4430985 , -0.14299221, -0.2904778 , -0.38970983,  0.03240869,\n",
              "        -0.02053229, -0.36586101, -0.16522109, -0.17117973, -0.40930158,\n",
              "        -0.06594654,  0.11823689, -0.97751137, -0.85860177, -0.80070928,\n",
              "        -0.21570591, -0.8208399 , -0.47585716, -0.55166723, -0.41037834,\n",
              "        -0.47739933, -0.66588177,  0.49752261,  0.45760336,  0.32467122,\n",
              "        -0.80645161, -0.93333333, -0.76923077, -0.45261208, -0.12568897,\n",
              "        -0.06870259,  0.15243832, -0.14830973,  0.12346267, -0.22262206,\n",
              "         0.15645269, -0.08012382, -0.81116657, -0.89303494, -0.81321334,\n",
              "        -0.93148593, -0.93878125, -0.94464397, -0.95656484, -0.9994279 ,\n",
              "        -0.81773635, -0.8192766 , -0.94099354, -0.97093144, -0.81741645,\n",
              "        -0.92271717, -0.36602468, -0.8809493 , -0.87043458, -0.85166003,\n",
              "        -0.7828951 , -0.77730049, -0.92511488, -0.94477605, -0.45299017,\n",
              "        -0.83193217, -0.75588505, -0.9309795 , -0.47724401, -0.814333  ,\n",
              "        -0.52550419, -0.7988199 , -0.89187117, -0.96614404, -0.95047719,\n",
              "        -0.95394354, -0.85292718, -0.81922843, -0.55584281, -0.918809  ,\n",
              "        -0.94791025, -0.84158047, -0.54925388, -0.960961  , -0.46698777,\n",
              "        -0.33651407, -0.49440823, -0.46953453, -0.4263707 , -0.54672275,\n",
              "        -0.3154436 , -0.39464375, -0.54916214, -0.63038776, -0.54792651,\n",
              "        -0.56986963, -0.86827374, -0.82994613, -0.96121125, -0.33871613,\n",
              "        -0.84282518, -0.78763999, -0.88035149, -0.33968655, -0.42013159,\n",
              "        -0.69412044,  0.45017927,  0.44195167,  0.28507506, -0.88      ,\n",
              "        -0.28      , -0.88      , -0.32493451, -0.22946637, -0.50267621,\n",
              "        -0.40518728, -0.84624556, -0.56406747, -0.89166081, -0.22173507,\n",
              "        -0.68396212, -0.87767754, -0.87571977, -0.82881431, -0.93017927,\n",
              "        -0.93833245, -0.92814231, -0.91570484, -0.99651038, -0.86567682,\n",
              "        -0.83345475, -0.92901954, -0.91649017, -0.82679916, -0.90076577,\n",
              "        -0.75055782, -0.89090034, -0.81187022, -0.85555754, -0.77606656,\n",
              "        -0.73127133, -0.95681529, -0.9925408 , -0.84232853, -0.79462791,\n",
              "        -0.70310442, -0.96132611, -0.80247474, -0.7947908 , -0.50658083,\n",
              "        -0.82689915, -0.90303982, -0.97786148, -0.95801734, -0.92715447,\n",
              "        -0.8974465 , -0.9695819 , -0.67672384, -0.93965091, -0.94588407,\n",
              "        -0.89920714, -0.79026166, -0.96532424, -0.54187245, -0.49680578,\n",
              "        -0.26283262, -0.49930352, -0.4834783 ,  0.07253099, -0.50954049,\n",
              "        -0.50242699, -0.12717741, -0.37371347, -0.6442123 ,  0.02904568,\n",
              "        -0.97470394, -0.68592436, -0.91525531, -0.42452598, -0.87533341,\n",
              "        -0.8670519 , -0.41389309, -0.69377061, -0.54698282, -0.62635321,\n",
              "         0.43734017,  0.55127966,  0.38012185, -1.        , -0.93548387,\n",
              "        -0.93103448, -0.45875179, -0.15871555, -0.46238403,  0.39127519,\n",
              "         0.17447473, -0.38897571, -0.78495867,  0.44514252,  0.16672035,\n",
              "        -0.8751693 , -0.95265224, -0.95733847, -0.98762272, -0.96875944,\n",
              "        -0.97354123, -0.98671863, -0.99949802, -0.87558645, -0.96063766,\n",
              "        -0.96756629, -0.99237332, -0.87539197, -0.98169883, -0.86229528,\n",
              "        -0.94037111, -0.9592091 , -0.96826705, -0.97327186, -0.97350249,\n",
              "        -0.95744476, -0.97910897, -0.86849969, -0.95223254, -0.97304657,\n",
              "        -0.96104094, -0.85831623, -0.96730566, -0.4272227 , -0.89603329,\n",
              "        -0.94896749, -0.97547058, -0.97391023, -0.95097293, -0.95963118,\n",
              "        -0.9519157 , -0.42023856, -0.93946464, -0.9676409 , -0.95627696,\n",
              "        -0.41611017, -0.97304309, -0.31547164, -0.43947164, -0.32410194,\n",
              "        -0.53487123, -0.96768337, -0.31547164, -0.76977285, -0.43538354,\n",
              "         0.43897849, -0.79310345,  0.02008195, -0.26121618, -0.54071437,\n",
              "        -0.37180441, -0.44396731, -0.41763699, -0.44980124, -0.6882098 ,\n",
              "        -0.37180441, -0.81575691, -0.53182468,  0.18895259, -0.9047619 ,\n",
              "        -0.00551515,  0.06228125, -0.22421947, -0.5719634 , -0.47882607,\n",
              "        -0.49606957, -0.5446429 , -0.93932108, -0.5719634 , -0.8521008 ,\n",
              "        -0.62880608,  0.40482882, -1.        , -0.17974705, -0.15780005,\n",
              "        -0.55806098, -0.66966383, -0.6967419 , -0.65324253, -0.73957256,\n",
              "        -0.85581263, -0.66966383, -0.94515273, -0.65419432,  0.28206479,\n",
              "        -0.9047619 ,  0.12622186, -0.34309155, -0.72057552, -0.01716322,\n",
              "         0.48644305, -0.78675797, -0.23295587, -0.44653701,  0.23785479,\n",
              "         0.38326945])]"
            ]
          },
          "metadata": {},
          "execution_count": 60
        }
      ]
    },
    {
      "cell_type": "code",
      "source": [
        "np.random.choice(X_train.to_numpy().shape[0], 3)"
      ],
      "metadata": {
        "colab": {
          "base_uri": "https://localhost:8080/"
        },
        "id": "y5cTqFm2Yr8r",
        "outputId": "d109dd65-e6c8-4e9d-8658-018c298db65c"
      },
      "execution_count": 58,
      "outputs": [
        {
          "output_type": "execute_result",
          "data": {
            "text/plain": [
              "array([ 100, 2287, 2289])"
            ]
          },
          "metadata": {},
          "execution_count": 58
        }
      ]
    },
    {
      "cell_type": "code",
      "source": [
        "np.random.choice(X_train.to_numpy().shape[0], (2, 3))"
      ],
      "metadata": {
        "colab": {
          "base_uri": "https://localhost:8080/"
        },
        "id": "mzqWxz64ZIHy",
        "outputId": "c9d919de-1ba0-44d0-b227-bc4c8943ac64"
      },
      "execution_count": 61,
      "outputs": [
        {
          "output_type": "execute_result",
          "data": {
            "text/plain": [
              "array([[3726, 2952, 5886],\n",
              "       [4193, 3077, 5249]])"
            ]
          },
          "metadata": {},
          "execution_count": 61
        }
      ]
    },
    {
      "cell_type": "code",
      "source": [
        ""
      ],
      "metadata": {
        "id": "RhIWmULZcOFS"
      },
      "execution_count": null,
      "outputs": []
    }
  ]
}