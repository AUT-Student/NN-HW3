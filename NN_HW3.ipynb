{
  "cells": [
    {
      "cell_type": "markdown",
      "metadata": {
        "id": "view-in-github",
        "colab_type": "text"
      },
      "source": [
        "<a href=\"https://colab.research.google.com/github/AUT-Student/NN-HW3/blob/main/NN_HW3.ipynb\" target=\"_parent\"><img src=\"https://colab.research.google.com/assets/colab-badge.svg\" alt=\"Open In Colab\"/></a>"
      ]
    },
    {
      "cell_type": "markdown",
      "metadata": {
        "id": "slLXpefU8jnK"
      },
      "source": [
        "# Libraries"
      ]
    },
    {
      "cell_type": "code",
      "execution_count": 1,
      "metadata": {
        "id": "j5_bZGnS8izB"
      },
      "outputs": [],
      "source": [
        "import pandas as pd\n",
        "import tensorflow as tf\n",
        "import numpy as np\n",
        "import tensorflow.keras as keras\n",
        "import matplotlib.pyplot as plt\n",
        "from copy import deepcopy"
      ]
    },
    {
      "cell_type": "markdown",
      "metadata": {
        "id": "f2F3uD7W8KMH"
      },
      "source": [
        "# Dataset"
      ]
    },
    {
      "cell_type": "code",
      "execution_count": 2,
      "metadata": {
        "colab": {
          "base_uri": "https://localhost:8080/"
        },
        "id": "xwyeeLyzCMF-",
        "outputId": "c302fb51-cd64-4998-8ac3-2e5f2bbfebb8"
      },
      "outputs": [
        {
          "output_type": "stream",
          "name": "stdout",
          "text": [
            "Downloading...\n",
            "From: https://archive.ics.uci.edu/ml/machine-learning-databases/00240/UCI%20HAR%20Dataset.zip\n",
            "To: /content/Dataset.zip\n",
            "100% 61.0M/61.0M [00:00<00:00, 77.9MB/s]\n"
          ]
        }
      ],
      "source": [
        "!gdown https://archive.ics.uci.edu/ml/machine-learning-databases/00240/UCI%20HAR%20Dataset.zip -O \"/content/Dataset.zip\""
      ]
    },
    {
      "cell_type": "code",
      "execution_count": 3,
      "metadata": {
        "colab": {
          "base_uri": "https://localhost:8080/"
        },
        "id": "NDM9CJlO8vzQ",
        "outputId": "8b470679-f127-466b-b596-9685d83ee7d0"
      },
      "outputs": [
        {
          "output_type": "stream",
          "name": "stdout",
          "text": [
            "Archive:  /content/Dataset.zip\n",
            "   creating: UCI HAR Dataset/\n",
            "  inflating: UCI HAR Dataset/.DS_Store  \n",
            "   creating: __MACOSX/\n",
            "   creating: __MACOSX/UCI HAR Dataset/\n",
            "  inflating: __MACOSX/UCI HAR Dataset/._.DS_Store  \n",
            "  inflating: UCI HAR Dataset/activity_labels.txt  \n",
            "  inflating: __MACOSX/UCI HAR Dataset/._activity_labels.txt  \n",
            "  inflating: UCI HAR Dataset/features.txt  \n",
            "  inflating: __MACOSX/UCI HAR Dataset/._features.txt  \n",
            "  inflating: UCI HAR Dataset/features_info.txt  \n",
            "  inflating: __MACOSX/UCI HAR Dataset/._features_info.txt  \n",
            "  inflating: UCI HAR Dataset/README.txt  \n",
            "  inflating: __MACOSX/UCI HAR Dataset/._README.txt  \n",
            "   creating: UCI HAR Dataset/test/\n",
            "   creating: UCI HAR Dataset/test/Inertial Signals/\n",
            "  inflating: UCI HAR Dataset/test/Inertial Signals/body_acc_x_test.txt  \n",
            "   creating: __MACOSX/UCI HAR Dataset/test/\n",
            "   creating: __MACOSX/UCI HAR Dataset/test/Inertial Signals/\n",
            "  inflating: __MACOSX/UCI HAR Dataset/test/Inertial Signals/._body_acc_x_test.txt  \n",
            "  inflating: UCI HAR Dataset/test/Inertial Signals/body_acc_y_test.txt  \n",
            "  inflating: __MACOSX/UCI HAR Dataset/test/Inertial Signals/._body_acc_y_test.txt  \n",
            "  inflating: UCI HAR Dataset/test/Inertial Signals/body_acc_z_test.txt  \n",
            "  inflating: __MACOSX/UCI HAR Dataset/test/Inertial Signals/._body_acc_z_test.txt  \n",
            "  inflating: UCI HAR Dataset/test/Inertial Signals/body_gyro_x_test.txt  \n",
            "  inflating: __MACOSX/UCI HAR Dataset/test/Inertial Signals/._body_gyro_x_test.txt  \n",
            "  inflating: UCI HAR Dataset/test/Inertial Signals/body_gyro_y_test.txt  \n",
            "  inflating: __MACOSX/UCI HAR Dataset/test/Inertial Signals/._body_gyro_y_test.txt  \n",
            "  inflating: UCI HAR Dataset/test/Inertial Signals/body_gyro_z_test.txt  \n",
            "  inflating: __MACOSX/UCI HAR Dataset/test/Inertial Signals/._body_gyro_z_test.txt  \n",
            "  inflating: UCI HAR Dataset/test/Inertial Signals/total_acc_x_test.txt  \n",
            "  inflating: __MACOSX/UCI HAR Dataset/test/Inertial Signals/._total_acc_x_test.txt  \n",
            "  inflating: UCI HAR Dataset/test/Inertial Signals/total_acc_y_test.txt  \n",
            "  inflating: __MACOSX/UCI HAR Dataset/test/Inertial Signals/._total_acc_y_test.txt  \n",
            "  inflating: UCI HAR Dataset/test/Inertial Signals/total_acc_z_test.txt  \n",
            "  inflating: __MACOSX/UCI HAR Dataset/test/Inertial Signals/._total_acc_z_test.txt  \n",
            "  inflating: __MACOSX/UCI HAR Dataset/test/._Inertial Signals  \n",
            "  inflating: UCI HAR Dataset/test/subject_test.txt  \n",
            "  inflating: __MACOSX/UCI HAR Dataset/test/._subject_test.txt  \n",
            "  inflating: UCI HAR Dataset/test/X_test.txt  \n",
            "  inflating: __MACOSX/UCI HAR Dataset/test/._X_test.txt  \n",
            "  inflating: UCI HAR Dataset/test/y_test.txt  \n",
            "  inflating: __MACOSX/UCI HAR Dataset/test/._y_test.txt  \n",
            "  inflating: __MACOSX/UCI HAR Dataset/._test  \n",
            "   creating: UCI HAR Dataset/train/\n",
            "   creating: UCI HAR Dataset/train/Inertial Signals/\n",
            "  inflating: UCI HAR Dataset/train/Inertial Signals/body_acc_x_train.txt  \n",
            "   creating: __MACOSX/UCI HAR Dataset/train/\n",
            "   creating: __MACOSX/UCI HAR Dataset/train/Inertial Signals/\n",
            "  inflating: __MACOSX/UCI HAR Dataset/train/Inertial Signals/._body_acc_x_train.txt  \n",
            "  inflating: UCI HAR Dataset/train/Inertial Signals/body_acc_y_train.txt  \n",
            "  inflating: __MACOSX/UCI HAR Dataset/train/Inertial Signals/._body_acc_y_train.txt  \n",
            "  inflating: UCI HAR Dataset/train/Inertial Signals/body_acc_z_train.txt  \n",
            "  inflating: __MACOSX/UCI HAR Dataset/train/Inertial Signals/._body_acc_z_train.txt  \n",
            "  inflating: UCI HAR Dataset/train/Inertial Signals/body_gyro_x_train.txt  \n",
            "  inflating: __MACOSX/UCI HAR Dataset/train/Inertial Signals/._body_gyro_x_train.txt  \n",
            "  inflating: UCI HAR Dataset/train/Inertial Signals/body_gyro_y_train.txt  \n",
            "  inflating: __MACOSX/UCI HAR Dataset/train/Inertial Signals/._body_gyro_y_train.txt  \n",
            "  inflating: UCI HAR Dataset/train/Inertial Signals/body_gyro_z_train.txt  \n",
            "  inflating: __MACOSX/UCI HAR Dataset/train/Inertial Signals/._body_gyro_z_train.txt  \n",
            "  inflating: UCI HAR Dataset/train/Inertial Signals/total_acc_x_train.txt  \n",
            "  inflating: __MACOSX/UCI HAR Dataset/train/Inertial Signals/._total_acc_x_train.txt  \n",
            "  inflating: UCI HAR Dataset/train/Inertial Signals/total_acc_y_train.txt  \n",
            "  inflating: __MACOSX/UCI HAR Dataset/train/Inertial Signals/._total_acc_y_train.txt  \n",
            "  inflating: UCI HAR Dataset/train/Inertial Signals/total_acc_z_train.txt  \n",
            "  inflating: __MACOSX/UCI HAR Dataset/train/Inertial Signals/._total_acc_z_train.txt  \n",
            "  inflating: __MACOSX/UCI HAR Dataset/train/._Inertial Signals  \n",
            "  inflating: UCI HAR Dataset/train/subject_train.txt  \n",
            "  inflating: __MACOSX/UCI HAR Dataset/train/._subject_train.txt  \n",
            "  inflating: UCI HAR Dataset/train/X_train.txt  \n",
            "  inflating: __MACOSX/UCI HAR Dataset/train/._X_train.txt  \n",
            "  inflating: UCI HAR Dataset/train/y_train.txt  \n",
            "  inflating: __MACOSX/UCI HAR Dataset/train/._y_train.txt  \n",
            "  inflating: __MACOSX/UCI HAR Dataset/._train  \n",
            "  inflating: __MACOSX/._UCI HAR Dataset  \n"
          ]
        }
      ],
      "source": [
        "!unzip /content/Dataset.zip"
      ]
    },
    {
      "cell_type": "code",
      "execution_count": 4,
      "metadata": {
        "colab": {
          "base_uri": "https://localhost:8080/"
        },
        "id": "7js37rWe8tck",
        "outputId": "c82704c5-9006-4f34-fccb-f5dc3d0bbe94"
      },
      "outputs": [
        {
          "output_type": "stream",
          "name": "stdout",
          "text": [
            "Downloading...\n",
            "From: https://archive.ics.uci.edu/ml/machine-learning-databases/00240/UCI%20HAR%20Dataset.names\n",
            "To: /content/Dataset.names\n",
            "\r  0% 0.00/6.30k [00:00<?, ?B/s]\r100% 6.30k/6.30k [00:00<00:00, 6.23MB/s]\n"
          ]
        }
      ],
      "source": [
        "!gdown https://archive.ics.uci.edu/ml/machine-learning-databases/00240/UCI%20HAR%20Dataset.names -O \"/content/Dataset.names\""
      ]
    },
    {
      "cell_type": "code",
      "execution_count": 5,
      "metadata": {
        "colab": {
          "base_uri": "https://localhost:8080/"
        },
        "id": "oINwMqh094xN",
        "outputId": "a2183344-974c-4cf7-d119-e2e7ba380f56"
      },
      "outputs": [
        {
          "output_type": "stream",
          "name": "stdout",
          "text": [
            "===================================================================================================\r\n",
            "Human Activity Recognition Using Smartphones Dataset\r\n",
            "Version 1.0\r\n",
            "===================================================================================================\r\n",
            "Jorge L. Reyes-Ortiz(1,2), Davide Anguita(1), Alessandro Ghio(1), Luca Oneto(1) and Xavier Parra(2)\r\n",
            "1 - Smartlab - Non-Linear Complex Systems Laboratory\r\n",
            "DITEN - Universit�  degli Studi di Genova, Genoa (I-16145), Italy. \r\n",
            "2 - CETpD - Technical Research Centre for Dependency Care and Autonomous Living\r\n",
            "Universitat Polit�cnica de Catalunya (BarcelonaTech). Vilanova i la Geltr� (08800), Spain\r\n",
            "activityrecognition '@' smartlab.ws \r\n",
            "===================================================================================================\r\n",
            "\r\n",
            "The experiments have been carried out with a group of 30 volunteers within an age bracket of 19-48 years. Each person performed six activities (WALKING, WALKING_UPSTAIRS, WALKING_DOWNSTAIRS, SITTING, STANDING, LAYING) wearing a smartphone (Samsung Galaxy S II) on the waist. Using its embedded accelerometer and gyroscope, we captured 3-axial linear acceleration and 3-axial angular velocity at a constant rate of 50Hz. The experiments have been video-recorded to label the data manually. The obtained dataset has been randomly partitioned into two sets, where 70% of the volunteers was selected for generating the training data and 30% the test data. \r\n",
            "\r\n",
            "The sensor signals (accelerometer and gyroscope) were pre-processed by applying noise filters and then sampled in fixed-width sliding windows of 2.56 sec and 50% overlap (128 readings/window). The sensor acceleration signal, which has gravitational and body motion components, was separated using a Butterworth low-pass filter into body acceleration and gravity. The gravitational force is assumed to have only low frequency components, therefore a filter with 0.3 Hz cutoff frequency was used. From each window, a vector of features was obtained by calculating variables from the time and frequency domain. See 'features_info.txt' for more details. \r\n",
            "\r\n",
            "For each record it is provided:\r\n",
            "======================================\r\n",
            "\r\n",
            "- Triaxial acceleration from the accelerometer (total acceleration) and the estimated body acceleration.\r\n",
            "- Triaxial Angular velocity from the gyroscope. \r\n",
            "- A 561-feature vector with time and frequency domain variables. \r\n",
            "- Its activity label. \r\n",
            "- An identifier of the subject who carried out the experiment.\r\n",
            "\r\n",
            "The dataset includes the following files:\r\n",
            "=========================================\r\n",
            "\r\n",
            "- 'README.txt'\r\n",
            "\r\n",
            "- 'features_info.txt': Shows information about the variables used on the feature vector.\r\n",
            "\r\n",
            "- 'features.txt': List of all features.\r\n",
            "\r\n",
            "- 'activity_labels.txt': Links the class labels with their activity name.\r\n",
            "\r\n",
            "- 'train/X_train.txt': Training set.\r\n",
            "\r\n",
            "- 'train/y_train.txt': Training labels.\r\n",
            "\r\n",
            "- 'test/X_test.txt': Test set.\r\n",
            "\r\n",
            "- 'test/y_test.txt': Test labels.\r\n",
            "\r\n",
            "The following files are available for the train and test data. Their descriptions are equivalent. \r\n",
            "\r\n",
            "- 'train/subject_train.txt': Each row identifies the subject who performed the activity for each window sample. Its range is from 1 to 30. \r\n",
            "\r\n",
            "- 'train/Inertial Signals/total_acc_x_train.txt': The acceleration signal from the smartphone accelerometer X axis in standard gravity units 'g'. Every row shows a 128 element vector. The same description applies for the 'total_acc_x_train.txt' and 'total_acc_z_train.txt' files for the Y and Z axis. \r\n",
            "\r\n",
            "- 'train/Inertial Signals/body_acc_x_train.txt': The body acceleration signal obtained by subtracting the gravity from the total acceleration. \r\n",
            "\r\n",
            "- 'train/Inertial Signals/body_gyro_x_train.txt': The angular velocity vector measured by the gyroscope for each window sample. The units are radians/second. \r\n",
            "\r\n",
            "Notes: \r\n",
            "======\r\n",
            "- Features are normalized and bounded within [-1,1].\r\n",
            "- Each feature vector is a row on the text file.\r\n",
            "- The units used for the accelerations (total and body) are 'g's (gravity of earth -> 9.80665 m/seg2).\r\n",
            "- The gyroscope units are rad/seg.\r\n",
            "- A video of the experiment including an example of the 6 recorded activities with one of the participants can be seen in the following link: http://www.youtube.com/watch?v=XOEN9W05_4A\r\n",
            "\r\n",
            "For more information about this dataset please contact: activityrecognition '@' smartlab.ws\r\n",
            "\r\n",
            "License:\r\n",
            "========\r\n",
            "Use of this dataset in publications must be acknowledged by referencing the following publication [1] \r\n",
            "\r\n",
            "[1] Davide Anguita, Alessandro Ghio, Luca Oneto, Xavier Parra and Jorge L. Reyes-Ortiz. A Public Domain Dataset for Human Activity Recognition Using Smartphones. 21th European Symposium on Artificial Neural Networks, Computational Intelligence and Machine Learning, ESANN 2013. Bruges, Belgium 24-26 April 2013. \r\n",
            "\r\n",
            "This dataset is distributed AS-IS and no responsibility implied or explicit can be addressed to the authors or their institutions for its use or misuse. Any commercial use is prohibited.\r\n",
            "\r\n",
            "Other Related Publications:\r\n",
            "===========================\r\n",
            "[2] Davide Anguita, Alessandro Ghio, Luca Oneto, Xavier Parra, Jorge L. Reyes-Ortiz.  Energy Efficient Smartphone-Based Activity Recognition using Fixed-Point Arithmetic. Journal of Universal Computer Science. Special Issue in Ambient Assisted Living: Home Care.   Volume 19, Issue 9. May 2013\r\n",
            "\r\n",
            "[3] Davide Anguita, Alessandro Ghio, Luca Oneto, Xavier Parra and Jorge L. Reyes-Ortiz. Human Activity Recognition on Smartphones using a Multiclass Hardware-Friendly Support Vector Machine. 4th International Workshop of Ambient Assited Living, IWAAL 2012, Vitoria-Gasteiz, Spain, December 3-5, 2012. Proceedings. Lecture Notes in Computer Science 2012, pp 216-223. \r\n",
            "\r\n",
            "[4] Jorge Luis Reyes-Ortiz, Alessandro Ghio, Xavier Parra-Llanas, Davide Anguita, Joan Cabestany, Andreu Catal�. Human Activity and Motion Disorder Recognition: Towards Smarter Interactive Cognitive Environments. 21th European Symposium on Artificial Neural Networks, Computational Intelligence and Machine Learning, ESANN 2013. Bruges, Belgium 24-26 April 2013.  \r\n",
            "\r\n",
            "==================================================================================================\r\n",
            "Jorge L. Reyes-Ortiz, Alessandro Ghio, Luca Oneto, Davide Anguita and Xavier Parra. November 2013.\r\n"
          ]
        }
      ],
      "source": [
        "!cat \"/content/Dataset.names\""
      ]
    },
    {
      "cell_type": "code",
      "execution_count": 6,
      "metadata": {
        "colab": {
          "base_uri": "https://localhost:8080/"
        },
        "id": "HlHR2zgU-Yk3",
        "outputId": "95c35d7e-63e3-4057-93f6-d62fe60f41f7"
      },
      "outputs": [
        {
          "output_type": "stream",
          "name": "stdout",
          "text": [
            "1 WALKING\n",
            "2 WALKING_UPSTAIRS\n",
            "3 WALKING_DOWNSTAIRS\n",
            "4 SITTING\n",
            "5 STANDING\n",
            "6 LAYING\n"
          ]
        }
      ],
      "source": [
        "!cat \"/content/UCI HAR Dataset/activity_labels.txt\""
      ]
    },
    {
      "cell_type": "code",
      "execution_count": 7,
      "metadata": {
        "id": "V3JPy5L5qgHW"
      },
      "outputs": [],
      "source": [
        "X_train = pd.read_csv(\"/content/UCI HAR Dataset/train/X_train.txt\", delimiter=r\"\\s+\", header=None)\n",
        "X_test = pd.read_csv(\"/content/UCI HAR Dataset/test/X_test.txt\", delimiter=r\"\\s+\", header=None)\n",
        "y_train = pd.read_csv(\"/content/UCI HAR Dataset/train/y_train.txt\", delimiter=r\"\\s+\", header=None)\n",
        "y_test = pd.read_csv(\"/content/UCI HAR Dataset/test/y_test.txt\", delimiter=r\"\\s+\", header=None)"
      ]
    },
    {
      "cell_type": "code",
      "execution_count": 8,
      "metadata": {
        "id": "ehah1xhWFG1E"
      },
      "outputs": [],
      "source": [
        "X_train[\"Class\"] = y_train\n",
        "X_test[\"Class\"] = y_test"
      ]
    },
    {
      "cell_type": "code",
      "execution_count": 9,
      "metadata": {
        "id": "eFqW_pxw_2Yk"
      },
      "outputs": [],
      "source": [
        "X_valid, X_train = np.split(X_train.sample(frac=1, random_state=0), [int(.125*len(X_train))])"
      ]
    },
    {
      "cell_type": "code",
      "execution_count": 10,
      "metadata": {
        "id": "pGez1UEkH119"
      },
      "outputs": [],
      "source": [
        "y_train = X_train[\"Class\"]\n",
        "X_train = X_train.drop(columns=[\"Class\"])\n",
        "\n",
        "y_valid = X_valid[\"Class\"]\n",
        "X_valid = X_valid.drop(columns=[\"Class\"])"
      ]
    },
    {
      "cell_type": "code",
      "execution_count": 11,
      "metadata": {
        "id": "6pUkZ-WvQxoB"
      },
      "outputs": [],
      "source": [
        "y_train = y_train.apply(lambda x:x-1)\n",
        "y_test = y_test.apply(lambda x:x-1)\n",
        "y_valid = y_valid.apply(lambda x:x-1)"
      ]
    },
    {
      "cell_type": "markdown",
      "metadata": {
        "id": "CdO_O8ws5wPh"
      },
      "source": [
        "# MLP Classifer"
      ]
    },
    {
      "cell_type": "markdown",
      "metadata": {
        "id": "jszRnW7E9ux7"
      },
      "source": [
        "## Model"
      ]
    },
    {
      "cell_type": "code",
      "execution_count": null,
      "metadata": {
        "id": "MrD12o6V2KpU"
      },
      "outputs": [],
      "source": [
        "class MLPModel(keras.Model):\n",
        "  def __init__(self, number_hidden_layers, number_hidden_units):\n",
        "    super().__init__()\n",
        "\n",
        "    if number_hidden_layers<0:\n",
        "      raise Exception(\"The number of hidden layers must be a non-negetive number\")\n",
        "\n",
        "    if number_hidden_layers != len(number_hidden_units):\n",
        "      raise Exception(\"The number of hidden layers must equal to the length of the number of hidden units list\")\n",
        "\n",
        "    self.model = keras.models.Sequential()\n",
        "\n",
        "    for i in range(number_hidden_layers):\n",
        "      self.model.add(keras.layers.Dense(units=number_hidden_units[i], activation=\"relu\", name=f\"Dense_Layer_{i+1}\"))\n",
        "\n",
        "    self.model.add(keras.layers.Dense(6, activation=\"softmax\", name=\"Output_Layer\"))\n",
        "\n",
        "  def call(self, inputs):\n",
        "    return self.model(inputs)"
      ]
    },
    {
      "cell_type": "code",
      "execution_count": null,
      "metadata": {
        "id": "FEgCM9BW7kat"
      },
      "outputs": [],
      "source": [
        "def train_and_evaluate(number_hidden_layers, number_hidden_units, learning_rate):\n",
        "  es_callback = keras.callbacks.EarlyStopping(monitor=\"val_loss\", restore_best_weights=True, patience=5)\n",
        "\n",
        "  model = MLPModel(number_hidden_layers=number_hidden_layers, number_hidden_units=number_hidden_units)\n",
        "\n",
        "  opt = tf.keras.optimizers.Adam(learning_rate=learning_rate)\n",
        "  \n",
        "  model.compile(optimizer=opt, loss=\"sparse_categorical_crossentropy\", metrics=[\"accuracy\"])\n",
        "\n",
        "  model.fit(x=X_train, y=y_train, epochs=30, validation_data=(X_valid, y_valid), verbose=0, callbacks=[es_callback])\n",
        "\n",
        "  train_accuracy = model.evaluate(X_train, y_train, verbose=0)[1]\n",
        "  validation_accuracy = model.evaluate(X_valid, y_valid, verbose=0)[1]\n",
        "\n",
        "  print(f\"Train = {round(train_accuracy*100, 2)}, Validation = {round(validation_accuracy*100, 2)}\")"
      ]
    },
    {
      "cell_type": "markdown",
      "metadata": {
        "id": "HJpVmTbPlUOS"
      },
      "source": [
        "## Learning Rate Fine-tuning"
      ]
    },
    {
      "cell_type": "code",
      "execution_count": null,
      "metadata": {
        "colab": {
          "base_uri": "https://localhost:8080/"
        },
        "id": "V5OGkKLNifjj",
        "outputId": "a8f46aad-d80b-45df-e932-f1f6dacd3e41"
      },
      "outputs": [
        {
          "name": "stdout",
          "output_type": "stream",
          "text": [
            "Learning Rate = 0.0001\n",
            "Train = 98.83, Validation = 97.71\n",
            "\n",
            "Learning Rate = 0.0005\n",
            "Train = 98.85, Validation = 97.82\n",
            "\n",
            "Learning Rate = 0.001\n",
            "Train = 97.95, Validation = 96.52\n",
            "\n",
            "Learning Rate = 0.003\n",
            "Train = 98.8, Validation = 98.04\n",
            "\n",
            "Learning Rate = 0.005\n",
            "Train = 98.4, Validation = 97.17\n",
            "\n",
            "Learning Rate = 0.01\n",
            "Train = 98.77, Validation = 97.93\n",
            "\n",
            "Learning Rate = 0.1\n",
            "Train = 98.57, Validation = 97.93\n",
            "\n"
          ]
        }
      ],
      "source": [
        "for learning_rate in [0.0001, 0.0005, 0.001, 0.003, 0.005, 0.01, 0.1]:\n",
        "  print(f\"Learning Rate = {learning_rate}\")\n",
        "  train_and_evaluate(number_hidden_layers=3, number_hidden_units=[128, 64, 32], learning_rate=0.001)\n",
        "  print(\"\")"
      ]
    },
    {
      "cell_type": "markdown",
      "metadata": {
        "id": "AW_-4dPPlZf1"
      },
      "source": [
        "## Number Layer and Number Neuron Fine-tuning"
      ]
    },
    {
      "cell_type": "code",
      "execution_count": null,
      "metadata": {
        "colab": {
          "base_uri": "https://localhost:8080/"
        },
        "id": "wNEc3An_i0uz",
        "outputId": "aadfe69a-f222-46cf-da5f-64a3b0a0af13"
      },
      "outputs": [
        {
          "name": "stdout",
          "output_type": "stream",
          "text": [
            "Train = 98.82, Validation = 97.93\n",
            "\n"
          ]
        }
      ],
      "source": [
        "train_and_evaluate(number_hidden_layers=0, number_hidden_units=[], learning_rate=0.003)\n",
        "print(\"\")"
      ]
    },
    {
      "cell_type": "code",
      "execution_count": null,
      "metadata": {
        "colab": {
          "base_uri": "https://localhost:8080/"
        },
        "id": "ySIXtRVvlR01",
        "outputId": "3a002eb4-411c-4dec-b507-2f4b440859a1"
      },
      "outputs": [
        {
          "name": "stdout",
          "output_type": "stream",
          "text": [
            "number_hidden_units = [32]\n",
            "Train = 98.96, Validation = 97.93\n",
            "\n",
            "number_hidden_units = [64]\n",
            "Train = 98.87, Validation = 97.82\n",
            "\n",
            "number_hidden_units = [128]\n",
            "Train = 98.87, Validation = 98.04\n",
            "\n"
          ]
        }
      ],
      "source": [
        "for number_hidden_units in [[32], [64], [128]]:\n",
        "  print(f\"number_hidden_units = {number_hidden_units}\")\n",
        "  train_and_evaluate(number_hidden_layers=1, number_hidden_units=number_hidden_units, learning_rate=0.003)\n",
        "  print(\"\")"
      ]
    },
    {
      "cell_type": "code",
      "execution_count": null,
      "metadata": {
        "colab": {
          "base_uri": "https://localhost:8080/"
        },
        "id": "IoDRMe3-l79A",
        "outputId": "17de5942-3702-42da-c709-e5c88edd04ad"
      },
      "outputs": [
        {
          "name": "stdout",
          "output_type": "stream",
          "text": [
            "number_hidden_units = [32, 32]\n",
            "Train = 98.87, Validation = 98.26\n",
            "\n",
            "number_hidden_units = [64, 32]\n",
            "Train = 98.4, Validation = 97.06\n",
            "\n",
            "number_hidden_units = [128, 128]\n",
            "Train = 97.28, Validation = 96.63\n",
            "\n"
          ]
        }
      ],
      "source": [
        "for number_hidden_units in [\n",
        "                            [32, 32], [64, 32], [128, 128]\n",
        "                            ]:\n",
        "  print(f\"number_hidden_units = {number_hidden_units}\")\n",
        "  train_and_evaluate(number_hidden_layers=2, number_hidden_units=number_hidden_units, learning_rate=0.003)\n",
        "  print(\"\")"
      ]
    },
    {
      "cell_type": "code",
      "execution_count": null,
      "metadata": {
        "colab": {
          "base_uri": "https://localhost:8080/"
        },
        "id": "Vg4yKaXemQJu",
        "outputId": "90586100-816b-435d-b9bb-ef90f3136c95"
      },
      "outputs": [
        {
          "name": "stdout",
          "output_type": "stream",
          "text": [
            "number_hidden_units = [64, 32, 32]\n",
            "Train = 98.49, Validation = 97.71\n",
            "\n",
            "number_hidden_units = [64, 64, 64]\n",
            "Train = 98.15, Validation = 97.39\n",
            "\n",
            "number_hidden_units = [128, 64, 32]\n",
            "Train = 98.26, Validation = 97.28\n",
            "\n"
          ]
        }
      ],
      "source": [
        "for number_hidden_units in [\n",
        "                            [64, 32, 32], [64, 64, 64], [128, 64, 32]\n",
        "                            ]:\n",
        "  print(f\"number_hidden_units = {number_hidden_units}\")\n",
        "  train_and_evaluate(number_hidden_layers=3, number_hidden_units=number_hidden_units, learning_rate=0.003)\n",
        "  print(\"\")"
      ]
    },
    {
      "cell_type": "code",
      "execution_count": null,
      "metadata": {
        "colab": {
          "base_uri": "https://localhost:8080/"
        },
        "id": "-cRFD9AFmaDH",
        "outputId": "347173c5-6496-488e-d248-97b970f34093"
      },
      "outputs": [
        {
          "name": "stdout",
          "output_type": "stream",
          "text": [
            "number_hidden_units = [128, 128, 64, 64]\n",
            "Train = 18.76, Validation = 18.17\n",
            "\n",
            "number_hidden_units = [128, 64, 32, 16]\n",
            "Train = 52.45, Validation = 50.82\n",
            "\n",
            "number_hidden_units = [128, 64, 32, 64]\n",
            "Train = 18.76, Validation = 18.17\n",
            "\n"
          ]
        }
      ],
      "source": [
        "for number_hidden_units in [\n",
        "                            [128, 128, 64, 64], [128, 64, 32, 16], [128, 64, 32, 64]\n",
        "                            ]:\n",
        "  print(f\"number_hidden_units = {number_hidden_units}\")\n",
        "  train_and_evaluate(number_hidden_layers=4, number_hidden_units=number_hidden_units, learning_rate=0.05)\n",
        "  print(\"\")"
      ]
    },
    {
      "cell_type": "markdown",
      "metadata": {
        "id": "19ALn6EJrSdz"
      },
      "source": [
        "# SOM"
      ]
    },
    {
      "cell_type": "code",
      "execution_count": 74,
      "metadata": {
        "id": "4xW0sGOGn85x"
      },
      "outputs": [],
      "source": [
        "import colorsys\n",
        "\n",
        "class SOM():\n",
        "  def __init__(self, number_epochs, map_size, number_features,\n",
        "               initial_learning_rate, initial_radius, radius_decay, X_train):\n",
        "    \n",
        "    self.number_epochs = number_epochs\n",
        "    self.map_size = map_size\n",
        "    self.number_features = number_features\n",
        "    self.learning_rate = initial_learning_rate\n",
        "    self.radius_decay = radius_decay\n",
        "    self.radius = initial_radius\n",
        "    self.initial_learning_rate = initial_learning_rate\n",
        "    self._initiate_weight(X_train)\n",
        "\n",
        "  def _initiate_weight(self, X_train):\n",
        "\n",
        "    self.weight = []\n",
        "    for i in range(self.map_size[0]):\n",
        "      row_list = []\n",
        "      for j in range(self.map_size[1]):\n",
        "        row_list.append(X_train[np.random.choice(X_train.shape[0])])\n",
        "      self.weight.append(row_list)\n",
        "    self.weight = np.array(self.weight)\n",
        "\n",
        "  def train(self, X_train):\n",
        "    self.weight_changes_list = []\n",
        "    for epoch in range(self.number_epochs):\n",
        "      print(f\"epoch = {epoch}\")\n",
        "      prev_weight = deepcopy(self.weight)\n",
        "      for i, row in enumerate(X_train):\n",
        "        winner = self.find_winner(row)\n",
        "        NS = self.calculate_NS(row, winner)\n",
        "        self.update_weights(NS, row)\n",
        "\n",
        "      self.weight_changes_list.append(np.linalg.norm(prev_weight - self.weight))\n",
        "\n",
        "      self.learning_rate -= (self.initial_learning_rate/self.number_epochs)\n",
        "      self.radius *= self.radius_decay\n",
        "\n",
        "  def find_winner(self, row):\n",
        "    winner = np.argmin(np.sum((np.tile(row, (self.map_size[0], self.map_size[1], 1)) - self.weight)**2, axis=2))\n",
        "    winner = (winner//self.map_size[1], winner%self.map_size[1])\n",
        "    return winner\n",
        "\n",
        "  def calculate_NS(self, row, winner):\n",
        "    NS = np.zeros(self.map_size)\n",
        "\n",
        "    for i in range( max(winner[0]-int(self.radius), 0), min(winner[0]+int(self.radius)+1, self.map_size[0])):\n",
        "      for j in range( max(winner[1]-int(self.radius), 0), min(winner[1]+int(self.radius)+1, self.map_size[1])):\n",
        "          neuron_distance = self.distance(np.array((i, j)), np.array(winner))\n",
        "\n",
        "          if neuron_distance <= self.radius:\n",
        "            NS[i][j] = 1 - neuron_distance / self.radius\n",
        "    \n",
        "    return NS\n",
        "\n",
        "  def update_weights(self, NS, row):\n",
        "    Delta = np.tile(row , (self.map_size[0], self.map_size[1], 1)) - self.weight\n",
        "    self.weight += self.learning_rate * np.multiply(np.tile(NS.T, (self.number_features, 1, 1)).T, Delta)\n",
        "\n",
        "  def visualize(self, X_train, y_train):\n",
        "    number_labels = len(set(y_train))\n",
        "    self.scores = np.zeros((self.map_size[0], self.map_size[1], number_labels))\n",
        "\n",
        "    for i in range(len(X_train)):\n",
        "      row = X_train[i]\n",
        "      label = y_train[i]\n",
        "      winner = self.find_winner(row)\n",
        "      self.scores[winner[0]][winner[1]][label] += 1\n",
        "\n",
        "    best_label = np.zeros((self.map_size[0], self.map_size[1]), dtype=int)\n",
        "\n",
        "    for i in range(self.map_size[0]):\n",
        "      for j in range(self.map_size[1]):\n",
        "        if np.all(self.scores[i][j] == 0):\n",
        "          best_label[i][j] == number_labels + 1\n",
        "        else:\n",
        "          best_label[i][j] = np.argmax(self.scores[i][j])\n",
        "\n",
        "    label_colors = self._get_colors(number_labels)\n",
        "    label_colors.append((0, 0, 0))\n",
        "\n",
        "    map_color = []\n",
        "    for i in range(self.map_size[0]):\n",
        "      map_row_color = []\n",
        "      for j in range(self.map_size[1]):\n",
        "        map_row_color.append(label_colors[best_label[i][j]])\n",
        "      map_color.append(map_row_color)\n",
        "    \n",
        "    plt.imshow(map_color)\n",
        "    plt.show()\n",
        "\n",
        "  def plot_weight_changes(self):\n",
        "    plt.xlabel(\"Epoch\")\n",
        "    plt.ylabel(\"Weight Change\")\n",
        "    plt.title(\"Weight Changing Over Epochs\")\n",
        "    plt.plot(som.weight_changes_list, color=\"purple\")\n",
        "    plt.show()\n",
        "\n",
        "  @staticmethod\n",
        "  def distance(array1, array2):\n",
        "    return np.linalg.norm(array1 - array2)\n",
        "\n",
        "  @staticmethod\n",
        "  def _get_colors(num_colors):\n",
        "      colors=[]\n",
        "      for i in np.arange(0., 360., 360. / num_colors):\n",
        "          hue = i/360.\n",
        "          lightness = (50 + np.random.rand() * 10)/100.\n",
        "          saturation = (90 + np.random.rand() * 10)/100.\n",
        "          colors.append(colorsys.hls_to_rgb(hue, lightness, saturation))\n",
        "      return colors"
      ]
    },
    {
      "cell_type": "code",
      "execution_count": 80,
      "metadata": {
        "id": "FtrpL06V405j"
      },
      "outputs": [],
      "source": [
        "som = SOM(number_epochs=20, map_size=(10,10), number_features=len(X_train.columns),\n",
        "               initial_learning_rate=0.001, initial_radius=5,\n",
        "               radius_decay=0.95, X_train=X_train.to_numpy())"
      ]
    },
    {
      "cell_type": "code",
      "source": [
        "som.visualize(X_train.to_numpy(), y_train.to_numpy())"
      ],
      "metadata": {
        "colab": {
          "base_uri": "https://localhost:8080/",
          "height": 265
        },
        "id": "6tneijQiSqqs",
        "outputId": "0a65d89f-1c2b-4b9f-a336-f6050bfb0545"
      },
      "execution_count": 81,
      "outputs": [
        {
          "output_type": "display_data",
          "data": {
            "text/plain": [
              "<Figure size 432x288 with 1 Axes>"
            ],
            "image/png": "[encoded data removed]"
          },
          "metadata": {
            "needs_background": "light"
          }
        }
      ]
    },
    {
      "cell_type": "code",
      "execution_count": 82,
      "metadata": {
        "id": "qmcywJCYD-xM",
        "colab": {
          "base_uri": "https://localhost:8080/"
        },
        "outputId": "d37f7040-c29a-4c9e-d5d8-e83ad3d63bdc"
      },
      "outputs": [
        {
          "output_type": "stream",
          "name": "stdout",
          "text": [
            "epoch = 0\n",
            "epoch = 1\n",
            "epoch = 2\n",
            "epoch = 3\n",
            "epoch = 4\n",
            "epoch = 5\n",
            "epoch = 6\n",
            "epoch = 7\n",
            "epoch = 8\n",
            "epoch = 9\n",
            "epoch = 10\n",
            "epoch = 11\n",
            "epoch = 12\n",
            "epoch = 13\n",
            "epoch = 14\n",
            "epoch = 15\n",
            "epoch = 16\n",
            "epoch = 17\n",
            "epoch = 18\n",
            "epoch = 19\n"
          ]
        }
      ],
      "source": [
        "som.train(X_train.to_numpy())"
      ]
    },
    {
      "cell_type": "code",
      "source": [
        "np.tile(np.array([[1,2], [3,4]]).T, (4, 1, 1)).T"
      ],
      "metadata": {
        "colab": {
          "base_uri": "https://localhost:8080/"
        },
        "id": "8UjIbE8hVzJW",
        "outputId": "590a0822-aa57-408d-c0de-f84a55e0c518"
      },
      "execution_count": 73,
      "outputs": [
        {
          "output_type": "execute_result",
          "data": {
            "text/plain": [
              "array([[[1, 1, 1, 1],\n",
              "        [2, 2, 2, 2]],\n",
              "\n",
              "       [[3, 3, 3, 3],\n",
              "        [4, 4, 4, 4]]])"
            ]
          },
          "metadata": {},
          "execution_count": 73
        }
      ]
    },
    {
      "cell_type": "code",
      "execution_count": 83,
      "metadata": {
        "colab": {
          "base_uri": "https://localhost:8080/",
          "height": 265
        },
        "id": "sUENhn_eEEOb",
        "outputId": "54fc19fa-f076-4751-e13e-3dee0a388bb5"
      },
      "outputs": [
        {
          "output_type": "display_data",
          "data": {
            "text/plain": [
              "<Figure size 432x288 with 1 Axes>"
            ],
            "image/png": "[encoded data removed]"
          },
          "metadata": {
            "needs_background": "light"
          }
        }
      ],
      "source": [
        "som.visualize(X_train.to_numpy(), y_train.to_numpy())"
      ]
    },
    {
      "cell_type": "code",
      "execution_count": 79,
      "metadata": {
        "colab": {
          "base_uri": "https://localhost:8080/",
          "height": 295
        },
        "id": "oIpp9MFdUPhq",
        "outputId": "2e92e2ec-6bb9-475f-fba2-04f326b20097"
      },
      "outputs": [
        {
          "output_type": "display_data",
          "data": {
            "text/plain": [
              "<Figure size 432x288 with 1 Axes>"
            ],
            "image/png": "[encoded data removed]"
          },
          "metadata": {
            "needs_background": "light"
          }
        }
      ],
      "source": [
        "som.plot_weight_changes()"
      ]
    },
    {
      "cell_type": "code",
      "execution_count": null,
      "metadata": {
        "id": "smT0caBVsltS"
      },
      "outputs": [],
      "source": [
        "row = X_train.to_numpy()[0]"
      ]
    },
    {
      "cell_type": "code",
      "execution_count": null,
      "metadata": {
        "colab": {
          "base_uri": "https://localhost:8080/"
        },
        "id": "QYwmXNEFs2OG",
        "outputId": "73b5065d-548c-49b8-e030-85b5a7a85645"
      },
      "outputs": [
        {
          "data": {
            "text/plain": [
              "array([1, 1])"
            ]
          },
          "execution_count": 22,
          "metadata": {},
          "output_type": "execute_result"
        }
      ],
      "source": [
        "np.argmax(np.array([[1,2],[0,5]]), axis=1)"
      ]
    },
    {
      "cell_type": "code",
      "execution_count": null,
      "metadata": {
        "colab": {
          "base_uri": "https://localhost:8080/"
        },
        "id": "tBQgZvxhswcs",
        "outputId": "2f57e632-24b0-4b37-bb52-4d08fe153664"
      },
      "outputs": [
        {
          "data": {
            "text/plain": [
              "(3, 3, 561)"
            ]
          },
          "execution_count": 130,
          "metadata": {},
          "output_type": "execute_result"
        }
      ],
      "source": [
        "np.tile(row, (3,3, 1)).shape"
      ]
    },
    {
      "cell_type": "code",
      "execution_count": null,
      "metadata": {
        "colab": {
          "base_uri": "https://localhost:8080/"
        },
        "id": "f6mGzLNwsn_q",
        "outputId": "8215c88b-0ff4-4a46-b652-4d38717c6049"
      },
      "outputs": [
        {
          "data": {
            "text/plain": [
              "561"
            ]
          },
          "execution_count": 125,
          "metadata": {},
          "output_type": "execute_result"
        }
      ],
      "source": [
        "len(row)"
      ]
    },
    {
      "cell_type": "code",
      "execution_count": null,
      "metadata": {
        "colab": {
          "base_uri": "https://localhost:8080/",
          "height": 346
        },
        "id": "1U_UAKdSsp_h",
        "outputId": "89b6d29b-7d9d-466b-a928-8a5de00d5517"
      },
      "outputs": [
        {
          "ename": "AxisError",
          "evalue": "ignored",
          "output_type": "error",
          "traceback": [
            "\u001b[0;31m---------------------------------------------------------------------------\u001b[0m",
            "\u001b[0;31mAxisError\u001b[0m                                 Traceback (most recent call last)",
            "\u001b[0;32m<ipython-input-139-b95072b4c538>\u001b[0m in \u001b[0;36m<module>\u001b[0;34m()\u001b[0m\n\u001b[0;32m----> 1\u001b[0;31m \u001b[0mnp\u001b[0m\u001b[0;34m.\u001b[0m\u001b[0msum\u001b[0m\u001b[0;34m(\u001b[0m\u001b[0mnp\u001b[0m\u001b[0;34m.\u001b[0m\u001b[0marray\u001b[0m\u001b[0;34m(\u001b[0m\u001b[0;34m[\u001b[0m\u001b[0;34m[\u001b[0m\u001b[0;36m1\u001b[0m\u001b[0;34m,\u001b[0m\u001b[0;36m2\u001b[0m\u001b[0;34m]\u001b[0m\u001b[0;34m,\u001b[0m\u001b[0;34m[\u001b[0m\u001b[0;36m3\u001b[0m\u001b[0;34m,\u001b[0m\u001b[0;36m4\u001b[0m\u001b[0;34m]\u001b[0m\u001b[0;34m]\u001b[0m\u001b[0;34m)\u001b[0m\u001b[0;34m,\u001b[0m \u001b[0maxis\u001b[0m\u001b[0;34m=\u001b[0m\u001b[0;36m2\u001b[0m\u001b[0;34m)\u001b[0m\u001b[0;34m\u001b[0m\u001b[0;34m\u001b[0m\u001b[0m\n\u001b[0m",
            "\u001b[0;32m<__array_function__ internals>\u001b[0m in \u001b[0;36msum\u001b[0;34m(*args, **kwargs)\u001b[0m\n",
            "\u001b[0;32m/usr/local/lib/python3.7/dist-packages/numpy/core/fromnumeric.py\u001b[0m in \u001b[0;36msum\u001b[0;34m(a, axis, dtype, out, keepdims, initial, where)\u001b[0m\n\u001b[1;32m   2258\u001b[0m \u001b[0;34m\u001b[0m\u001b[0m\n\u001b[1;32m   2259\u001b[0m     return _wrapreduction(a, np.add, 'sum', axis, dtype, out, keepdims=keepdims,\n\u001b[0;32m-> 2260\u001b[0;31m                           initial=initial, where=where)\n\u001b[0m\u001b[1;32m   2261\u001b[0m \u001b[0;34m\u001b[0m\u001b[0m\n\u001b[1;32m   2262\u001b[0m \u001b[0;34m\u001b[0m\u001b[0m\n",
            "\u001b[0;32m/usr/local/lib/python3.7/dist-packages/numpy/core/fromnumeric.py\u001b[0m in \u001b[0;36m_wrapreduction\u001b[0;34m(obj, ufunc, method, axis, dtype, out, **kwargs)\u001b[0m\n\u001b[1;32m     84\u001b[0m                 \u001b[0;32mreturn\u001b[0m \u001b[0mreduction\u001b[0m\u001b[0;34m(\u001b[0m\u001b[0maxis\u001b[0m\u001b[0;34m=\u001b[0m\u001b[0maxis\u001b[0m\u001b[0;34m,\u001b[0m \u001b[0mout\u001b[0m\u001b[0;34m=\u001b[0m\u001b[0mout\u001b[0m\u001b[0;34m,\u001b[0m \u001b[0;34m**\u001b[0m\u001b[0mpasskwargs\u001b[0m\u001b[0;34m)\u001b[0m\u001b[0;34m\u001b[0m\u001b[0;34m\u001b[0m\u001b[0m\n\u001b[1;32m     85\u001b[0m \u001b[0;34m\u001b[0m\u001b[0m\n\u001b[0;32m---> 86\u001b[0;31m     \u001b[0;32mreturn\u001b[0m \u001b[0mufunc\u001b[0m\u001b[0;34m.\u001b[0m\u001b[0mreduce\u001b[0m\u001b[0;34m(\u001b[0m\u001b[0mobj\u001b[0m\u001b[0;34m,\u001b[0m \u001b[0maxis\u001b[0m\u001b[0;34m,\u001b[0m \u001b[0mdtype\u001b[0m\u001b[0;34m,\u001b[0m \u001b[0mout\u001b[0m\u001b[0;34m,\u001b[0m \u001b[0;34m**\u001b[0m\u001b[0mpasskwargs\u001b[0m\u001b[0;34m)\u001b[0m\u001b[0;34m\u001b[0m\u001b[0;34m\u001b[0m\u001b[0m\n\u001b[0m\u001b[1;32m     87\u001b[0m \u001b[0;34m\u001b[0m\u001b[0m\n\u001b[1;32m     88\u001b[0m \u001b[0;34m\u001b[0m\u001b[0m\n",
            "\u001b[0;31mAxisError\u001b[0m: axis 2 is out of bounds for array of dimension 2"
          ]
        }
      ],
      "source": [
        "np.sum(np.array([[1,2],[3,4]]), axis=2)"
      ]
    },
    {
      "cell_type": "code",
      "execution_count": null,
      "metadata": {
        "colab": {
          "base_uri": "https://localhost:8080/",
          "height": 487
        },
        "id": "t6Qf26wGt8_z",
        "outputId": "eca1ac00-2541-4bb8-c96d-baf3430b533e"
      },
      "outputs": [
        {
          "data": {
            "text/html": [
              "\n",
              "  <div id=\"df-354211d5-ca3a-46a6-b7e2-ba13d55f7351\">\n",
              "    <div class=\"colab-df-container\">\n",
              "      <div>\n",
              "<style scoped>\n",
              "    .dataframe tbody tr th:only-of-type {\n",
              "        vertical-align: middle;\n",
              "    }\n",
              "\n",
              "    .dataframe tbody tr th {\n",
              "        vertical-align: top;\n",
              "    }\n",
              "\n",
              "    .dataframe thead th {\n",
              "        text-align: right;\n",
              "    }\n",
              "</style>\n",
              "<table border=\"1\" class=\"dataframe\">\n",
              "  <thead>\n",
              "    <tr style=\"text-align: right;\">\n",
              "      <th></th>\n",
              "      <th>0</th>\n",
              "      <th>1</th>\n",
              "      <th>2</th>\n",
              "      <th>3</th>\n",
              "      <th>4</th>\n",
              "      <th>5</th>\n",
              "      <th>6</th>\n",
              "      <th>7</th>\n",
              "      <th>8</th>\n",
              "      <th>9</th>\n",
              "      <th>...</th>\n",
              "      <th>551</th>\n",
              "      <th>552</th>\n",
              "      <th>553</th>\n",
              "      <th>554</th>\n",
              "      <th>555</th>\n",
              "      <th>556</th>\n",
              "      <th>557</th>\n",
              "      <th>558</th>\n",
              "      <th>559</th>\n",
              "      <th>560</th>\n",
              "    </tr>\n",
              "  </thead>\n",
              "  <tbody>\n",
              "    <tr>\n",
              "      <th>1196</th>\n",
              "      <td>0.274415</td>\n",
              "      <td>-0.015365</td>\n",
              "      <td>-0.089577</td>\n",
              "      <td>-0.977204</td>\n",
              "      <td>-0.844724</td>\n",
              "      <td>-0.901338</td>\n",
              "      <td>-0.980053</td>\n",
              "      <td>-0.835494</td>\n",
              "      <td>-0.896651</td>\n",
              "      <td>-0.919487</td>\n",
              "      <td>...</td>\n",
              "      <td>0.414775</td>\n",
              "      <td>-0.152583</td>\n",
              "      <td>-0.577994</td>\n",
              "      <td>0.171742</td>\n",
              "      <td>-0.057348</td>\n",
              "      <td>0.622494</td>\n",
              "      <td>-0.421532</td>\n",
              "      <td>-0.844238</td>\n",
              "      <td>0.129549</td>\n",
              "      <td>0.126252</td>\n",
              "    </tr>\n",
              "    <tr>\n",
              "      <th>6746</th>\n",
              "      <td>0.378128</td>\n",
              "      <td>-0.021631</td>\n",
              "      <td>-0.134946</td>\n",
              "      <td>-0.218459</td>\n",
              "      <td>-0.133410</td>\n",
              "      <td>-0.241415</td>\n",
              "      <td>-0.221506</td>\n",
              "      <td>-0.150054</td>\n",
              "      <td>-0.246992</td>\n",
              "      <td>-0.073054</td>\n",
              "      <td>...</td>\n",
              "      <td>0.137933</td>\n",
              "      <td>-0.130561</td>\n",
              "      <td>-0.576274</td>\n",
              "      <td>-0.668277</td>\n",
              "      <td>0.214077</td>\n",
              "      <td>0.275911</td>\n",
              "      <td>0.195506</td>\n",
              "      <td>-0.835773</td>\n",
              "      <td>0.174898</td>\n",
              "      <td>-0.069622</td>\n",
              "    </tr>\n",
              "    <tr>\n",
              "      <th>6219</th>\n",
              "      <td>0.241018</td>\n",
              "      <td>-0.023779</td>\n",
              "      <td>-0.149122</td>\n",
              "      <td>-0.319574</td>\n",
              "      <td>0.031652</td>\n",
              "      <td>-0.200073</td>\n",
              "      <td>-0.359776</td>\n",
              "      <td>0.021921</td>\n",
              "      <td>-0.158302</td>\n",
              "      <td>-0.183947</td>\n",
              "      <td>...</td>\n",
              "      <td>0.292842</td>\n",
              "      <td>-0.280510</td>\n",
              "      <td>-0.550137</td>\n",
              "      <td>0.048369</td>\n",
              "      <td>-0.503804</td>\n",
              "      <td>-0.853310</td>\n",
              "      <td>-0.729661</td>\n",
              "      <td>-0.546802</td>\n",
              "      <td>0.261428</td>\n",
              "      <td>0.291004</td>\n",
              "    </tr>\n",
              "    <tr>\n",
              "      <th>4982</th>\n",
              "      <td>0.269496</td>\n",
              "      <td>-0.019287</td>\n",
              "      <td>-0.106867</td>\n",
              "      <td>-0.964469</td>\n",
              "      <td>-0.966990</td>\n",
              "      <td>-0.982618</td>\n",
              "      <td>-0.964586</td>\n",
              "      <td>-0.963221</td>\n",
              "      <td>-0.983236</td>\n",
              "      <td>-0.912592</td>\n",
              "      <td>...</td>\n",
              "      <td>0.401100</td>\n",
              "      <td>0.009948</td>\n",
              "      <td>-0.319006</td>\n",
              "      <td>0.042092</td>\n",
              "      <td>0.033528</td>\n",
              "      <td>0.162483</td>\n",
              "      <td>0.373684</td>\n",
              "      <td>0.553159</td>\n",
              "      <td>-0.212752</td>\n",
              "      <td>-0.804338</td>\n",
              "    </tr>\n",
              "    <tr>\n",
              "      <th>812</th>\n",
              "      <td>0.202550</td>\n",
              "      <td>-0.017049</td>\n",
              "      <td>-0.101957</td>\n",
              "      <td>0.283359</td>\n",
              "      <td>0.023602</td>\n",
              "      <td>-0.290198</td>\n",
              "      <td>0.227207</td>\n",
              "      <td>-0.080051</td>\n",
              "      <td>-0.301953</td>\n",
              "      <td>0.529405</td>\n",
              "      <td>...</td>\n",
              "      <td>-0.226830</td>\n",
              "      <td>-0.284462</td>\n",
              "      <td>-0.714534</td>\n",
              "      <td>0.922006</td>\n",
              "      <td>0.998425</td>\n",
              "      <td>-0.849653</td>\n",
              "      <td>-0.328409</td>\n",
              "      <td>-0.993952</td>\n",
              "      <td>0.098064</td>\n",
              "      <td>0.011644</td>\n",
              "    </tr>\n",
              "    <tr>\n",
              "      <th>...</th>\n",
              "      <td>...</td>\n",
              "      <td>...</td>\n",
              "      <td>...</td>\n",
              "      <td>...</td>\n",
              "      <td>...</td>\n",
              "      <td>...</td>\n",
              "      <td>...</td>\n",
              "      <td>...</td>\n",
              "      <td>...</td>\n",
              "      <td>...</td>\n",
              "      <td>...</td>\n",
              "      <td>...</td>\n",
              "      <td>...</td>\n",
              "      <td>...</td>\n",
              "      <td>...</td>\n",
              "      <td>...</td>\n",
              "      <td>...</td>\n",
              "      <td>...</td>\n",
              "      <td>...</td>\n",
              "      <td>...</td>\n",
              "      <td>...</td>\n",
              "    </tr>\n",
              "    <tr>\n",
              "      <th>4931</th>\n",
              "      <td>0.292627</td>\n",
              "      <td>-0.017491</td>\n",
              "      <td>-0.082785</td>\n",
              "      <td>-0.984160</td>\n",
              "      <td>-0.943641</td>\n",
              "      <td>-0.844642</td>\n",
              "      <td>-0.985363</td>\n",
              "      <td>-0.947178</td>\n",
              "      <td>-0.842207</td>\n",
              "      <td>-0.916906</td>\n",
              "      <td>...</td>\n",
              "      <td>-0.079717</td>\n",
              "      <td>-0.254130</td>\n",
              "      <td>-0.628941</td>\n",
              "      <td>-0.162713</td>\n",
              "      <td>0.515776</td>\n",
              "      <td>0.506718</td>\n",
              "      <td>-0.579462</td>\n",
              "      <td>-0.884235</td>\n",
              "      <td>0.041103</td>\n",
              "      <td>0.080667</td>\n",
              "    </tr>\n",
              "    <tr>\n",
              "      <th>3264</th>\n",
              "      <td>0.276011</td>\n",
              "      <td>-0.017833</td>\n",
              "      <td>-0.108782</td>\n",
              "      <td>-0.999012</td>\n",
              "      <td>-0.993991</td>\n",
              "      <td>-0.994970</td>\n",
              "      <td>-0.998858</td>\n",
              "      <td>-0.993352</td>\n",
              "      <td>-0.995265</td>\n",
              "      <td>-0.945600</td>\n",
              "      <td>...</td>\n",
              "      <td>0.470136</td>\n",
              "      <td>-0.698030</td>\n",
              "      <td>-0.903358</td>\n",
              "      <td>0.263036</td>\n",
              "      <td>0.202038</td>\n",
              "      <td>0.389661</td>\n",
              "      <td>-0.689069</td>\n",
              "      <td>-0.668749</td>\n",
              "      <td>0.218478</td>\n",
              "      <td>0.219102</td>\n",
              "    </tr>\n",
              "    <tr>\n",
              "      <th>1653</th>\n",
              "      <td>0.383254</td>\n",
              "      <td>-0.060821</td>\n",
              "      <td>-0.230736</td>\n",
              "      <td>-0.880962</td>\n",
              "      <td>-0.626535</td>\n",
              "      <td>-0.833755</td>\n",
              "      <td>-0.888587</td>\n",
              "      <td>-0.614349</td>\n",
              "      <td>-0.819403</td>\n",
              "      <td>-0.723865</td>\n",
              "      <td>...</td>\n",
              "      <td>-0.498263</td>\n",
              "      <td>-0.149884</td>\n",
              "      <td>-0.577270</td>\n",
              "      <td>-0.041335</td>\n",
              "      <td>0.173456</td>\n",
              "      <td>0.629785</td>\n",
              "      <td>-0.385363</td>\n",
              "      <td>-0.609972</td>\n",
              "      <td>-0.111308</td>\n",
              "      <td>-0.158247</td>\n",
              "    </tr>\n",
              "    <tr>\n",
              "      <th>2607</th>\n",
              "      <td>0.273439</td>\n",
              "      <td>-0.016149</td>\n",
              "      <td>-0.108189</td>\n",
              "      <td>-0.995842</td>\n",
              "      <td>-0.989843</td>\n",
              "      <td>-0.991254</td>\n",
              "      <td>-0.996346</td>\n",
              "      <td>-0.991258</td>\n",
              "      <td>-0.991739</td>\n",
              "      <td>-0.939091</td>\n",
              "      <td>...</td>\n",
              "      <td>0.535472</td>\n",
              "      <td>-0.673452</td>\n",
              "      <td>-0.917552</td>\n",
              "      <td>-0.234780</td>\n",
              "      <td>0.611080</td>\n",
              "      <td>0.283389</td>\n",
              "      <td>-0.286049</td>\n",
              "      <td>0.449830</td>\n",
              "      <td>-0.699381</td>\n",
              "      <td>-0.280821</td>\n",
              "    </tr>\n",
              "    <tr>\n",
              "      <th>2732</th>\n",
              "      <td>0.274492</td>\n",
              "      <td>-0.009470</td>\n",
              "      <td>-0.119675</td>\n",
              "      <td>-0.995555</td>\n",
              "      <td>-0.983979</td>\n",
              "      <td>-0.983107</td>\n",
              "      <td>-0.996266</td>\n",
              "      <td>-0.982734</td>\n",
              "      <td>-0.985017</td>\n",
              "      <td>-0.940533</td>\n",
              "      <td>...</td>\n",
              "      <td>-0.030512</td>\n",
              "      <td>-0.130341</td>\n",
              "      <td>-0.439827</td>\n",
              "      <td>-0.173245</td>\n",
              "      <td>0.076092</td>\n",
              "      <td>0.068383</td>\n",
              "      <td>-0.025058</td>\n",
              "      <td>-0.589129</td>\n",
              "      <td>-0.152326</td>\n",
              "      <td>0.157853</td>\n",
              "    </tr>\n",
              "  </tbody>\n",
              "</table>\n",
              "<p>6433 rows × 561 columns</p>\n",
              "</div>\n",
              "      <button class=\"colab-df-convert\" onclick=\"convertToInteractive('df-354211d5-ca3a-46a6-b7e2-ba13d55f7351')\"\n",
              "              title=\"Convert this dataframe to an interactive table.\"\n",
              "              style=\"display:none;\">\n",
              "        \n",
              "  <svg xmlns=\"http://www.w3.org/2000/svg\" height=\"24px\"viewBox=\"0 0 24 24\"\n",
              "       width=\"24px\">\n",
              "    <path d=\"M0 0h24v24H0V0z\" fill=\"none\"/>\n",
              "    <path d=\"M18.56 5.44l.94 2.06.94-2.06 2.06-.94-2.06-.94-.94-2.06-.94 2.06-2.06.94zm-11 1L8.5 8.5l.94-2.06 2.06-.94-2.06-.94L8.5 2.5l-.94 2.06-2.06.94zm10 10l.94 2.06.94-2.06 2.06-.94-2.06-.94-.94-2.06-.94 2.06-2.06.94z\"/><path d=\"M17.41 7.96l-1.37-1.37c-.4-.4-.92-.59-1.43-.59-.52 0-1.04.2-1.43.59L10.3 9.45l-7.72 7.72c-.78.78-.78 2.05 0 2.83L4 21.41c.39.39.9.59 1.41.59.51 0 1.02-.2 1.41-.59l7.78-7.78 2.81-2.81c.8-.78.8-2.07 0-2.86zM5.41 20L4 18.59l7.72-7.72 1.47 1.35L5.41 20z\"/>\n",
              "  </svg>\n",
              "      </button>\n",
              "      \n",
              "  <style>\n",
              "    .colab-df-container {\n",
              "      display:flex;\n",
              "      flex-wrap:wrap;\n",
              "      gap: 12px;\n",
              "    }\n",
              "\n",
              "    .colab-df-convert {\n",
              "      background-color: #E8F0FE;\n",
              "      border: none;\n",
              "      border-radius: 50%;\n",
              "      cursor: pointer;\n",
              "      display: none;\n",
              "      fill: #1967D2;\n",
              "      height: 32px;\n",
              "      padding: 0 0 0 0;\n",
              "      width: 32px;\n",
              "    }\n",
              "\n",
              "    .colab-df-convert:hover {\n",
              "      background-color: #E2EBFA;\n",
              "      box-shadow: 0px 1px 2px rgba(60, 64, 67, 0.3), 0px 1px 3px 1px rgba(60, 64, 67, 0.15);\n",
              "      fill: #174EA6;\n",
              "    }\n",
              "\n",
              "    [theme=dark] .colab-df-convert {\n",
              "      background-color: #3B4455;\n",
              "      fill: #D2E3FC;\n",
              "    }\n",
              "\n",
              "    [theme=dark] .colab-df-convert:hover {\n",
              "      background-color: #434B5C;\n",
              "      box-shadow: 0px 1px 3px 1px rgba(0, 0, 0, 0.15);\n",
              "      filter: drop-shadow(0px 1px 2px rgba(0, 0, 0, 0.3));\n",
              "      fill: #FFFFFF;\n",
              "    }\n",
              "  </style>\n",
              "\n",
              "      <script>\n",
              "        const buttonEl =\n",
              "          document.querySelector('#df-354211d5-ca3a-46a6-b7e2-ba13d55f7351 button.colab-df-convert');\n",
              "        buttonEl.style.display =\n",
              "          google.colab.kernel.accessAllowed ? 'block' : 'none';\n",
              "\n",
              "        async function convertToInteractive(key) {\n",
              "          const element = document.querySelector('#df-354211d5-ca3a-46a6-b7e2-ba13d55f7351');\n",
              "          const dataTable =\n",
              "            await google.colab.kernel.invokeFunction('convertToInteractive',\n",
              "                                                     [key], {});\n",
              "          if (!dataTable) return;\n",
              "\n",
              "          const docLinkHtml = 'Like what you see? Visit the ' +\n",
              "            '<a target=\"_blank\" href=https://colab.research.google.com/notebooks/data_table.ipynb>data table notebook</a>'\n",
              "            + ' to learn more about interactive tables.';\n",
              "          element.innerHTML = '';\n",
              "          dataTable['output_type'] = 'display_data';\n",
              "          await google.colab.output.renderOutput(dataTable, element);\n",
              "          const docLink = document.createElement('div');\n",
              "          docLink.innerHTML = docLinkHtml;\n",
              "          element.appendChild(docLink);\n",
              "        }\n",
              "      </script>\n",
              "    </div>\n",
              "  </div>\n",
              "  "
            ],
            "text/plain": [
              "           0         1         2         3         4         5         6    \\\n",
              "1196  0.274415 -0.015365 -0.089577 -0.977204 -0.844724 -0.901338 -0.980053   \n",
              "6746  0.378128 -0.021631 -0.134946 -0.218459 -0.133410 -0.241415 -0.221506   \n",
              "6219  0.241018 -0.023779 -0.149122 -0.319574  0.031652 -0.200073 -0.359776   \n",
              "4982  0.269496 -0.019287 -0.106867 -0.964469 -0.966990 -0.982618 -0.964586   \n",
              "812   0.202550 -0.017049 -0.101957  0.283359  0.023602 -0.290198  0.227207   \n",
              "...        ...       ...       ...       ...       ...       ...       ...   \n",
              "4931  0.292627 -0.017491 -0.082785 -0.984160 -0.943641 -0.844642 -0.985363   \n",
              "3264  0.276011 -0.017833 -0.108782 -0.999012 -0.993991 -0.994970 -0.998858   \n",
              "1653  0.383254 -0.060821 -0.230736 -0.880962 -0.626535 -0.833755 -0.888587   \n",
              "2607  0.273439 -0.016149 -0.108189 -0.995842 -0.989843 -0.991254 -0.996346   \n",
              "2732  0.274492 -0.009470 -0.119675 -0.995555 -0.983979 -0.983107 -0.996266   \n",
              "\n",
              "           7         8         9    ...       551       552       553  \\\n",
              "1196 -0.835494 -0.896651 -0.919487  ...  0.414775 -0.152583 -0.577994   \n",
              "6746 -0.150054 -0.246992 -0.073054  ...  0.137933 -0.130561 -0.576274   \n",
              "6219  0.021921 -0.158302 -0.183947  ...  0.292842 -0.280510 -0.550137   \n",
              "4982 -0.963221 -0.983236 -0.912592  ...  0.401100  0.009948 -0.319006   \n",
              "812  -0.080051 -0.301953  0.529405  ... -0.226830 -0.284462 -0.714534   \n",
              "...        ...       ...       ...  ...       ...       ...       ...   \n",
              "4931 -0.947178 -0.842207 -0.916906  ... -0.079717 -0.254130 -0.628941   \n",
              "3264 -0.993352 -0.995265 -0.945600  ...  0.470136 -0.698030 -0.903358   \n",
              "1653 -0.614349 -0.819403 -0.723865  ... -0.498263 -0.149884 -0.577270   \n",
              "2607 -0.991258 -0.991739 -0.939091  ...  0.535472 -0.673452 -0.917552   \n",
              "2732 -0.982734 -0.985017 -0.940533  ... -0.030512 -0.130341 -0.439827   \n",
              "\n",
              "           554       555       556       557       558       559       560  \n",
              "1196  0.171742 -0.057348  0.622494 -0.421532 -0.844238  0.129549  0.126252  \n",
              "6746 -0.668277  0.214077  0.275911  0.195506 -0.835773  0.174898 -0.069622  \n",
              "6219  0.048369 -0.503804 -0.853310 -0.729661 -0.546802  0.261428  0.291004  \n",
              "4982  0.042092  0.033528  0.162483  0.373684  0.553159 -0.212752 -0.804338  \n",
              "812   0.922006  0.998425 -0.849653 -0.328409 -0.993952  0.098064  0.011644  \n",
              "...        ...       ...       ...       ...       ...       ...       ...  \n",
              "4931 -0.162713  0.515776  0.506718 -0.579462 -0.884235  0.041103  0.080667  \n",
              "3264  0.263036  0.202038  0.389661 -0.689069 -0.668749  0.218478  0.219102  \n",
              "1653 -0.041335  0.173456  0.629785 -0.385363 -0.609972 -0.111308 -0.158247  \n",
              "2607 -0.234780  0.611080  0.283389 -0.286049  0.449830 -0.699381 -0.280821  \n",
              "2732 -0.173245  0.076092  0.068383 -0.025058 -0.589129 -0.152326  0.157853  \n",
              "\n",
              "[6433 rows x 561 columns]"
            ]
          },
          "execution_count": 20,
          "metadata": {},
          "output_type": "execute_result"
        }
      ],
      "source": [
        "X_train"
      ]
    },
    {
      "cell_type": "code",
      "execution_count": null,
      "metadata": {
        "id": "YnCxCbmvAkeT"
      },
      "outputs": [],
      "source": [
        ""
      ]
    }
  ],
  "metadata": {
    "colab": {
      "collapsed_sections": [
        "CdO_O8ws5wPh",
        "HJpVmTbPlUOS",
        "AW_-4dPPlZf1"
      ],
      "name": "NN-HW3.ipynb",
      "toc_visible": true,
      "provenance": [],
      "authorship_tag": "ABX9TyMpddEgTqvg6mkD+GdbMSa6",
      "include_colab_link": true
    },
    "kernelspec": {
      "display_name": "Python 3",
      "name": "python3"
    },
    "language_info": {
      "name": "python"
    }
  },
  "nbformat": 4,
  "nbformat_minor": 0
}